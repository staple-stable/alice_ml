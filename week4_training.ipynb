{
 "cells": [
  {
   "cell_type": "markdown",
   "metadata": {},
   "source": [
    "<center>\n",
    "<img src=\"https://habrastorage.org/web/677/8e1/337/6778e1337c3d4b159d7e99df94227cb2.jpg\"/>\n",
    "## Специализация \"Машинное обучение и анализ данных\"\n",
    "<center>Автор материала: программист-исследователь Mail.Ru Group, старший преподаватель Факультета Компьютерных Наук ВШЭ [Юрий Кашницкий](https://yorko.github.io/)"
   ]
  },
  {
   "cell_type": "markdown",
   "metadata": {},
   "source": [
    "# <center> Capstone проект №1 <br> Идентификация пользователей по посещенным веб-страницам\n",
    "<img src='http://i.istockimg.com/file_thumbview_approve/21546327/5/stock-illustration-21546327-identification-de-l-utilisateur.jpg'>\n",
    "\n",
    "# <center>Неделя 4.  Сравнение алгоритмов классификации\n",
    "\n",
    "Теперь мы наконец подойдем к обучению моделей классификации, сравним на кросс-валидации несколько алгоритмов, разберемся, какие параметры длины сессии (*session_length* и *window_size*) лучше использовать. Также для выбранного алгоритма построим кривые валидации (как качество классификации зависит от одного из гиперпараметров алгоритма) и кривые обучения (как качество классификации зависит от объема выборки).\n",
    "\n",
    "**План 4 недели:**\n",
    "- Часть 1. Сравнение нескольких алгоритмов на сессиях из 10 сайтов\n",
    "- Часть 2. Выбор параметров – длины сессии и ширины окна\n",
    "- Часть 3. Идентификация  конкретного пользователя и кривые обучения\n",
    " \n",
    "\n",
    "\n",
    "**В этой части проекта Вам могут быть полезны видеозаписи следующих лекций курса \"Обучение на размеченных данных\":**\n",
    "   - [Линейная классификация](https://www.coursera.org/learn/supervised-learning/lecture/jqLcO/linieinaia-klassifikatsiia)\n",
    "   - [Сравнение алгоритмов и выбор гиперпараметров](https://www.coursera.org/learn/supervised-learning/lecture/aF79U/sravnieniie-alghoritmov-i-vybor-ghipierparamietrov)\n",
    "   - [Кросс-валидация. Sklearn.cross_validation](https://www.coursera.org/learn/supervised-learning/lecture/XbHEk/kross-validatsiia-sklearn-cross-validation)\n",
    "   - [Линейные модели. Sklearn.linear_model. Классификация](https://www.coursera.org/learn/supervised-learning/lecture/EBg9t/linieinyie-modieli-sklearn-linear-model-klassifikatsiia)\n",
    "   - и многие другие\n"
   ]
  },
  {
   "cell_type": "markdown",
   "metadata": {},
   "source": [
    "### Задание\n",
    "1. Заполните код в этой тетрадке \n",
    "2. Если вы проходите специализацию Яндеса и МФТИ, пошлите файл с ответами в соответствующем Programming Assignment. <br> Если вы проходите курс ODS, выберите ответы в [веб-форме](https://docs.google.com/forms/d/12VB7kmzDoSVzSpQNaJp0tR-2t8K8PynQopP3dypf7i4).  "
   ]
  },
  {
   "cell_type": "code",
   "execution_count": 1,
   "metadata": {
    "collapsed": true
   },
   "outputs": [],
   "source": [
    "# pip install watermark\n",
    "%load_ext watermark"
   ]
  },
  {
   "cell_type": "code",
   "execution_count": 2,
   "metadata": {},
   "outputs": [
    {
     "name": "stdout",
     "output_type": "stream",
     "text": [
      "CPython 3.6.1\n",
      "IPython 5.3.0\n",
      "\n",
      "numpy 1.12.1\n",
      "scipy 0.19.0\n",
      "pandas 0.20.1\n",
      "matplotlib 2.0.2\n",
      "statsmodels 0.8.0\n",
      "sklearn 0.19.0\n",
      "\n",
      "compiler   : MSC v.1900 64 bit (AMD64)\n",
      "system     : Windows\n",
      "release    : 7\n",
      "machine    : AMD64\n",
      "processor  : Intel64 Family 6 Model 42 Stepping 7, GenuineIntel\n",
      "CPU cores  : 4\n",
      "interpreter: 64bit\n",
      "Git hash   : d3a49ffa697851dc433a7fe9a1ec39a193159910\n"
     ]
    }
   ],
   "source": [
    "%watermark -v -m -p numpy,scipy,pandas,matplotlib,statsmodels,sklearn -g"
   ]
  },
  {
   "cell_type": "code",
   "execution_count": 3,
   "metadata": {
    "collapsed": true
   },
   "outputs": [],
   "source": [
    "from __future__ import division, print_function\n",
    "# отключим всякие предупреждения Anaconda\n",
    "import warnings\n",
    "warnings.filterwarnings('ignore')\n",
    "from time import time\n",
    "import itertools\n",
    "import os\n",
    "import numpy as np\n",
    "import pandas as pd\n",
    "import seaborn as sns\n",
    "%matplotlib inline\n",
    "from matplotlib import pyplot as plt\n",
    "import pickle\n",
    "from scipy.sparse import csr_matrix\n",
    "from sklearn.model_selection import train_test_split, cross_val_score, StratifiedKFold, GridSearchCV\n",
    "from sklearn.metrics import accuracy_score, f1_score"
   ]
  },
  {
   "cell_type": "code",
   "execution_count": 4,
   "metadata": {
    "collapsed": true
   },
   "outputs": [],
   "source": [
    "# Поменяйте на свой путь к данным\n",
    "PATH_TO_DATA = './data/'"
   ]
  },
  {
   "cell_type": "markdown",
   "metadata": {},
   "source": [
    "## Часть 1. Сравнение нескольких алгоритмов на сессиях из 10 сайтов"
   ]
  },
  {
   "cell_type": "markdown",
   "metadata": {},
   "source": [
    "**Загрузим сериализованные ранее объекты *X_sparse_10users* и *y_10users*, соответствующие обучающей выборке для 10 пользователей.**"
   ]
  },
  {
   "cell_type": "code",
   "execution_count": 5,
   "metadata": {
    "collapsed": true
   },
   "outputs": [],
   "source": [
    "with open(os.path.join(PATH_TO_DATA, \n",
    "         'X_sparse_10users.pkl'), 'rb') as X_sparse_10users_pkl:\n",
    "    X_sparse_10users = pickle.load(X_sparse_10users_pkl)\n",
    "with open(os.path.join(PATH_TO_DATA, \n",
    "                       'y_10users.pkl'), 'rb') as y_10users_pkl:\n",
    "    y_10users = pickle.load(y_10users_pkl)"
   ]
  },
  {
   "cell_type": "markdown",
   "metadata": {},
   "source": [
    "**Здесь более 14 тысяч сессий и почти 5 тысяч уникальных посещенных сайтов.**"
   ]
  },
  {
   "cell_type": "code",
   "execution_count": 6,
   "metadata": {},
   "outputs": [
    {
     "data": {
      "text/plain": [
       "(14061, 4913)"
      ]
     },
     "execution_count": 6,
     "metadata": {},
     "output_type": "execute_result"
    }
   ],
   "source": [
    "X_sparse_10users.shape"
   ]
  },
  {
   "cell_type": "markdown",
   "metadata": {},
   "source": [
    "**Разобьем выборку на 2 части. На одной будем проводить кросс-валидацию, на второй – оценивать модель, обученную после кросс-валидации.**"
   ]
  },
  {
   "cell_type": "code",
   "execution_count": 7,
   "metadata": {
    "collapsed": true
   },
   "outputs": [],
   "source": [
    "X_train, X_valid, y_train, y_valid = train_test_split(X_sparse_10users, y_10users, \n",
    "                                                      test_size=0.3, \n",
    "                                                     random_state=17, stratify=y_10users)"
   ]
  },
  {
   "cell_type": "markdown",
   "metadata": {},
   "source": [
    "**Зададим заранее тип кросс-валидации: 3-кратная, с перемешиванием, параметр random_state=17 – для воспроизводимости.**"
   ]
  },
  {
   "cell_type": "code",
   "execution_count": 8,
   "metadata": {
    "collapsed": true
   },
   "outputs": [],
   "source": [
    "skf = StratifiedKFold(n_splits=3, shuffle=True, random_state=17)"
   ]
  },
  {
   "cell_type": "markdown",
   "metadata": {},
   "source": [
    "**Вспомогательная функция для отрисовки кривых валидации после запуска GridSearchCV (или RandomizedCV).**"
   ]
  },
  {
   "cell_type": "code",
   "execution_count": 9,
   "metadata": {
    "collapsed": true
   },
   "outputs": [],
   "source": [
    "def plot_validation_curves(param_values, grid_cv_results_):\n",
    "    train_mu, train_std = grid_cv_results_['mean_train_score'], grid_cv_results_['std_train_score']\n",
    "    valid_mu, valid_std = grid_cv_results_['mean_test_score'], grid_cv_results_['std_test_score']\n",
    "    train_line = plt.plot(param_values, train_mu, '-', label='train', color='green')\n",
    "    valid_line = plt.plot(param_values, valid_mu, '-', label='test', color='red')\n",
    "    plt.fill_between(param_values, train_mu - train_std, train_mu + train_std, edgecolor='none',\n",
    "                     facecolor=train_line[0].get_color(), alpha=0.2)\n",
    "    plt.fill_between(param_values, valid_mu - valid_std, valid_mu + valid_std, edgecolor='none',\n",
    "                     facecolor=valid_line[0].get_color(), alpha=0.2)\n",
    "    plt.legend()"
   ]
  },
  {
   "cell_type": "markdown",
   "metadata": {},
   "source": [
    "**1. Обучите `KNeighborsClassifier` со 100 ближайшими соседями (остальные параметры оставьте по умолчанию, только `n_jobs`=-1 для распараллеливания) и посмотрите на долю правильных ответов на 3-кратной кросс-валидации (ради воспроизводимости используйте для этого объект `StratifiedKFold` `skf`) по выборке `(X_train, y_train)` и отдельно на выборке `(X_valid, y_valid)`.**"
   ]
  },
  {
   "cell_type": "code",
   "execution_count": 10,
   "metadata": {
    "collapsed": true
   },
   "outputs": [],
   "source": [
    "from sklearn.neighbors import KNeighborsClassifier"
   ]
  },
  {
   "cell_type": "code",
   "execution_count": 11,
   "metadata": {
    "collapsed": true
   },
   "outputs": [],
   "source": [
    "knn = KNeighborsClassifier(n_neighbors=100, n_jobs=-1) "
   ]
  },
  {
   "cell_type": "markdown",
   "metadata": {},
   "source": [
    "**<font color='red'>Вопрос 1. </font> Посчитайте доли правильных ответов для KNeighborsClassifier на кросс-валидации и отложенной выборке. Округлите каждое до 3 знаков после запятой и введите через пробел.**"
   ]
  },
  {
   "cell_type": "code",
   "execution_count": 12,
   "metadata": {},
   "outputs": [
    {
     "data": {
      "text/plain": [
       "0.56471888700633621"
      ]
     },
     "execution_count": 12,
     "metadata": {},
     "output_type": "execute_result"
    }
   ],
   "source": [
    "''' ВАШ КОД ЗДЕСЬ '''\n",
    "cross_val_score(estimator=knn, X=X_train, y=y_train, scoring=\"accuracy\", cv=skf, n_jobs=-1).mean()"
   ]
  },
  {
   "cell_type": "code",
   "execution_count": 13,
   "metadata": {},
   "outputs": [
    {
     "data": {
      "text/plain": [
       "0.58402465039108797"
      ]
     },
     "execution_count": 13,
     "metadata": {},
     "output_type": "execute_result"
    }
   ],
   "source": [
    "knn = KNeighborsClassifier(n_neighbors=100, n_jobs=-1) \n",
    "knn.fit(X_train, y_train)\n",
    "accuracy_score(knn.predict(X_valid), y_valid)"
   ]
  },
  {
   "cell_type": "markdown",
   "metadata": {},
   "source": [
    "**2. Обучите случайный лес (`RandomForestClassifier`) из 100 деревьев (для воспроизводимости `random_state`=17). Посмотрите на OOB-оценку (для этого надо сразу установить `oob_score`=True) и на долю правильных ответов на выборке `(X_valid, y_valid)`. Для распараллеливания задайте `n_jobs`=-1.**"
   ]
  },
  {
   "cell_type": "code",
   "execution_count": 14,
   "metadata": {
    "collapsed": true
   },
   "outputs": [],
   "source": [
    "from sklearn.ensemble import RandomForestClassifier"
   ]
  },
  {
   "cell_type": "code",
   "execution_count": 15,
   "metadata": {},
   "outputs": [
    {
     "name": "stdout",
     "output_type": "stream",
     "text": [
      "oob score = 0.722718959561\n"
     ]
    },
    {
     "data": {
      "text/plain": [
       "0.72884569803270916"
      ]
     },
     "execution_count": 15,
     "metadata": {},
     "output_type": "execute_result"
    }
   ],
   "source": [
    "forest = RandomForestClassifier(n_estimators=100, oob_score=True, n_jobs=-1, random_state=17)\n",
    "forest.fit(X_train, y_train)\n",
    "print(\"oob score = \" + str(forest.oob_score_))\n",
    "predictions = forest.predict(X_valid)\n",
    "accuracy_score(predictions, y_valid)"
   ]
  },
  {
   "cell_type": "markdown",
   "metadata": {},
   "source": [
    "**<font color='red'>Вопрос 2. </font> Посчитайте доли правильных ответов для `RandomForestClassifier` при Out-of-Bag оценке и на отложенной выборке. Округлите каждое до 3 знаков после запятой и введите через пробел.**"
   ]
  },
  {
   "cell_type": "code",
   "execution_count": null,
   "metadata": {
    "collapsed": true
   },
   "outputs": [],
   "source": [
    "write_answer_to_file(''' ВАШ КОД ЗДЕСЬ ''',\n",
    "                     'answer4_2.txt')"
   ]
  },
  {
   "cell_type": "code",
   "execution_count": null,
   "metadata": {
    "collapsed": true
   },
   "outputs": [],
   "source": [
    "!cat answer4_2.txt"
   ]
  },
  {
   "cell_type": "markdown",
   "metadata": {},
   "source": [
    "**3. Обучите логистическую регрессию (`LogisticRegression`) с параметром `C` по умолчанию и `random_state`=17 (для воспроизводимости). Посмотрите на долю правильных ответов на кросс-валидации (используйте объект `skf`, созданный ранее) и на выборке `(X_valid, y_valid)`. Для распараллеливания задайте `n_jobs=-1`.**"
   ]
  },
  {
   "cell_type": "code",
   "execution_count": 16,
   "metadata": {
    "collapsed": true
   },
   "outputs": [],
   "source": [
    "from sklearn.linear_model import LogisticRegression, LogisticRegressionCV"
   ]
  },
  {
   "cell_type": "code",
   "execution_count": 17,
   "metadata": {},
   "outputs": [
    {
     "name": "stdout",
     "output_type": "stream",
     "text": [
      "0.761026754367\n"
     ]
    }
   ],
   "source": [
    "logit = LogisticRegression(random_state=17)\n",
    "print(cross_val_score(estimator=logit, X=X_train, y=y_train, scoring=\"accuracy\", cv=skf, n_jobs=-1).mean())\n"
   ]
  },
  {
   "cell_type": "code",
   "execution_count": 18,
   "metadata": {},
   "outputs": [
    {
     "name": "stdout",
     "output_type": "stream",
     "text": [
      "0.781701825077\n"
     ]
    }
   ],
   "source": [
    "logit = LogisticRegression(random_state=17)\n",
    "logit.fit(X_train, y_train)\n",
    "predictions = logit.predict(X_valid)\n",
    "print(accuracy_score(predictions, y_valid))"
   ]
  },
  {
   "cell_type": "markdown",
   "metadata": {},
   "source": [
    "**Почитайте документацию к [LogisticRegressionCV](http://scikit-learn.org/stable/modules/generated/sklearn.linear_model.LogisticRegressionCV.html). Логистическая регрессия хорошо изучена, и для нее существуют алгоритмы быстрого подбора параметра регуляризации `C` (быстрее, чем с `GridSearchCV`).**\n",
    "\n",
    "**С помощью `LogisticRegressionCV` подберите параметр `C` для `LogisticRegression` сначала в широком диапазоне: 10 значений от 1e-4 до 1e2, используйте `logspace` из `NumPy`. Укажите у `LogisticRegressionCV` параметры `multi_class`='multinomial' и `random_state`=17. Для кросс-валидации используйте объект `skf`, созданный ранее. Для распараллеливания задайте `n_jobs=-1`.**\n",
    "\n",
    "**Нарисуйте кривые валидации по параметру `C`.**"
   ]
  },
  {
   "cell_type": "code",
   "execution_count": 19,
   "metadata": {},
   "outputs": [
    {
     "name": "stderr",
     "output_type": "stream",
     "text": [
      "[Parallel(n_jobs=-1)]: Done   3 out of   3 | elapsed:   32.2s finished\n"
     ]
    },
    {
     "name": "stdout",
     "output_type": "stream",
     "text": [
      "Wall time: 35.2 s\n"
     ]
    }
   ],
   "source": [
    "%%time\n",
    "logit_c_values1 = np.logspace(-4, 2, 10)\n",
    "\n",
    "logit_grid_searcher1 = LogisticRegressionCV(Cs=logit_c_values1, multi_class='multinomial',cv=skf, verbose=True, n_jobs=-1, random_state=17)\n",
    "logit_grid_searcher1.fit(X_train, y_train)"
   ]
  },
  {
   "cell_type": "markdown",
   "metadata": {},
   "source": [
    "Средние значения доли правильных ответов на кросс-валидации по каждому из 10 параметров `C`."
   ]
  },
  {
   "cell_type": "code",
   "execution_count": null,
   "metadata": {
    "collapsed": true
   },
   "outputs": [],
   "source": []
  },
  {
   "cell_type": "code",
   "execution_count": 20,
   "metadata": {},
   "outputs": [
    {
     "data": {
      "text/plain": [
       "array([ 0.31822225,  0.47337913,  0.55273512,  0.65119285,  0.71297117,\n",
       "        0.75137565,  0.75899587,  0.75686429,  0.74995626,  0.73867821])"
      ]
     },
     "execution_count": 20,
     "metadata": {},
     "output_type": "execute_result"
    }
   ],
   "source": [
    "sum(logit_grid_searcher1.scores_[241])/3"
   ]
  },
  {
   "cell_type": "code",
   "execution_count": 21,
   "metadata": {
    "collapsed": true
   },
   "outputs": [],
   "source": [
    "logit_mean_cv_scores1 = sum(logit_grid_searcher1.scores_[241])/3"
   ]
  },
  {
   "cell_type": "markdown",
   "metadata": {},
   "source": [
    "Выведите лучшее значение доли правильных ответов на кросс-валидации и соответствующее значение `C`."
   ]
  },
  {
   "cell_type": "code",
   "execution_count": 22,
   "metadata": {},
   "outputs": [
    {
     "data": {
      "text/plain": [
       "[(1.0, 0.75899587289580583),\n",
       " (4.6415888336127722, 0.7568642941986865),\n",
       " (0.21544346900318823, 0.75137564905546084),\n",
       " (21.544346900318821, 0.74995625825270384),\n",
       " (100.0, 0.73867820781645754),\n",
       " (0.046415888336127774, 0.71297117025530243),\n",
       " (0.01, 0.65119284650608078),\n",
       " (0.0021544346900318821, 0.55273511787141993),\n",
       " (0.00046415888336127773, 0.47337913259135345),\n",
       " (0.0001, 0.31822224699435825)]"
      ]
     },
     "execution_count": 22,
     "metadata": {},
     "output_type": "execute_result"
    }
   ],
   "source": [
    "''' ВАШ КОД ЗДЕСЬ '''\n",
    "import operator\n",
    "scores = list(zip(logit_c_values1, logit_mean_cv_scores1))\n",
    "sorted(scores, key=operator.itemgetter(1), reverse=True)"
   ]
  },
  {
   "cell_type": "markdown",
   "metadata": {},
   "source": [
    "Нарисуйте график зависимости доли правильных ответов на кросс-валидации от `C`."
   ]
  },
  {
   "cell_type": "code",
   "execution_count": 23,
   "metadata": {},
   "outputs": [
    {
     "data": {
      "image/png": "[encoded data removed]",
      "text/plain": [
       "<matplotlib.figure.Figure at 0xa50dcf8>"
      ]
     },
     "metadata": {},
     "output_type": "display_data"
    }
   ],
   "source": [
    "plt.plot(logit_c_values1, logit_mean_cv_scores1);"
   ]
  },
  {
   "cell_type": "markdown",
   "metadata": {},
   "source": [
    "**Теперь то же самое, только значения параметра `C` перебирайте в диапазоне `np.linspace`(0.1, 7, 20). Опять нарисуйте кривые валидации, определите максимальное значение доли правильных ответов на кросс-валидации.**"
   ]
  },
  {
   "cell_type": "code",
   "execution_count": 24,
   "metadata": {},
   "outputs": [
    {
     "name": "stderr",
     "output_type": "stream",
     "text": [
      "[Parallel(n_jobs=-1)]: Done   3 out of   3 | elapsed:  1.9min finished\n"
     ]
    },
    {
     "name": "stdout",
     "output_type": "stream",
     "text": [
      "Wall time: 1min 59s\n"
     ]
    }
   ],
   "source": [
    "%%time\n",
    "logit_c_values2 = np.linspace(0.1, 7, 20)\n",
    "\n",
    "logit_grid_searcher2 = LogisticRegressionCV(Cs=logit_c_values2, multi_class='multinomial',cv=skf, verbose=True, n_jobs=-1, random_state=17)\n",
    "logit_grid_searcher2.fit(X_train, y_train)"
   ]
  },
  {
   "cell_type": "markdown",
   "metadata": {},
   "source": [
    "Средние значения доли правильных ответов на кросс-валидации по каждому из 10 параметров `C`."
   ]
  },
  {
   "cell_type": "code",
   "execution_count": 25,
   "metadata": {
    "collapsed": true
   },
   "outputs": [],
   "source": [
    "''' ВАШ КОД ЗДЕСЬ '''\n",
    "logit_mean_cv_scores2 = sum(logit_grid_searcher2.scores_[241])/3"
   ]
  },
  {
   "cell_type": "markdown",
   "metadata": {},
   "source": [
    "Выведите лучшее значение доли правильных ответов на кросс-валидации и соответствующее значение `C`."
   ]
  },
  {
   "cell_type": "code",
   "execution_count": 26,
   "metadata": {},
   "outputs": [
    {
     "data": {
      "text/plain": [
       "[(0.4631578947368421, 0.75868969438643674),\n",
       " (0.82631578947368423, 0.75848780413985573),\n",
       " (1.9157894736842107, 0.75828569720647154),\n",
       " (1.5526315789473686, 0.75808170251215967),\n",
       " (2.2789473684210528, 0.75798088084172155),\n",
       " (1.1894736842105265, 0.75767442401824814),\n",
       " (2.642105263157895, 0.75737149581092511),\n",
       " (3.7315789473684213, 0.75716963617974509),\n",
       " (3.0052631578947371, 0.7570672984946839),\n",
       " (3.3684210526315792, 0.75686494386259662),\n",
       " (4.094736842105263, 0.75666178450709731),\n",
       " (4.4578947368421051, 0.75595074246704996),\n",
       " (4.8210526315789473, 0.75564608076530249),\n",
       " (5.1842105263157894, 0.75534240985836865),\n",
       " (5.5473684210526315, 0.75473314847867412),\n",
       " (5.9105263157894736, 0.75463211051793222),\n",
       " (6.2736842105263158, 0.75453045350868153),\n",
       " (6.6368421052631579, 0.75442919886113646),\n",
       " (7.0, 0.7539210374659846),\n",
       " (0.10000000000000001, 0.73542669834555785)]"
      ]
     },
     "execution_count": 26,
     "metadata": {},
     "output_type": "execute_result"
    }
   ],
   "source": [
    "''' ВАШ КОД ЗДЕСЬ '''\n",
    "import operator\n",
    "scores = list(zip(logit_c_values2, logit_mean_cv_scores2))\n",
    "sorted(scores, key=operator.itemgetter(1), reverse=True)"
   ]
  },
  {
   "cell_type": "markdown",
   "metadata": {},
   "source": [
    "Нарисуйте график зависимости доли правильных ответов на кросс-валидации от `C`."
   ]
  },
  {
   "cell_type": "code",
   "execution_count": 27,
   "metadata": {},
   "outputs": [
    {
     "data": {
      "image/png": "[encoded data removed]",
      "text/plain": [
       "<matplotlib.figure.Figure at 0xbbffa20>"
      ]
     },
     "metadata": {},
     "output_type": "display_data"
    }
   ],
   "source": [
    "plt.plot(logit_c_values2, logit_mean_cv_scores2);"
   ]
  },
  {
   "cell_type": "markdown",
   "metadata": {},
   "source": [
    "Выведите долю правильных ответов на выборке `(X_valid, y_valid)` для логистической регрессии с лучшим найденным значением `C`."
   ]
  },
  {
   "cell_type": "code",
   "execution_count": 28,
   "metadata": {},
   "outputs": [
    {
     "data": {
      "text/plain": [
       "0.7748281583313581"
      ]
     },
     "execution_count": 28,
     "metadata": {},
     "output_type": "execute_result"
    }
   ],
   "source": [
    "logit_cv_acc = accuracy_score(logit_grid_searcher2.predict(X_valid), y_valid)\n",
    "logit_cv_acc"
   ]
  },
  {
   "cell_type": "markdown",
   "metadata": {},
   "source": [
    "**<font color='red'>Вопрос 3. </font>Посчитайте доли правильных ответов для `logit_grid_searcher2` на кросс-валидации для лучшего значения параметра `C` и на отложенной выборке. Округлите каждое до 3 знаков после запятой и выведите через пробел.**"
   ]
  },
  {
   "cell_type": "code",
   "execution_count": null,
   "metadata": {
    "collapsed": true
   },
   "outputs": [],
   "source": [
    "''' ВАШ КОД ЗДЕСЬ '''"
   ]
  },
  {
   "cell_type": "markdown",
   "metadata": {},
   "source": [
    "**4. Обучите линейный SVM (`LinearSVC`) с параметром `C`=1 и `random_state`=17 (для воспроизводимости). Посмотрите на долю правильных ответов на кросс-валидации (используйте объект `skf`, созданный ранее) и на выборке `(X_valid, y_valid)`.**"
   ]
  },
  {
   "cell_type": "code",
   "execution_count": 29,
   "metadata": {
    "collapsed": true
   },
   "outputs": [],
   "source": [
    "from sklearn.svm import LinearSVC"
   ]
  },
  {
   "cell_type": "code",
   "execution_count": 30,
   "metadata": {},
   "outputs": [
    {
     "name": "stdout",
     "output_type": "stream",
     "text": [
      "0.752797672301\n"
     ]
    }
   ],
   "source": [
    "svm = LinearSVC(C=1, random_state=17)\n",
    "print(cross_val_score(estimator=svm, X=X_train, y=y_train, scoring=\"accuracy\", cv=skf, n_jobs=-1).mean())"
   ]
  },
  {
   "cell_type": "code",
   "execution_count": 31,
   "metadata": {},
   "outputs": [
    {
     "name": "stdout",
     "output_type": "stream",
     "text": [
      "0.781701825077\n"
     ]
    }
   ],
   "source": [
    "svm = LinearSVC(C=1, random_state=17)\n",
    "svm.fit(X_train, y_train)\n",
    "predictions = logit.predict(X_valid)\n",
    "print(accuracy_score(predictions, y_valid))"
   ]
  },
  {
   "cell_type": "markdown",
   "metadata": {},
   "source": [
    "**С помощью `GridSearchCV` подберите параметр `C` для SVM сначала в широком диапазоне: 10 значений от 1e-4 до 1e4, используйте `linspace` из NumPy. Нарисуйте кривые валидации.**"
   ]
  },
  {
   "cell_type": "code",
   "execution_count": 32,
   "metadata": {},
   "outputs": [
    {
     "name": "stdout",
     "output_type": "stream",
     "text": [
      "Wall time: 23 s\n"
     ]
    }
   ],
   "source": [
    "%%time\n",
    "svm_params1 = {'C': np.linspace(1e-4, 1e4, 10)}\n",
    "\n",
    "svm_grid_searcher1 = GridSearchCV(estimator=LinearSVC(random_state=17), param_grid=svm_params1, n_jobs=-1, cv=skf)\n",
    "svm_grid_searcher1.fit(X_train, y_train)"
   ]
  },
  {
   "cell_type": "markdown",
   "metadata": {},
   "source": [
    "Выведите лучшее значение доли правильных ответов на кросс-валидации и соответствующее значение `C`."
   ]
  },
  {
   "cell_type": "code",
   "execution_count": 33,
   "metadata": {},
   "outputs": [
    {
     "data": {
      "text/plain": [
       "[(0.0001, 0.55872790083316404),\n",
       " (1111.1112000000001, 0.67780938833570414),\n",
       " (2222.2223000000004, 0.68268644584434057),\n",
       " (3333.3334000000004, 0.68451534241007927),\n",
       " (4444.4445000000005, 0.68309286730339358),\n",
       " (5555.5556000000006, 0.66449908555171711),\n",
       " (6666.6667000000007, 0.67293233082706772),\n",
       " (7777.7778000000008, 0.68319447266815692),\n",
       " (8888.8888999999999, 0.65748831538305219),\n",
       " (10000.0, 0.65352570615728511)]"
      ]
     },
     "execution_count": 33,
     "metadata": {},
     "output_type": "execute_result"
    }
   ],
   "source": [
    "''' ВАШ КОД ЗДЕСЬ '''\n",
    "list(zip(svm_params1['C'], svm_grid_searcher1.cv_results_['mean_test_score']))"
   ]
  },
  {
   "cell_type": "markdown",
   "metadata": {},
   "source": [
    "Нарисуйте график зависимости доли правильных ответов на кросс-валидации от `C`."
   ]
  },
  {
   "cell_type": "code",
   "execution_count": 34,
   "metadata": {},
   "outputs": [
    {
     "data": {
      "image/png": "[encoded data removed]",
      "text/plain": [
       "<matplotlib.figure.Figure at 0xb673668>"
      ]
     },
     "metadata": {},
     "output_type": "display_data"
    }
   ],
   "source": [
    "plot_validation_curves(svm_params1['C'], svm_grid_searcher1.cv_results_)"
   ]
  },
  {
   "cell_type": "markdown",
   "metadata": {},
   "source": [
    "**Но мы помним, что с параметром регуляризации по умолчанию (С=1) на кросс-валидации доля правильных ответов выше. Это тот случай (не редкий), когда можно ошибиться и перебирать параметры не в том диапазоне (причина в том, что мы взяли равномерную сетку на большом интервале и упустили действительно хороший интервал значений `C`). Здесь намного осмысленней подбирать `C` в районе 1, к тому же, так модель быстрее обучается, чем при больших `C`. **\n",
    "\n",
    "**С помощью `GridSearchCV` подберите параметр `C` для SVM в диапазоне (1e-3, 1), 30 значений, используйте `linspace` из NumPy. Нарисуйте кривые валидации.**"
   ]
  },
  {
   "cell_type": "code",
   "execution_count": 35,
   "metadata": {},
   "outputs": [
    {
     "name": "stdout",
     "output_type": "stream",
     "text": [
      "Wall time: 33.6 s\n"
     ]
    }
   ],
   "source": [
    "%%time\n",
    "svm_params2 = {'C': np.linspace(1e-3, 1, 30)}\n",
    "\n",
    "svm_grid_searcher2 = GridSearchCV(estimator=LinearSVC(random_state=17), param_grid=svm_params2, n_jobs=-1, cv=skf)\n",
    "svm_grid_searcher2.fit(X_train, y_train)"
   ]
  },
  {
   "cell_type": "markdown",
   "metadata": {},
   "source": [
    "Выведите лучшее значение доли правильных ответов на кросс-валидации и соответствующее значение `C`."
   ]
  },
  {
   "cell_type": "code",
   "execution_count": 36,
   "metadata": {},
   "outputs": [
    {
     "data": {
      "text/plain": [
       "[(0.001, 0.66287339971550496),\n",
       " (0.035448275862068966, 0.75848404795773217),\n",
       " (0.069896551724137931, 0.76254826254826258),\n",
       " (0.10434482758620689, 0.76468197520829095),\n",
       " (0.13879310344827586, 0.76336110546636859),\n",
       " (0.17324137931034483, 0.76285307864255236),\n",
       " (0.20768965517241378, 0.76224344645397279),\n",
       " (0.24213793103448275, 0.76173541963015645),\n",
       " (0.27658620689655172, 0.76122739280634022),\n",
       " (0.31103448275862067, 0.76092257671205044),\n",
       " (0.34548275862068967, 0.76051615525299732),\n",
       " (0.37993103448275861, 0.76061776061776065),\n",
       " (0.41437931034482756, 0.75980491769965453),\n",
       " (0.44882758620689656, 0.75899207478154851),\n",
       " (0.4832758620689655, 0.75838244259296894),\n",
       " (0.51772413793103444, 0.75736638894533637),\n",
       " (0.55217241379310344, 0.75746799431009959),\n",
       " (0.58662068965517244, 0.75706157285104658),\n",
       " (0.62106896551724133, 0.75655354602723024),\n",
       " (0.65551724137931033, 0.75655354602723024),\n",
       " (0.68996551724137933, 0.75624872993294046),\n",
       " (0.72441379310344822, 0.7560455192034139),\n",
       " (0.75886206896551722, 0.75543588701483433),\n",
       " (0.79331034482758622, 0.75502946555578132),\n",
       " (0.82775862068965511, 0.75391180654338552),\n",
       " (0.86220689655172411, 0.75401341190814875),\n",
       " (0.89665517241379311, 0.7535053850843324),\n",
       " (0.93110344827586211, 0.75320056899004273),\n",
       " (0.965551724137931, 0.75279414753098961),\n",
       " (1.0, 0.75279414753098961)]"
      ]
     },
     "execution_count": 36,
     "metadata": {},
     "output_type": "execute_result"
    }
   ],
   "source": [
    "''' ВАШ КОД ЗДЕСЬ '''\n",
    "list(zip(svm_params2['C'], svm_grid_searcher2.cv_results_['mean_test_score']))"
   ]
  },
  {
   "cell_type": "markdown",
   "metadata": {},
   "source": [
    "Нарисуйте график зависимости доли правильных ответов на кросс-валидации от С."
   ]
  },
  {
   "cell_type": "code",
   "execution_count": 37,
   "metadata": {},
   "outputs": [
    {
     "data": {
      "image/png": "[encoded data removed]",
      "text/plain": [
       "<matplotlib.figure.Figure at 0x5eae358>"
      ]
     },
     "metadata": {},
     "output_type": "display_data"
    }
   ],
   "source": [
    "plot_validation_curves(svm_params2['C'], svm_grid_searcher2.cv_results_)"
   ]
  },
  {
   "cell_type": "markdown",
   "metadata": {},
   "source": [
    "Выведите долю правильных ответов на выборке `(X_valid, y_valid)` для `LinearSVC` с лучшим найденным значением `C`."
   ]
  },
  {
   "cell_type": "code",
   "execution_count": 38,
   "metadata": {
    "collapsed": true
   },
   "outputs": [],
   "source": [
    "C=0.10434482758620689\n",
    "svm_cv_acc = accuracy_score(svm_grid_searcher2.best_estimator_.predict(X_valid), y_valid)"
   ]
  },
  {
   "cell_type": "code",
   "execution_count": 39,
   "metadata": {},
   "outputs": [
    {
     "data": {
      "text/plain": [
       "0.78075373311211183"
      ]
     },
     "execution_count": 39,
     "metadata": {},
     "output_type": "execute_result"
    }
   ],
   "source": [
    "svm_cv_acc"
   ]
  },
  {
   "cell_type": "markdown",
   "metadata": {},
   "source": [
    "**<font color='red'>Вопрос 4. </font> Посчитайте доли правильных ответов для `svm_grid_searcher2` на кросс-валидации для лучшего значения параметра `C` и на отложенной выборке. Округлите каждое до 3 знаков после запятой и выведите через пробел.**"
   ]
  },
  {
   "cell_type": "code",
   "execution_count": 69,
   "metadata": {},
   "outputs": [
    {
     "data": {
      "text/plain": [
       "0.7807537331121118"
      ]
     },
     "execution_count": 69,
     "metadata": {},
     "output_type": "execute_result"
    }
   ],
   "source": [
    "''' ВАШ КОД ЗДЕСЬ '''\n",
    "0.764681975208291\n",
    "0.7807537331121118"
   ]
  },
  {
   "cell_type": "markdown",
   "metadata": {},
   "source": [
    "## Часть 2. Выбор параметров – длины сессии и ширины окна"
   ]
  },
  {
   "cell_type": "markdown",
   "metadata": {},
   "source": [
    "**Возьмем `LinearSVC`, показавший лучшее качество на кросс-валидации в 1 части, и проверим его работу еще на 8 выборках для 10 пользователей (с разными сочетаниями параметров *session_length* и *window_size*). Поскольку тут уже вычислений побольше, мы не будем каждый раз заново подбирать параметр регуляризации `C`.**\n",
    "\n",
    "**Определите функцию `model_assessment`, ее документация описана ниже. Обратите внимание на все детали. Например, на то, что разбиение  выборки с `train_test_split` должно быть стратифицированным. Не теряйте нигде `random_state`.**"
   ]
  },
  {
   "cell_type": "code",
   "execution_count": 40,
   "metadata": {
    "collapsed": true
   },
   "outputs": [],
   "source": [
    "def model_assessment(estimator, path_to_X_pickle, path_to_y_pickle, cv, random_state=17, test_size=0.3):\n",
    "    '''\n",
    "    Estimates CV-accuracy for (1 - test_size) share of (X_sparse, y) \n",
    "    loaded from path_to_X_pickle and path_to_y_pickle and holdout accuracy for (test_size) share of (X_sparse, y).\n",
    "    The split is made with stratified train_test_split with params random_state and test_size.\n",
    "    \n",
    "    :param estimator – Scikit-learn estimator (classifier or regressor)\n",
    "    :param path_to_X_pickle – path to pickled sparse X (instances and their features)\n",
    "    :param path_to_y_pickle – path to pickled y (responses)\n",
    "    :param cv – cross-validation as in cross_val_score (use StratifiedKFold here)\n",
    "    :param random_state –  for train_test_split\n",
    "    :param test_size –  for train_test_split\n",
    "    \n",
    "    :returns mean CV-accuracy for (X_train, y_train) and accuracy for (X_valid, y_valid) where (X_train, y_train)\n",
    "    and (X_valid, y_valid) are (1 - test_size) and (testsize) shares of (X_sparse, y).\n",
    "    '''\n",
    "    \n",
    "    with open(path_to_X_pickle, 'rb') as X_pkl:\n",
    "        X_sparse = pickle.load(X_pkl)\n",
    "    with open(path_to_y_pickle, 'rb') as y_pkl:\n",
    "        y = pickle.load(y_pkl)\n",
    "    X_train, X_valid, y_train, y_valid = train_test_split(X_sparse, y, test_size=test_size, \n",
    "                                                          random_state=17, stratify=y)\n",
    "#     skf = StratifiedKFold(n_splits=3, shuffle=True, random_state=17)\n",
    "    cv_score = cross_val_score(estimator=estimator, X=X_train, y=y_train, scoring=\"accuracy\", cv=skf, n_jobs=-1).mean()\n",
    "    \n",
    "    estimator.fit(X_train, y_train)\n",
    "    predictions = estimator.predict(X_valid)\n",
    "    valid_score = accuracy_score(predictions, y_valid)\n",
    "    return (cv_score, valid_score)"
   ]
  },
  {
   "cell_type": "markdown",
   "metadata": {},
   "source": [
    "**Убедитесь, что функция работает.**"
   ]
  },
  {
   "cell_type": "code",
   "execution_count": 41,
   "metadata": {},
   "outputs": [
    {
     "data": {
      "text/plain": [
       "(0.76468532445509807, 0.78075373311211183)"
      ]
     },
     "execution_count": 41,
     "metadata": {},
     "output_type": "execute_result"
    }
   ],
   "source": [
    "model_assessment(svm_grid_searcher2.best_estimator_, \n",
    "                 os.path.join(PATH_TO_DATA, 'X_sparse_10users.pkl'),\n",
    "        os.path.join(PATH_TO_DATA, 'y_10users.pkl'), skf, random_state=17, test_size=0.3)"
   ]
  },
  {
   "cell_type": "markdown",
   "metadata": {},
   "source": [
    "**Примените функцию *model_assessment* для лучшего алгоритма из предыдущей части (а именно, `svm_grid_searcher2.best_estimator_`) и 9 выборок вида с разными сочетаниями параметров *session_length* и *window_size* для 10 пользователей. Выведите в цикле параметры *session_length* и *window_size*, а также результат вывода функции *model_assessment*. \n",
    "Удобно сделать так, чтоб *model_assessment* возвращала 3-им элементом время, за которое она выполнилась. На моем ноуте этот участок кода выполнился за 20 секунд. Но со 150 пользователями каждая итерация занимает уже несколько минут.**"
   ]
  },
  {
   "cell_type": "markdown",
   "metadata": {},
   "source": [
    "Здесь для удобства стоит создать копии ранее созданных pickle-файлов X_sparse_10users.pkl, X_sparse_150users.pkl, y_10users.pkl и y_150users.pkl, добавив к их названиям s10_w10, что означает длину сессии 10 и ширину окна 10. "
   ]
  },
  {
   "cell_type": "code",
   "execution_count": 42,
   "metadata": {
    "collapsed": true
   },
   "outputs": [],
   "source": [
    "!cp $PATH_TO_DATA/X_sparse_10users.pkl $PATH_TO_DATA/X_sparse_10users_s10_w10.pkl \n",
    "!cp $PATH_TO_DATA/X_sparse_150users.pkl $PATH_TO_DATA/X_sparse_150users_s10_w10.pkl \n",
    "!cp $PATH_TO_DATA/y_10users.pkl $PATH_TO_DATA/y_10users_s10_w10.pkl \n",
    "!cp $PATH_TO_DATA/y_150users.pkl $PATH_TO_DATA/y_150users_s10_w10.pkl "
   ]
  },
  {
   "cell_type": "code",
   "execution_count": 43,
   "metadata": {},
   "outputs": [
    {
     "name": "stdout",
     "output_type": "stream",
     "text": [
      "10 15\n",
      "(0.82382149552781048, 0.84048352690210948)\n",
      "10 10\n",
      "(0.76468532445509807, 0.78075373311211183)\n",
      "7 15\n",
      "(0.84794037698440983, 0.85432221669155473)\n",
      "7 10\n",
      "(0.79701614637346518, 0.80736684917869583)\n",
      "7 7\n",
      "(0.75298911148303416, 0.76173884187821472)\n",
      "5 15\n",
      "(0.86800137255434695, 0.87529634898055952)\n",
      "5 10\n",
      "(0.81592472053180387, 0.82456140350877194)\n",
      "5 7\n",
      "(0.77405867456322597, 0.78532479848269321)\n",
      "5 5\n",
      "(0.72528306503988282, 0.73624940730203892)\n",
      "Wall time: 33.5 s\n"
     ]
    }
   ],
   "source": [
    "%%time\n",
    "estimator = svm_grid_searcher2.best_estimator_\n",
    "\n",
    "for window_size, session_length in itertools.product([10, 7, 5], [15, 10, 7, 5]):\n",
    "    if window_size <= session_length:\n",
    "        path_to_X_pkl = os.path.join(PATH_TO_DATA, 'X_sparse_10users_s{}_w{}.pkl'.format(session_length, window_size))\n",
    "        path_to_y_pkl = os.path.join(PATH_TO_DATA, 'y_10users_s{}_w{}.pkl'.format(session_length, window_size))\n",
    "        print(str(window_size) + \" \" + str(session_length))\n",
    "        print(model_assessment(estimator, path_to_X_pkl, path_to_y_pkl, skf, random_state=17, test_size=0.3))"
   ]
  },
  {
   "cell_type": "markdown",
   "metadata": {},
   "source": [
    "**<font color='red'>Вопрос 5. </font> Посчитайте доли правильных ответов для `LinearSVC` с настроенным параметром `C` и выборки `X_sparse_10users_s15_w5`. Укажите доли правильных ответов на кросс-валидации и на отложенной выборке. Округлите каждое до 3 знаков после запятой и выведите через пробел.**"
   ]
  },
  {
   "cell_type": "code",
   "execution_count": 82,
   "metadata": {},
   "outputs": [
    {
     "data": {
      "text/plain": [
       "(0.868001372554347, 0.8752963489805595)"
      ]
     },
     "execution_count": 82,
     "metadata": {},
     "output_type": "execute_result"
    }
   ],
   "source": [
    "(0.868001372554347, 0.8752963489805595)"
   ]
  },
  {
   "cell_type": "markdown",
   "metadata": {},
   "source": [
    "**Прокомментируйте полученные результаты. Сравните для 150 пользователей доли правильных ответов на кросс-валидации и оставленной выборке для сочетаний параметров (*session_length, window_size*): (5,5), (7,7) и (10,10). На среднем ноуте это может занять до часа – запаситесь терпением, это Data Science :) **\n",
    "\n",
    "**Сделайте вывод о том, как качество классификации зависит от длины сессии и ширины окна.**"
   ]
  },
  {
   "cell_type": "code",
   "execution_count": 44,
   "metadata": {},
   "outputs": [
    {
     "name": "stdout",
     "output_type": "stream",
     "text": [
      "5 5\n",
      "(0.40858659509908596, 0.42171606560568453)\n",
      "7 7\n",
      "(0.43638649409423974, 0.45295840855673264)\n",
      "10 10\n",
      "(0.46125889994279129, 0.48362769425388019)\n",
      "Wall time: 14min 38s\n"
     ]
    }
   ],
   "source": [
    "%%time\n",
    "estimator = svm_grid_searcher2.best_estimator_\n",
    "\n",
    "for window_size, session_length in [(5,5), (7,7), (10,10)]:\n",
    "    path_to_X_pkl = os.path.join(PATH_TO_DATA, 'X_sparse_150users_s{}_w{}.pkl'.format(session_length, window_size))\n",
    "    path_to_y_pkl = os.path.join(PATH_TO_DATA, 'y_150users_s{}_w{}.pkl'.format(session_length, window_size))\n",
    "    print(str(window_size) + \" \" + str(session_length))\n",
    "    print(model_assessment(estimator, path_to_X_pkl, path_to_y_pkl, skf, random_state=17, test_size=0.3))"
   ]
  },
  {
   "cell_type": "markdown",
   "metadata": {},
   "source": [
    "**<font color='red'>Вопрос 6. </font> Посчитайте доли правильных ответов для `LinearSVC` с настроенным параметром `C` и выборки `X_sparse_150users`. Укажите доли правильных ответов на кросс-валидации и на отложенной выборке. Округлите каждое до 3 знаков после запятой и выведите через пробел.**"
   ]
  },
  {
   "cell_type": "code",
   "execution_count": 84,
   "metadata": {},
   "outputs": [
    {
     "data": {
      "text/plain": [
       "(0.4612588999427913, 0.4836276942538802)"
      ]
     },
     "execution_count": 84,
     "metadata": {},
     "output_type": "execute_result"
    }
   ],
   "source": [
    "(0.4612588999427913, 0.4836276942538802)\n"
   ]
  },
  {
   "cell_type": "markdown",
   "metadata": {},
   "source": [
    "## Часть 3. Идентификация  конкретного пользователя и кривые обучения"
   ]
  },
  {
   "cell_type": "markdown",
   "metadata": {},
   "source": [
    "**Поскольку может разочаровать, что многоклассовая доля правильных ответов на выборке из 150 пользовалей невелика, порадуемся тому, что конкретного пользователя можно идентифицировать достаточно хорошо. **"
   ]
  },
  {
   "cell_type": "markdown",
   "metadata": {},
   "source": [
    "**Загрузим сериализованные ранее объекты *X_sparse_150users* и *y_150users*, соответствующие обучающей выборке для 150 пользователей с параметрами (*session_length, window_size*) = (10,10). Так же точно разобьем их на 70% и 30%.**"
   ]
  },
  {
   "cell_type": "code",
   "execution_count": 45,
   "metadata": {
    "collapsed": true
   },
   "outputs": [],
   "source": [
    "with open(os.path.join(PATH_TO_DATA, 'X_sparse_150users.pkl'), 'rb') as X_sparse_150users_pkl:\n",
    "     X_sparse_150users = pickle.load(X_sparse_150users_pkl)\n",
    "with open(os.path.join(PATH_TO_DATA, 'y_150users.pkl'), 'rb') as y_150users_pkl:\n",
    "    y_150users = pickle.load(y_150users_pkl)"
   ]
  },
  {
   "cell_type": "code",
   "execution_count": 46,
   "metadata": {
    "collapsed": true
   },
   "outputs": [],
   "source": [
    "X_train_150, X_valid_150, y_train_150, y_valid_150 = train_test_split(X_sparse_150users, \n",
    "                                                                      y_150users, test_size=0.3, \n",
    "                                                     random_state=17, stratify=y_150users)"
   ]
  },
  {
   "cell_type": "markdown",
   "metadata": {},
   "source": [
    "**Обучите `LogisticRegressionCV` для одного значения параметра `C` (лучшего на кросс-валидации в 1 части, используйте точное значение, не на глаз). Теперь будем решать 150 задач \"Один-против-Всех\", поэтому укажите аргумент `multi_class`='ovr'. Как всегда, где возможно, указывайте `n_jobs=-1` и `random_state`=17.**"
   ]
  },
  {
   "cell_type": "code",
   "execution_count": 47,
   "metadata": {},
   "outputs": [
    {
     "name": "stdout",
     "output_type": "stream",
     "text": [
      "Wall time: 13min 44s\n"
     ]
    }
   ],
   "source": [
    "%%time\n",
    "C = [0.4631578947368421]\n",
    "logit_cv_150users = LogisticRegressionCV(Cs=C, multi_class='ovr', n_jobs=-1, random_state=17, cv=skf)\n",
    "logit_cv_150users.fit(X_train_150, y_train_150)"
   ]
  },
  {
   "cell_type": "markdown",
   "metadata": {},
   "source": [
    "**Посмотрите на средние доли правильных ответов на кросс-валидации в задаче идентификации каждого пользователя по отдельности.**"
   ]
  },
  {
   "cell_type": "code",
   "execution_count": 89,
   "metadata": {},
   "outputs": [
    {
     "data": {
      "text/plain": [
       "{6: array([[0.9961279 ],\n",
       "        [0.9959019 ],\n",
       "        [0.99548915]]), 13: array([[0.99628404],\n",
       "        [0.99615216],\n",
       "        [0.99627228]]), 15: array([[0.99519111],\n",
       "        [0.99505725],\n",
       "        [0.99517589]]), 16: array([[0.99203722],\n",
       "        [0.99202277],\n",
       "        [0.99122889]]), 28: array([[0.99003872],\n",
       "        [0.98998936],\n",
       "        [0.99006986]]), 31: array([[0.99450412],\n",
       "        [0.9947757 ],\n",
       "        [0.99451806]]), 33: array([[0.99362978],\n",
       "        [0.99374335],\n",
       "        [0.99351565]]), 39: array([[0.98597927],\n",
       "        [0.98532816],\n",
       "        [0.98593491]]), 46: array([[0.99806395],\n",
       "        [0.99768504],\n",
       "        [0.99818313]]), 49: array([[0.99503497],\n",
       "        [0.99474442],\n",
       "        [0.99501927]]), 50: array([[0.99425431],\n",
       "        [0.99468185],\n",
       "        [0.99451806]]), 53: array([[0.99362978],\n",
       "        [0.99371207],\n",
       "        [0.99348432]]), 65: array([[0.99697102],\n",
       "        [0.99693424],\n",
       "        [0.99708674]]), 66: array([[0.99509743],\n",
       "        [0.99490083],\n",
       "        [0.99489396]]), 82: array([[0.99637772],\n",
       "        [0.99637114],\n",
       "        [0.99633493]]), 85: array([[0.99625281],\n",
       "        [0.99621473],\n",
       "        [0.99649156]]), 89: array([[0.99041344],\n",
       "        [0.99067759],\n",
       "        [0.99044576]]), 92: array([[0.99422308],\n",
       "        [0.99433773],\n",
       "        [0.99451806]]), 100: array([[0.99481639],\n",
       "        [0.99461928],\n",
       "        [0.99470601]]), 102: array([[0.99113165],\n",
       "        [0.99083401],\n",
       "        [0.9916048 ]]), 103: array([[0.97951536],\n",
       "        [0.97963461],\n",
       "        [0.98042164]]), 105: array([[0.99684612],\n",
       "        [0.99659013],\n",
       "        [0.99702409]]), 106: array([[0.99478516],\n",
       "        [0.9944003 ],\n",
       "        [0.99433011]]), 118: array([[0.99069448],\n",
       "        [0.99077144],\n",
       "        [0.99050841]]), 119: array([[0.99656508],\n",
       "        [0.99652756],\n",
       "        [0.99671084]]), 120: array([[0.9944729 ],\n",
       "        [0.99399362],\n",
       "        [0.99414215]]), 126: array([[0.99512865],\n",
       "        [0.99490083],\n",
       "        [0.99495661]]), 127: array([[0.99150637],\n",
       "        [0.99045861],\n",
       "        [0.99122889]]), 128: array([[0.98416812],\n",
       "        [0.98501533],\n",
       "        [0.98455659]]), 138: array([[0.99722083],\n",
       "        [0.99721579],\n",
       "        [0.99714939]]), 158: array([[0.99703347],\n",
       "        [0.99693424],\n",
       "        [0.99718072]]), 160: array([[0.99690857],\n",
       "        [0.99693424],\n",
       "        [0.99674216]]), 165: array([[0.99731451],\n",
       "        [0.99724708],\n",
       "        [0.99733734]]), 172: array([[0.99653385],\n",
       "        [0.99649628],\n",
       "        [0.99658553]]), 177: array([[0.99678366],\n",
       "        [0.99680911],\n",
       "        [0.99693011]]), 203: array([[0.99715838],\n",
       "        [0.99743477],\n",
       "        [0.99733734]]), 207: array([[0.98729078],\n",
       "        [0.98670462],\n",
       "        [0.98825298]]), 223: array([[0.99653385],\n",
       "        [0.99646499],\n",
       "        [0.99646023]]), 233: array([[0.99640894],\n",
       "        [0.99630858],\n",
       "        [0.99624095]]), 235: array([[0.99672121],\n",
       "        [0.99665269],\n",
       "        [0.99674216]]), 236: array([[0.98960155],\n",
       "        [0.99039605],\n",
       "        [0.99025781]]), 237: array([[0.98932051],\n",
       "        [0.98930113],\n",
       "        [0.98894214]]), 238: array([[0.99634649],\n",
       "        [0.99633986],\n",
       "        [0.99620963]]), 240: array([[0.99584686],\n",
       "        [0.9959019 ],\n",
       "        [0.9956771 ]]), 241: array([[0.99603422],\n",
       "        [0.99602703],\n",
       "        [0.99602168]]), 242: array([[0.99515988],\n",
       "        [0.99502597],\n",
       "        [0.99479999]]), 245: array([[0.99609668],\n",
       "        [0.99587061],\n",
       "        [0.99608433]]), 246: array([[0.99697102],\n",
       "        [0.99709066],\n",
       "        [0.99705541]]), 249: array([[0.9950662 ],\n",
       "        [0.9951511 ],\n",
       "        [0.99520722]]), 252: array([[0.99637772],\n",
       "        [0.99655884],\n",
       "        [0.99636626]]), 254: array([[0.99175618],\n",
       "        [0.99145968],\n",
       "        [0.99169878]]), 256: array([[0.99619036],\n",
       "        [0.9960896 ],\n",
       "        [0.996053  ]]), 258: array([[0.99597177],\n",
       "        [0.99577676],\n",
       "        [0.99561445]]), 259: array([[0.99494129],\n",
       "        [0.99518238],\n",
       "        [0.99514457]]), 260: array([[0.99728329],\n",
       "        [0.99724708],\n",
       "        [0.99730602]]), 261: array([[0.98922683],\n",
       "        [0.98961396],\n",
       "        [0.99013251]]), 263: array([[0.99256807],\n",
       "        [0.99277357],\n",
       "        [0.99257589]]), 264: array([[0.99687734],\n",
       "        [0.99652756],\n",
       "        [0.99661686]]), 269: array([[0.98704097],\n",
       "        [0.98711131],\n",
       "        [0.98696864]]), 270: array([[0.98963278],\n",
       "        [0.9886129 ],\n",
       "        [0.98862889]]), 273: array([[0.99434799],\n",
       "        [0.99455672],\n",
       "        [0.99436143]]), 287: array([[0.99022608],\n",
       "        [0.99061503],\n",
       "        [0.99022648]]), 294: array([[0.99584686],\n",
       "        [0.99599575],\n",
       "        [0.99599035]]), 298: array([[0.99141269],\n",
       "        [0.99070888],\n",
       "        [0.99097829]]), 301: array([[0.99715838],\n",
       "        [0.99680911],\n",
       "        [0.99724337]]), 308: array([[0.99572196],\n",
       "        [0.9955265 ],\n",
       "        [0.9958024 ]]), 315: array([[0.99759555],\n",
       "        [0.99734092],\n",
       "        [0.99730602]]), 318: array([[0.99584686],\n",
       "        [0.99565163],\n",
       "        [0.99570842]]), 327: array([[0.99662753],\n",
       "        [0.99668398],\n",
       "        [0.99671084]]), 332: array([[0.99678366],\n",
       "        [0.99665269],\n",
       "        [0.99696144]]), 333: array([[0.99590932],\n",
       "        [0.99618344],\n",
       "        [0.9961783 ]]), 339: array([[0.99722083],\n",
       "        [0.99690296],\n",
       "        [0.99686746]]), 340: array([[0.99675244],\n",
       "        [0.99668398],\n",
       "        [0.99674216]]), 342: array([[0.99209968],\n",
       "        [0.99227304],\n",
       "        [0.99235661]]), 344: array([[0.99681489],\n",
       "        [0.99677783],\n",
       "        [0.99661686]]), 351: array([[0.99256807],\n",
       "        [0.99214791],\n",
       "        [0.99241926]]), 356: array([[0.99747065],\n",
       "        [0.99762247],\n",
       "        [0.9975253 ]]), 361: array([[0.99665876],\n",
       "        [0.99659013],\n",
       "        [0.99649156]]), 363: array([[0.99634649],\n",
       "        [0.99630858],\n",
       "        [0.99658553]]), 411: array([[0.99081939],\n",
       "        [0.99052118],\n",
       "        [0.99107227]]), 417: array([[0.99672121],\n",
       "        [0.99690296],\n",
       "        [0.99693011]]), 425: array([[0.99431676],\n",
       "        [0.99427517],\n",
       "        [0.99429878]]), 430: array([[0.99640894],\n",
       "        [0.9960896 ],\n",
       "        [0.996053  ]]), 435: array([[0.9970647 ],\n",
       "        [0.99709066],\n",
       "        [0.99721204]]), 436: array([[0.99519111],\n",
       "        [0.9951511 ],\n",
       "        [0.99508192]]), 440: array([[0.99722083],\n",
       "        [0.99721579],\n",
       "        [0.99696144]]), 444: array([[0.99740819],\n",
       "        [0.99746606],\n",
       "        [0.9975253 ]]), 475: array([[0.98913315],\n",
       "        [0.98942627],\n",
       "        [0.98931805]]), 476: array([[0.99675244],\n",
       "        [0.99699681],\n",
       "        [0.99674216]]), 486: array([[0.99559705],\n",
       "        [0.99518238],\n",
       "        [0.99539517]]), 515: array([[0.9941294 ],\n",
       "        [0.99418132],\n",
       "        [0.99426746]]), 533: array([[0.99356732],\n",
       "        [0.9936495 ],\n",
       "        [0.99376625]]), 561: array([[0.98491756],\n",
       "        [0.98401427],\n",
       "        [0.98455659]]), 563: array([[0.99697102],\n",
       "        [0.99680911],\n",
       "        [0.99686746]]), 564: array([[0.99556583],\n",
       "        [0.9955265 ],\n",
       "        [0.99545782]]), 568: array([[0.99194354],\n",
       "        [0.99202277],\n",
       "        [0.99176143]]), 569: array([[0.98903947],\n",
       "        [0.98933242],\n",
       "        [0.989506  ]]), 570: array([[0.99812641],\n",
       "        [0.99824814],\n",
       "        [0.99840241]]), 573: array([[0.99125656],\n",
       "        [0.99092786],\n",
       "        [0.99085299]]), 575: array([[0.98982013],\n",
       "        [0.99017706],\n",
       "        [0.99013251]]), 576: array([[0.99431676],\n",
       "        [0.99446287],\n",
       "        [0.99429878]]), 580: array([[0.98675993],\n",
       "        [0.98636051],\n",
       "        [0.98640479]]), 583: array([[0.98063952],\n",
       "        [0.98060439],\n",
       "        [0.97988911]]), 584: array([[0.98167   ],\n",
       "        [0.98138647],\n",
       "        [0.98095417]]), 600: array([[0.99163128],\n",
       "        [0.99145968],\n",
       "        [0.99141685]]), 603: array([[0.99556583],\n",
       "        [0.99568291],\n",
       "        [0.9955518 ]]), 605: array([[0.99715838],\n",
       "        [0.99768504],\n",
       "        [0.99705541]]), 640: array([[0.99709593],\n",
       "        [0.99709066],\n",
       "        [0.99727469]]), 647: array([[0.99740819],\n",
       "        [0.99765376],\n",
       "        [0.99702409]]), 653: array([[0.99743942],\n",
       "        [0.99737221],\n",
       "        [0.99736867]]), 664: array([[0.99515988],\n",
       "        [0.9953388 ],\n",
       "        [0.99539517]]), 665: array([[0.9969398 ],\n",
       "        [0.99715323],\n",
       "        [0.99689879]]), 677: array([[0.99675244],\n",
       "        [0.99655884],\n",
       "        [0.99658553]]), 692: array([[0.99697102],\n",
       "        [0.99696553],\n",
       "        [0.99689879]]), 697: array([[0.99584686],\n",
       "        [0.9957142 ],\n",
       "        [0.9956771 ]]), 705: array([[0.9964714 ],\n",
       "        [0.99652756],\n",
       "        [0.99639758]]), 722: array([[0.99462903],\n",
       "        [0.99443158],\n",
       "        [0.99445541]]), 740: array([[0.99662753],\n",
       "        [0.99668398],\n",
       "        [0.99693011]]), 741: array([[0.99715838],\n",
       "        [0.99693424],\n",
       "        [0.99705541]]), 756: array([[0.99556583],\n",
       "        [0.99530751],\n",
       "        [0.99548915]]), 780: array([[0.9961279 ],\n",
       "        [0.99662141],\n",
       "        [0.99649156]]), 784: array([[0.99637772],\n",
       "        [0.99630858],\n",
       "        [0.99658553]]), 785: array([[0.99731451],\n",
       "        [0.99727836],\n",
       "        [0.99711807]]), 797: array([[0.9955346 ],\n",
       "        [0.9960896 ],\n",
       "        [0.99558312]]), 812: array([[0.9944729 ],\n",
       "        [0.9947757 ],\n",
       "        [0.99445541]]), 844: array([[0.9970647 ],\n",
       "        [0.99696553],\n",
       "        [0.99693011]]), 859: array([[0.99803273],\n",
       "        [0.99802916],\n",
       "        [0.9981518 ]]), 868: array([[0.99668998],\n",
       "        [0.99677783],\n",
       "        [0.99677349]]), 875: array([[0.99500375],\n",
       "        [0.9957142 ],\n",
       "        [0.9955518 ]]), 932: array([[0.9901324 ],\n",
       "        [0.99039605],\n",
       "        [0.99013251]]), 996: array([[0.99272421],\n",
       "        [0.99264844],\n",
       "        [0.99241926]]), 1014: array([[0.99725206],\n",
       "        [0.99684039],\n",
       "        [0.99683614]]), 1040: array([[0.99715838],\n",
       "        [0.99671526],\n",
       "        [0.99683614]]), 1054: array([[0.99650262],\n",
       "        [0.99630858],\n",
       "        [0.99661686]]), 1248: array([[0.99768923],\n",
       "        [0.99755991],\n",
       "        [0.99786987]]), 1267: array([[0.99747065],\n",
       "        [0.99749734],\n",
       "        [0.99718072]]), 1299: array([[0.99675244],\n",
       "        [0.99693424],\n",
       "        [0.99699276]]), 1371: array([[0.99347364],\n",
       "        [0.99355565],\n",
       "        [0.99295179]]), 1797: array([[0.99434799],\n",
       "        [0.99471313],\n",
       "        [0.99414215]]), 1798: array([[0.99606545],\n",
       "        [0.99605831],\n",
       "        [0.99667951]]), 1993: array([[0.99653385],\n",
       "        [0.99680911],\n",
       "        [0.99680481]]), 2118: array([[0.99759555],\n",
       "        [0.99746606],\n",
       "        [0.99774457]]), 2174: array([[0.99559705],\n",
       "        [0.99555778],\n",
       "        [0.99558312]]), 2191: array([[0.99525356],\n",
       "        [0.99524495],\n",
       "        [0.99508192]]), 2250: array([[0.99743942],\n",
       "        [0.99734092],\n",
       "        [0.99746264]]), 2355: array([[0.99587809],\n",
       "        [0.99490083],\n",
       "        [0.99570842]]), 2408: array([[0.99291157],\n",
       "        [0.99377464],\n",
       "        [0.99360962]]), 2493: array([[0.9965963 ],\n",
       "        [0.99655884],\n",
       "        [0.99646023]]), 2625: array([[0.99562828],\n",
       "        [0.99615216],\n",
       "        [0.9958024 ]]), 2902: array([[0.99718961],\n",
       "        [0.99702809],\n",
       "        [0.99696144]])}"
      ]
     },
     "execution_count": 89,
     "metadata": {},
     "output_type": "execute_result"
    }
   ],
   "source": [
    "logit_cv_150users.scores_"
   ]
  },
  {
   "cell_type": "code",
   "execution_count": 48,
   "metadata": {},
   "outputs": [
    {
     "ename": "NameError",
     "evalue": "name 'c' is not defined",
     "output_type": "error",
     "traceback": [
      "\u001b[1;31m---------------------------------------------------------------------------\u001b[0m",
      "\u001b[1;31mNameError\u001b[0m                                 Traceback (most recent call last)",
      "\u001b[1;32m<ipython-input-48-43f43aeb95cb>\u001b[0m in \u001b[0;36m<module>\u001b[1;34m()\u001b[0m\n\u001b[0;32m      1\u001b[0m \u001b[0mcv_scores_by_user\u001b[0m \u001b[1;33m=\u001b[0m \u001b[1;33m{\u001b[0m\u001b[1;33m}\u001b[0m\u001b[1;33m\u001b[0m\u001b[0m\n\u001b[0;32m      2\u001b[0m \u001b[1;32mfor\u001b[0m \u001b[0muser_id\u001b[0m \u001b[1;32min\u001b[0m \u001b[0mlogit_cv_150users\u001b[0m\u001b[1;33m.\u001b[0m\u001b[0mscores_\u001b[0m\u001b[1;33m:\u001b[0m\u001b[1;33m\u001b[0m\u001b[0m\n\u001b[1;32m----> 3\u001b[1;33m     \u001b[0mprint\u001b[0m\u001b[1;33m(\u001b[0m\u001b[1;34m'User {}, CV score: {}'\u001b[0m\u001b[1;33m.\u001b[0m\u001b[0mformat\u001b[0m\u001b[1;33m(\u001b[0m\u001b[0muser_id\u001b[0m\u001b[1;33m,\u001b[0m \u001b[0mc\u001b[0m\u001b[1;33m)\u001b[0m\u001b[1;33m)\u001b[0m\u001b[1;33m\u001b[0m\u001b[0m\n\u001b[0m",
      "\u001b[1;31mNameError\u001b[0m: name 'c' is not defined"
     ]
    }
   ],
   "source": [
    "cv_scores_by_user = {}\n",
    "for user_id in logit_cv_150users.scores_:\n",
    "    print('User {}, CV score: {}'.format(user_id, c))"
   ]
  },
  {
   "cell_type": "markdown",
   "metadata": {},
   "source": [
    "**Результаты кажутся впечатляющими, но возможно, мы забываем про дисбаланс классов, и высокую долю правильных ответов можно получить константным прогнозом. Посчитайте для каждого пользователя разницу между долей правильных ответов на кросс-валидации (только что посчитанную с помощью `LogisticRegressionCV`) и долей меток в *y_train_150*, отличных от ID \n",
    " этого пользователя (именно такую долю правильных ответов можно получить, если классификатор всегда \"говорит\", что это не пользователь с номером $i$ в задаче классификации $i$-vs-All).**"
   ]
  },
  {
   "cell_type": "code",
   "execution_count": 93,
   "metadata": {},
   "outputs": [
    {
     "data": {
      "text/plain": [
       "array([0, 1, 0, 2, 2])"
      ]
     },
     "execution_count": 93,
     "metadata": {},
     "output_type": "execute_result"
    }
   ],
   "source": [
    "np.bincount([1,3,4,3,4])\n"
   ]
  },
  {
   "cell_type": "code",
   "execution_count": null,
   "metadata": {
    "collapsed": true
   },
   "outputs": [],
   "source": []
  },
  {
   "cell_type": "code",
   "execution_count": 49,
   "metadata": {
    "collapsed": true
   },
   "outputs": [],
   "source": [
    "class_distr = np.bincount(y_train_150.astype('int'))\n",
    "acc_diff_vs_constant = []\n",
    "for user_id in np.unique(y_train_150):\n",
    "    cv_score = logit_cv_150users.scores_[user_id].mean()\n",
    "    total = len(y_train_150)\n",
    "    default = (total - class_distr[user_id]) / total\n",
    "    acc_diff_vs_constant.append(cv_score - default)"
   ]
  },
  {
   "cell_type": "code",
   "execution_count": 50,
   "metadata": {},
   "outputs": [
    {
     "ename": "AttributeError",
     "evalue": "'list' object has no attribute 'values'",
     "output_type": "error",
     "traceback": [
      "\u001b[1;31m---------------------------------------------------------------------------\u001b[0m",
      "\u001b[1;31mAttributeError\u001b[0m                            Traceback (most recent call last)",
      "\u001b[1;32m<ipython-input-50-3ef515c9cda8>\u001b[0m in \u001b[0;36m<module>\u001b[1;34m()\u001b[0m\n\u001b[1;32m----> 1\u001b[1;33m \u001b[0mnum_better_than_default\u001b[0m \u001b[1;33m=\u001b[0m \u001b[1;33m(\u001b[0m\u001b[0mnp\u001b[0m\u001b[1;33m.\u001b[0m\u001b[0marray\u001b[0m\u001b[1;33m(\u001b[0m\u001b[0mlist\u001b[0m\u001b[1;33m(\u001b[0m\u001b[0macc_diff_vs_constant\u001b[0m\u001b[1;33m.\u001b[0m\u001b[0mvalues\u001b[0m\u001b[1;33m(\u001b[0m\u001b[1;33m)\u001b[0m\u001b[1;33m)\u001b[0m\u001b[1;33m)\u001b[0m \u001b[1;33m>\u001b[0m \u001b[1;36m0\u001b[0m\u001b[1;33m)\u001b[0m\u001b[1;33m.\u001b[0m\u001b[0msum\u001b[0m\u001b[1;33m(\u001b[0m\u001b[1;33m)\u001b[0m\u001b[1;33m\u001b[0m\u001b[0m\n\u001b[0m",
      "\u001b[1;31mAttributeError\u001b[0m: 'list' object has no attribute 'values'"
     ]
    }
   ],
   "source": [
    "num_better_than_default = (np.array(list(acc_diff_vs_constant.values())) > 0).sum()"
   ]
  },
  {
   "cell_type": "markdown",
   "metadata": {},
   "source": [
    "**<font color='red'>Вопрос 7. </font> Посчитайте долю пользователей, для которых логистическая регрессия на кросс-валидации дает прогноз лучше константного. Округлите до 3 знаков после запятой.**"
   ]
  },
  {
   "cell_type": "code",
   "execution_count": 52,
   "metadata": {},
   "outputs": [
    {
     "data": {
      "text/plain": [
       "0.91333333333333333"
      ]
     },
     "execution_count": 52,
     "metadata": {},
     "output_type": "execute_result"
    }
   ],
   "source": [
    "acc_diff_vs_constant = np.asarray(acc_diff_vs_constant)\n",
    "num_better = np.array(acc_diff_vs_constant > 0).sum()\n",
    "np.array(acc_diff_vs_constant > 0)\n",
    "num_better / 150"
   ]
  },
  {
   "cell_type": "markdown",
   "metadata": {},
   "source": [
    "**Дальше будем строить кривые обучения для конкретного пользователя, допустим, для 128-го. Составьте новый бинарный вектор на основе *y_150users*, его значения будут 1 или 0 в зависимости от того, равен ли ID-шник пользователя 128.**"
   ]
  },
  {
   "cell_type": "code",
   "execution_count": null,
   "metadata": {
    "collapsed": true
   },
   "outputs": [],
   "source": [
    "y_binary_128 = ''' ВАШ КОД ЗДЕСЬ '''"
   ]
  },
  {
   "cell_type": "code",
   "execution_count": null,
   "metadata": {
    "collapsed": true
   },
   "outputs": [],
   "source": [
    "from sklearn.model_selection import learning_curve\n",
    "\n",
    "def plot_learning_curve(val_train, val_test, train_sizes, \n",
    "                        xlabel='Training Set Size', ylabel='score'):\n",
    "    def plot_with_err(x, data, **kwargs):\n",
    "        mu, std = data.mean(1), data.std(1)\n",
    "        lines = plt.plot(x, mu, '-', **kwargs)\n",
    "        plt.fill_between(x, mu - std, mu + std, edgecolor='none',\n",
    "                         facecolor=lines[0].get_color(), alpha=0.2)\n",
    "    plot_with_err(train_sizes, val_train, label='train')\n",
    "    plot_with_err(train_sizes, val_test, label='valid')\n",
    "    plt.xlabel(xlabel); plt.ylabel(ylabel)\n",
    "    plt.legend(loc='lower right');"
   ]
  },
  {
   "cell_type": "markdown",
   "metadata": {},
   "source": [
    "**Посчитайте доли правильных ответов на кросс-валидации в задаче классификации \"user128-vs-All\" в зависимости от размера выборки. Не помешает посмотреть встроенную документацию для *learning_curve*.**"
   ]
  },
  {
   "cell_type": "code",
   "execution_count": null,
   "metadata": {
    "collapsed": true
   },
   "outputs": [],
   "source": [
    "%%time\n",
    "train_sizes = np.linspace(0.25, 1, 20)\n",
    "estimator = svm_grid_searcher2.best_estimator_\n",
    "n_train, val_train, val_test = learning_curve ''' ВАШ КОД ЗДЕСЬ '''"
   ]
  },
  {
   "cell_type": "code",
   "execution_count": null,
   "metadata": {
    "collapsed": true
   },
   "outputs": [],
   "source": [
    "plot_learning_curve(val_train, val_test, n_train, \n",
    "                    xlabel='train_size', ylabel='accuracy')"
   ]
  },
  {
   "cell_type": "markdown",
   "metadata": {},
   "source": [
    "**Сделайте выводы о том, помогут ли алгоритму новые размеченные данные при той же постановке задачи.**"
   ]
  },
  {
   "cell_type": "markdown",
   "metadata": {},
   "source": [
    "## Пути улучшения\n",
    "- конечно, можно проверить еще кучу алгоритмов, например, Xgboost, но в такой задаче очень маловероятно, что что-то справится лучше линейных методов\n",
    "- интересно проверить качество алгоритма на данных, где сессии выделялись не по количеству посещенных сайтов, а по времени, например, 5, 7, 10 и 15 минут. Отдельно стоит отметить данные нашего [соревнования](https://inclass.kaggle.com/c/catch-me-if-you-can-intruder-detection-through-webpage-session-tracking2) \n",
    "- опять же, если ресурсы позволяют, можно проверить, насколько хорошо можно решить задачу для 3000 пользователей\n",
    "\n",
    "\n",
    "На следующей неделе мы вспомним про линейные модели, обучаемые стохастическим градиентным спуском, и порадуемся тому, насколько быстрее они работают. Также сделаем первые (или не первые) посылки в [соревновании](https://inclass.kaggle.com/c/catch-me-if-you-can-intruder-detection-through-webpage-session-tracking2) Kaggle Inclass."
   ]
  }
 ],
 "metadata": {
  "anaconda-cloud": {},
  "kernelspec": {
   "display_name": "Python 3",
   "language": "python",
   "name": "python3"
  },
  "language_info": {
   "codemirror_mode": {
    "name": "ipython",
    "version": 3
   },
   "file_extension": ".py",
   "mimetype": "text/x-python",
   "name": "python",
   "nbconvert_exporter": "python",
   "pygments_lexer": "ipython3",
   "version": "3.6.1"
  }
 },
 "nbformat": 4,
 "nbformat_minor": 1
}
