{
 "cells": [
  {
   "cell_type": "markdown",
   "metadata": {},
   "source": [
    "<center>\n",
    "<img src=\"https://habrastorage.org/web/677/8e1/337/6778e1337c3d4b159d7e99df94227cb2.jpg\"/>\n",
    "## Специализация \"Машинное обучение и анализ данных\"\n",
    "<center>Автор материала: программист-исследователь Mail.Ru Group, старший преподаватель Факультета Компьютерных Наук ВШЭ [Юрий Кашницкий](https://yorko.github.io/)"
   ]
  },
  {
   "cell_type": "markdown",
   "metadata": {},
   "source": [
    "# <center> Capstone проект №1 <br> Идентификация пользователей по посещенным веб-страницам\n",
    "<img src='http://i.istockimg.com/file_thumbview_approve/21546327/5/stock-illustration-21546327-identification-de-l-utilisateur.jpg'>\n",
    "\n",
    "# <center>Неделя 4.  Сравнение алгоритмов классификации\n",
    "\n",
    "Теперь мы наконец подойдем к обучению моделей классификации, сравним на кросс-валидации несколько алгоритмов, разберемся, какие параметры длины сессии (*session_length* и *window_size*) лучше использовать. Также для выбранного алгоритма построим кривые валидации (как качество классификации зависит от одного из гиперпараметров алгоритма) и кривые обучения (как качество классификации зависит от объема выборки).\n",
    "\n",
    "**План 4 недели:**\n",
    "- Часть 1. Сравнение нескольких алгоритмов на сессиях из 10 сайтов\n",
    "- Часть 2. Выбор параметров – длины сессии и ширины окна\n",
    "- Часть 3. Идентификация  конкретного пользователя и кривые обучения\n",
    " \n",
    "\n",
    "\n",
    "**В этой части проекта Вам могут быть полезны видеозаписи следующих лекций курса \"Обучение на размеченных данных\":**\n",
    "   - [Линейная классификация](https://www.coursera.org/learn/supervised-learning/lecture/jqLcO/linieinaia-klassifikatsiia)\n",
    "   - [Сравнение алгоритмов и выбор гиперпараметров](https://www.coursera.org/learn/supervised-learning/lecture/aF79U/sravnieniie-alghoritmov-i-vybor-ghipierparamietrov)\n",
    "   - [Кросс-валидация. Sklearn.cross_validation](https://www.coursera.org/learn/supervised-learning/lecture/XbHEk/kross-validatsiia-sklearn-cross-validation)\n",
    "   - [Линейные модели. Sklearn.linear_model. Классификация](https://www.coursera.org/learn/supervised-learning/lecture/EBg9t/linieinyie-modieli-sklearn-linear-model-klassifikatsiia)\n",
    "   - и многие другие\n"
   ]
  },
  {
   "cell_type": "markdown",
   "metadata": {},
   "source": [
    "### Задание\n",
    "1. Заполните код в этой тетрадке \n",
    "2. Если вы проходите специализацию Яндеса и МФТИ, пошлите файл с ответами в соответствующем Programming Assignment. <br> Если вы проходите курс ODS, выберите ответы в [веб-форме](https://docs.google.com/forms/d/12VB7kmzDoSVzSpQNaJp0tR-2t8K8PynQopP3dypf7i4).  "
   ]
  },
  {
   "cell_type": "code",
   "execution_count": 1,
   "metadata": {},
   "outputs": [],
   "source": [
    "# pip install watermark\n",
    "%load_ext watermark"
   ]
  },
  {
   "cell_type": "code",
   "execution_count": 2,
   "metadata": {},
   "outputs": [
    {
     "name": "stdout",
     "output_type": "stream",
     "text": [
      "CPython 3.6.4\n",
      "IPython 6.2.1\n",
      "\n",
      "numpy 1.14.0\n",
      "scipy 1.0.0\n",
      "pandas 0.22.0\n",
      "matplotlib 2.1.2\n",
      "statsmodels 0.8.0\n",
      "sklearn 0.19.1\n",
      "\n",
      "compiler   : GCC 4.2.1 Compatible Clang 4.0.1 (tags/RELEASE_401/final)\n",
      "system     : Darwin\n",
      "release    : 17.5.0\n",
      "machine    : x86_64\n",
      "processor  : i386\n",
      "CPU cores  : 4\n",
      "interpreter: 64bit\n",
      "Git hash   : f4d486dd72ebf700f905308ef88f3fcc12e9ead1\n"
     ]
    }
   ],
   "source": [
    "%watermark -v -m -p numpy,scipy,pandas,matplotlib,statsmodels,sklearn -g"
   ]
  },
  {
   "cell_type": "code",
   "execution_count": 3,
   "metadata": {},
   "outputs": [],
   "source": [
    "from __future__ import division, print_function\n",
    "# отключим всякие предупреждения Anaconda\n",
    "import warnings\n",
    "warnings.filterwarnings('ignore')\n",
    "from time import time\n",
    "import itertools\n",
    "import os\n",
    "import numpy as np\n",
    "import pandas as pd\n",
    "import seaborn as sns\n",
    "%matplotlib inline\n",
    "from matplotlib import pyplot as plt\n",
    "import pickle\n",
    "from scipy.sparse import csr_matrix\n",
    "from sklearn.model_selection import train_test_split, cross_val_score, StratifiedKFold, GridSearchCV\n",
    "from sklearn.metrics import accuracy_score, f1_score"
   ]
  },
  {
   "cell_type": "code",
   "execution_count": 4,
   "metadata": {},
   "outputs": [],
   "source": [
    "# Поменяйте на свой путь к данным\n",
    "PATH_TO_DATA = './data/'"
   ]
  },
  {
   "cell_type": "markdown",
   "metadata": {},
   "source": [
    "## Часть 1. Сравнение нескольких алгоритмов на сессиях из 10 сайтов"
   ]
  },
  {
   "cell_type": "markdown",
   "metadata": {},
   "source": [
    "**Загрузим сериализованные ранее объекты *X_sparse_10users* и *y_10users*, соответствующие обучающей выборке для 10 пользователей.**"
   ]
  },
  {
   "cell_type": "code",
   "execution_count": 5,
   "metadata": {},
   "outputs": [],
   "source": [
    "with open(os.path.join(PATH_TO_DATA, \n",
    "         'X_sparse_10users.pkl'), 'rb') as X_sparse_10users_pkl:\n",
    "    X_sparse_10users = pickle.load(X_sparse_10users_pkl)\n",
    "with open(os.path.join(PATH_TO_DATA, \n",
    "                       'y_10users.pkl'), 'rb') as y_10users_pkl:\n",
    "    y_10users = pickle.load(y_10users_pkl)"
   ]
  },
  {
   "cell_type": "markdown",
   "metadata": {},
   "source": [
    "**Здесь более 14 тысяч сессий и почти 5 тысяч уникальных посещенных сайтов.**"
   ]
  },
  {
   "cell_type": "code",
   "execution_count": 6,
   "metadata": {},
   "outputs": [
    {
     "data": {
      "text/plain": [
       "(14061, 4913)"
      ]
     },
     "execution_count": 6,
     "metadata": {},
     "output_type": "execute_result"
    }
   ],
   "source": [
    "X_sparse_10users.shape"
   ]
  },
  {
   "cell_type": "markdown",
   "metadata": {},
   "source": [
    "**Разобьем выборку на 2 части. На одной будем проводить кросс-валидацию, на второй – оценивать модель, обученную после кросс-валидации.**"
   ]
  },
  {
   "cell_type": "code",
   "execution_count": 7,
   "metadata": {},
   "outputs": [],
   "source": [
    "X_train, X_valid, y_train, y_valid = train_test_split(X_sparse_10users, y_10users, \n",
    "                                                      test_size=0.3, \n",
    "                                                     random_state=17, stratify=y_10users)"
   ]
  },
  {
   "cell_type": "markdown",
   "metadata": {},
   "source": [
    "**Зададим заранее тип кросс-валидации: 3-кратная, с перемешиванием, параметр random_state=17 – для воспроизводимости.**"
   ]
  },
  {
   "cell_type": "code",
   "execution_count": 8,
   "metadata": {},
   "outputs": [],
   "source": [
    "skf = StratifiedKFold(n_splits=3, shuffle=True, random_state=17)"
   ]
  },
  {
   "cell_type": "markdown",
   "metadata": {},
   "source": [
    "**Вспомогательная функция для отрисовки кривых валидации после запуска GridSearchCV (или RandomizedCV).**"
   ]
  },
  {
   "cell_type": "code",
   "execution_count": 9,
   "metadata": {},
   "outputs": [],
   "source": [
    "def plot_validation_curves(param_values, grid_cv_results_):\n",
    "    train_mu, train_std = grid_cv_results_['mean_train_score'], grid_cv_results_['std_train_score']\n",
    "    valid_mu, valid_std = grid_cv_results_['mean_test_score'], grid_cv_results_['std_test_score']\n",
    "    train_line = plt.plot(param_values, train_mu, '-', label='train', color='green')\n",
    "    valid_line = plt.plot(param_values, valid_mu, '-', label='test', color='red')\n",
    "    plt.fill_between(param_values, train_mu - train_std, train_mu + train_std, edgecolor='none',\n",
    "                     facecolor=train_line[0].get_color(), alpha=0.2)\n",
    "    plt.fill_between(param_values, valid_mu - valid_std, valid_mu + valid_std, edgecolor='none',\n",
    "                     facecolor=valid_line[0].get_color(), alpha=0.2)\n",
    "    plt.legend()"
   ]
  },
  {
   "cell_type": "markdown",
   "metadata": {},
   "source": [
    "**1. Обучите `KNeighborsClassifier` со 100 ближайшими соседями (остальные параметры оставьте по умолчанию, только `n_jobs`=-1 для распараллеливания) и посмотрите на долю правильных ответов на 3-кратной кросс-валидации (ради воспроизводимости используйте для этого объект `StratifiedKFold` `skf`) по выборке `(X_train, y_train)` и отдельно на выборке `(X_valid, y_valid)`.**"
   ]
  },
  {
   "cell_type": "code",
   "execution_count": 10,
   "metadata": {},
   "outputs": [],
   "source": [
    "from sklearn.neighbors import KNeighborsClassifier"
   ]
  },
  {
   "cell_type": "code",
   "execution_count": 13,
   "metadata": {},
   "outputs": [],
   "source": [
    "knn = KNeighborsClassifier(n_neighbors=100, n_jobs=-1) "
   ]
  },
  {
   "cell_type": "markdown",
   "metadata": {},
   "source": [
    "**<font color='red'>Вопрос 1. </font> Посчитайте доли правильных ответов для KNeighborsClassifier на кросс-валидации и отложенной выборке. Округлите каждое до 3 знаков после запятой и введите через пробел.**"
   ]
  },
  {
   "cell_type": "code",
   "execution_count": 15,
   "metadata": {},
   "outputs": [
    {
     "data": {
      "text/plain": [
       "0.5647188870063362"
      ]
     },
     "execution_count": 15,
     "metadata": {},
     "output_type": "execute_result"
    }
   ],
   "source": [
    "''' ВАШ КОД ЗДЕСЬ '''\n",
    "cross_val_score(estimator=knn, X=X_train, y=y_train, scoring=\"accuracy\", cv=skf, n_jobs=-1).mean()"
   ]
  },
  {
   "cell_type": "code",
   "execution_count": 17,
   "metadata": {},
   "outputs": [
    {
     "data": {
      "text/plain": [
       "0.584024650391088"
      ]
     },
     "execution_count": 17,
     "metadata": {},
     "output_type": "execute_result"
    }
   ],
   "source": [
    "knn = KNeighborsClassifier(n_neighbors=100, n_jobs=-1) \n",
    "knn.fit(X_train, y_train)\n",
    "accuracy_score(knn.predict(X_valid), y_valid)"
   ]
  },
  {
   "cell_type": "markdown",
   "metadata": {},
   "source": [
    "**2. Обучите случайный лес (`RandomForestClassifier`) из 100 деревьев (для воспроизводимости `random_state`=17). Посмотрите на OOB-оценку (для этого надо сразу установить `oob_score`=True) и на долю правильных ответов на выборке `(X_valid, y_valid)`. Для распараллеливания задайте `n_jobs`=-1.**"
   ]
  },
  {
   "cell_type": "code",
   "execution_count": 18,
   "metadata": {},
   "outputs": [],
   "source": [
    "from sklearn.ensemble import RandomForestClassifier"
   ]
  },
  {
   "cell_type": "code",
   "execution_count": 25,
   "metadata": {},
   "outputs": [
    {
     "name": "stdout",
     "output_type": "stream",
     "text": [
      "oob score = 0.7176386913229018\n"
     ]
    },
    {
     "data": {
      "text/plain": [
       "0.7319269969187011"
      ]
     },
     "execution_count": 25,
     "metadata": {},
     "output_type": "execute_result"
    }
   ],
   "source": [
    "forest = RandomForestClassifier(n_estimators=100, oob_score=True, n_jobs=-1, random_state=17)\n",
    "forest.fit(X_train, y_train)\n",
    "print(\"oob score = \" + str(forest.oob_score_))\n",
    "predictions = forest.predict(X_valid)\n",
    "accuracy_score(predictions, y_valid)"
   ]
  },
  {
   "cell_type": "markdown",
   "metadata": {},
   "source": [
    "**<font color='red'>Вопрос 2. </font> Посчитайте доли правильных ответов для `RandomForestClassifier` при Out-of-Bag оценке и на отложенной выборке. Округлите каждое до 3 знаков после запятой и введите через пробел.**"
   ]
  },
  {
   "cell_type": "code",
   "execution_count": null,
   "metadata": {
    "collapsed": true
   },
   "outputs": [],
   "source": [
    "write_answer_to_file(''' ВАШ КОД ЗДЕСЬ ''',\n",
    "                     'answer4_2.txt')"
   ]
  },
  {
   "cell_type": "code",
   "execution_count": null,
   "metadata": {
    "collapsed": true
   },
   "outputs": [],
   "source": [
    "!cat answer4_2.txt"
   ]
  },
  {
   "cell_type": "markdown",
   "metadata": {},
   "source": [
    "**3. Обучите логистическую регрессию (`LogisticRegression`) с параметром `C` по умолчанию и `random_state`=17 (для воспроизводимости). Посмотрите на долю правильных ответов на кросс-валидации (используйте объект `skf`, созданный ранее) и на выборке `(X_valid, y_valid)`. Для распараллеливания задайте `n_jobs=-1`.**"
   ]
  },
  {
   "cell_type": "code",
   "execution_count": 26,
   "metadata": {},
   "outputs": [],
   "source": [
    "from sklearn.linear_model import LogisticRegression, LogisticRegressionCV"
   ]
  },
  {
   "cell_type": "code",
   "execution_count": 27,
   "metadata": {},
   "outputs": [
    {
     "name": "stdout",
     "output_type": "stream",
     "text": [
      "0.7610267543665875\n"
     ]
    }
   ],
   "source": [
    "logit = LogisticRegression(random_state=17)\n",
    "print(cross_val_score(estimator=logit, X=X_train, y=y_train, scoring=\"accuracy\", cv=skf, n_jobs=-1).mean())\n"
   ]
  },
  {
   "cell_type": "code",
   "execution_count": 28,
   "metadata": {},
   "outputs": [
    {
     "name": "stdout",
     "output_type": "stream",
     "text": [
      "0.7817018250770325\n"
     ]
    }
   ],
   "source": [
    "logit = LogisticRegression(random_state=17)\n",
    "logit.fit(X_train, y_train)\n",
    "predictions = logit.predict(X_valid)\n",
    "print(accuracy_score(predictions, y_valid))"
   ]
  },
  {
   "cell_type": "markdown",
   "metadata": {},
   "source": [
    "**Почитайте документацию к [LogisticRegressionCV](http://scikit-learn.org/stable/modules/generated/sklearn.linear_model.LogisticRegressionCV.html). Логистическая регрессия хорошо изучена, и для нее существуют алгоритмы быстрого подбора параметра регуляризации `C` (быстрее, чем с `GridSearchCV`).**\n",
    "\n",
    "**С помощью `LogisticRegressionCV` подберите параметр `C` для `LogisticRegression` сначала в широком диапазоне: 10 значений от 1e-4 до 1e2, используйте `logspace` из `NumPy`. Укажите у `LogisticRegressionCV` параметры `multi_class`='multinomial' и `random_state`=17. Для кросс-валидации используйте объект `skf`, созданный ранее. Для распараллеливания задайте `n_jobs=-1`.**\n",
    "\n",
    "**Нарисуйте кривые валидации по параметру `C`.**"
   ]
  },
  {
   "cell_type": "code",
   "execution_count": 35,
   "metadata": {},
   "outputs": [
    {
     "name": "stderr",
     "output_type": "stream",
     "text": [
      "[Parallel(n_jobs=-1)]: Done   3 out of   3 | elapsed:    6.9s finished\n"
     ]
    },
    {
     "name": "stdout",
     "output_type": "stream",
     "text": [
      "CPU times: user 1.68 s, sys: 77.2 ms, total: 1.76 s\n",
      "Wall time: 7.88 s\n"
     ]
    }
   ],
   "source": [
    "%%time\n",
    "logit_c_values1 = np.logspace(-4, 2, 10)\n",
    "\n",
    "logit_grid_searcher1 = LogisticRegressionCV(Cs=logit_c_values1, multi_class='multinomial',cv=skf, verbose=True, n_jobs=-1, random_state=17)\n",
    "logit_grid_searcher1.fit(X_train, y_train)"
   ]
  },
  {
   "cell_type": "markdown",
   "metadata": {},
   "source": [
    "Средние значения доли правильных ответов на кросс-валидации по каждому из 10 параметров `C`."
   ]
  },
  {
   "cell_type": "code",
   "execution_count": null,
   "metadata": {},
   "outputs": [],
   "source": []
  },
  {
   "cell_type": "code",
   "execution_count": 41,
   "metadata": {},
   "outputs": [
    {
     "data": {
      "text/plain": [
       "array([0.31822225, 0.47337913, 0.55273512, 0.65119285, 0.71297117,\n",
       "       0.75137565, 0.75889437, 0.75656007, 0.74995558, 0.74010097])"
      ]
     },
     "execution_count": 41,
     "metadata": {},
     "output_type": "execute_result"
    }
   ],
   "source": [
    "sum(logit_grid_searcher1.scores_[241])/3"
   ]
  },
  {
   "cell_type": "code",
   "execution_count": 42,
   "metadata": {},
   "outputs": [],
   "source": [
    "logit_mean_cv_scores1 = sum(logit_grid_searcher1.scores_[241])/3"
   ]
  },
  {
   "cell_type": "markdown",
   "metadata": {},
   "source": [
    "Выведите лучшее значение доли правильных ответов на кросс-валидации и соответствующее значение `C`."
   ]
  },
  {
   "cell_type": "code",
   "execution_count": 46,
   "metadata": {},
   "outputs": [
    {
     "data": {
      "text/plain": [
       "[(1.0, 0.7588943705495573),\n",
       " (4.641588833612772, 0.756560065870545),\n",
       " (0.21544346900318823, 0.7513756490554608),\n",
       " (21.54434690031882, 0.7499555771803944),\n",
       " (100.0, 0.7401009725723625),\n",
       " (0.046415888336127774, 0.7129711702553024),\n",
       " (0.01, 0.6511928465060808),\n",
       " (0.002154434690031882, 0.5527351178714199),\n",
       " (0.00046415888336127773, 0.47337913259135345),\n",
       " (0.0001, 0.31822224699435825)]"
      ]
     },
     "execution_count": 46,
     "metadata": {},
     "output_type": "execute_result"
    }
   ],
   "source": [
    "''' ВАШ КОД ЗДЕСЬ '''\n",
    "import operator\n",
    "scores = list(zip(logit_c_values1, logit_mean_cv_scores1))\n",
    "sorted(scores, key=operator.itemgetter(1), reverse=True)"
   ]
  },
  {
   "cell_type": "markdown",
   "metadata": {},
   "source": [
    "Нарисуйте график зависимости доли правильных ответов на кросс-валидации от `C`."
   ]
  },
  {
   "cell_type": "code",
   "execution_count": 43,
   "metadata": {},
   "outputs": [
    {
     "data": {
      "image/png": "[encoded data removed]",
      "text/plain": [
       "<matplotlib.figure.Figure at 0x1176009e8>"
      ]
     },
     "metadata": {},
     "output_type": "display_data"
    }
   ],
   "source": [
    "plt.plot(logit_c_values1, logit_mean_cv_scores1);"
   ]
  },
  {
   "cell_type": "markdown",
   "metadata": {},
   "source": [
    "**Теперь то же самое, только значения параметра `C` перебирайте в диапазоне `np.linspace`(0.1, 7, 20). Опять нарисуйте кривые валидации, определите максимальное значение доли правильных ответов на кросс-валидации.**"
   ]
  },
  {
   "cell_type": "code",
   "execution_count": 47,
   "metadata": {},
   "outputs": [
    {
     "name": "stderr",
     "output_type": "stream",
     "text": [
      "[Parallel(n_jobs=-1)]: Done   3 out of   3 | elapsed:   24.4s finished\n"
     ]
    },
    {
     "name": "stdout",
     "output_type": "stream",
     "text": [
      "CPU times: user 1.9 s, sys: 122 ms, total: 2.02 s\n",
      "Wall time: 25.5 s\n"
     ]
    }
   ],
   "source": [
    "%%time\n",
    "logit_c_values2 = np.linspace(0.1, 7, 20)\n",
    "\n",
    "logit_grid_searcher2 = LogisticRegressionCV(Cs=logit_c_values2, multi_class='multinomial',cv=skf, verbose=True, n_jobs=-1, random_state=17)\n",
    "logit_grid_searcher2.fit(X_train, y_train)"
   ]
  },
  {
   "cell_type": "markdown",
   "metadata": {},
   "source": [
    "Средние значения доли правильных ответов на кросс-валидации по каждому из 10 параметров `C`."
   ]
  },
  {
   "cell_type": "code",
   "execution_count": 50,
   "metadata": {},
   "outputs": [],
   "source": [
    "''' ВАШ КОД ЗДЕСЬ '''\n",
    "logit_mean_cv_scores2 = sum(logit_grid_searcher2.scores_[241])/3"
   ]
  },
  {
   "cell_type": "markdown",
   "metadata": {},
   "source": [
    "Выведите лучшее значение доли правильных ответов на кросс-валидации и соответствующее значение `C`."
   ]
  },
  {
   "cell_type": "code",
   "execution_count": 51,
   "metadata": {},
   "outputs": [
    {
     "data": {
      "text/plain": [
       "[(0.4631578947368421, 0.7587913513956875),\n",
       " (0.8263157894736842, 0.758487835151756),\n",
       " (1.9157894736842107, 0.7582857282183718),\n",
       " (2.278947368421053, 0.7579809118536219),\n",
       " (1.5526315789473686, 0.7579802311778115),\n",
       " (1.1894736842105265, 0.7577758953525962),\n",
       " (2.642105263157895, 0.7573714958109251),\n",
       " (3.368421052631579, 0.7569666318837477),\n",
       " (3.7315789473684213, 0.756966476824246),\n",
       " (3.005263157894737, 0.7567626678048368),\n",
       " (4.094736842105263, 0.7565603131727493),\n",
       " (4.457894736842105, 0.7561540874974519),\n",
       " (4.821052631578947, 0.7554431070847061),\n",
       " (5.184210526315789, 0.755037748156621),\n",
       " (6.273684210526316, 0.7547338295509837),\n",
       " (5.910526315789474, 0.7547337985390833),\n",
       " (5.5473684210526315, 0.75442873447563),\n",
       " (6.636842105263158, 0.7543275418518857),\n",
       " (7.0, 0.7539210374659846),\n",
       " (0.1, 0.7354266983455578)]"
      ]
     },
     "execution_count": 51,
     "metadata": {},
     "output_type": "execute_result"
    }
   ],
   "source": [
    "''' ВАШ КОД ЗДЕСЬ '''\n",
    "import operator\n",
    "scores = list(zip(logit_c_values2, logit_mean_cv_scores2))\n",
    "sorted(scores, key=operator.itemgetter(1), reverse=True)"
   ]
  },
  {
   "cell_type": "markdown",
   "metadata": {},
   "source": [
    "Нарисуйте график зависимости доли правильных ответов на кросс-валидации от `C`."
   ]
  },
  {
   "cell_type": "code",
   "execution_count": 52,
   "metadata": {},
   "outputs": [
    {
     "data": {
      "image/png": "[encoded data removed]",
      "text/plain": [
       "<matplotlib.figure.Figure at 0x1161fb710>"
      ]
     },
     "metadata": {},
     "output_type": "display_data"
    }
   ],
   "source": [
    "plt.plot(logit_c_values2, logit_mean_cv_scores2);"
   ]
  },
  {
   "cell_type": "markdown",
   "metadata": {},
   "source": [
    "Выведите долю правильных ответов на выборке `(X_valid, y_valid)` для логистической регрессии с лучшим найденным значением `C`."
   ]
  },
  {
   "cell_type": "code",
   "execution_count": 54,
   "metadata": {},
   "outputs": [
    {
     "data": {
      "text/plain": [
       "0.7748281583313581"
      ]
     },
     "execution_count": 54,
     "metadata": {},
     "output_type": "execute_result"
    }
   ],
   "source": [
    "logit_cv_acc = accuracy_score(logit_grid_searcher2.predict(X_valid), y_valid)\n",
    "logit_cv_acc"
   ]
  },
  {
   "cell_type": "markdown",
   "metadata": {},
   "source": [
    "**<font color='red'>Вопрос 3. </font>Посчитайте доли правильных ответов для `logit_grid_searcher2` на кросс-валидации для лучшего значения параметра `C` и на отложенной выборке. Округлите каждое до 3 знаков после запятой и выведите через пробел.**"
   ]
  },
  {
   "cell_type": "code",
   "execution_count": null,
   "metadata": {
    "collapsed": true
   },
   "outputs": [],
   "source": [
    "''' ВАШ КОД ЗДЕСЬ '''"
   ]
  },
  {
   "cell_type": "markdown",
   "metadata": {},
   "source": [
    "**4. Обучите линейный SVM (`LinearSVC`) с параметром `C`=1 и `random_state`=17 (для воспроизводимости). Посмотрите на долю правильных ответов на кросс-валидации (используйте объект `skf`, созданный ранее) и на выборке `(X_valid, y_valid)`.**"
   ]
  },
  {
   "cell_type": "code",
   "execution_count": 55,
   "metadata": {},
   "outputs": [],
   "source": [
    "from sklearn.svm import LinearSVC"
   ]
  },
  {
   "cell_type": "code",
   "execution_count": 57,
   "metadata": {},
   "outputs": [
    {
     "name": "stdout",
     "output_type": "stream",
     "text": [
      "0.7527977033131527\n"
     ]
    }
   ],
   "source": [
    "svm = LinearSVC(C=1, random_state=17)\n",
    "print(cross_val_score(estimator=svm, X=X_train, y=y_train, scoring=\"accuracy\", cv=skf, n_jobs=-1).mean())"
   ]
  },
  {
   "cell_type": "code",
   "execution_count": 58,
   "metadata": {},
   "outputs": [
    {
     "name": "stdout",
     "output_type": "stream",
     "text": [
      "0.7817018250770325\n"
     ]
    }
   ],
   "source": [
    "svm = LinearSVC(C=1, random_state=17)\n",
    "svm.fit(X_train, y_train)\n",
    "predictions = logit.predict(X_valid)\n",
    "print(accuracy_score(predictions, y_valid))"
   ]
  },
  {
   "cell_type": "markdown",
   "metadata": {},
   "source": [
    "**С помощью `GridSearchCV` подберите параметр `C` для SVM сначала в широком диапазоне: 10 значений от 1e-4 до 1e4, используйте `linspace` из NumPy. Нарисуйте кривые валидации.**"
   ]
  },
  {
   "cell_type": "code",
   "execution_count": 60,
   "metadata": {},
   "outputs": [
    {
     "name": "stdout",
     "output_type": "stream",
     "text": [
      "CPU times: user 2.28 s, sys: 59.3 ms, total: 2.34 s\n",
      "Wall time: 18 s\n"
     ]
    }
   ],
   "source": [
    "%%time\n",
    "svm_params1 = {'C': np.linspace(1e-4, 1e4, 10)}\n",
    "\n",
    "svm_grid_searcher1 = GridSearchCV(estimator=LinearSVC(random_state=17), param_grid=svm_params1, n_jobs=-1, cv=skf)\n",
    "svm_grid_searcher1.fit(X_train, y_train)"
   ]
  },
  {
   "cell_type": "markdown",
   "metadata": {},
   "source": [
    "Выведите лучшее значение доли правильных ответов на кросс-валидации и соответствующее значение `C`."
   ]
  },
  {
   "cell_type": "code",
   "execution_count": 63,
   "metadata": {},
   "outputs": [
    {
     "data": {
      "text/plain": [
       "[(0.0001, 0.558727900833164),\n",
       " (1111.1112, 0.6710018288965658),\n",
       " (2222.2223000000004, 0.6733387522861207),\n",
       " (3333.3334000000004, 0.6726275147327779),\n",
       " (4444.4445000000005, 0.6869538711643974),\n",
       " (5555.555600000001, 0.6709002235318025),\n",
       " (6666.666700000001, 0.6566754724649462),\n",
       " (7777.777800000001, 0.6879699248120301),\n",
       " (8888.8889, 0.6563706563706564),\n",
       " (10000.0, 0.6572851046535257)]"
      ]
     },
     "execution_count": 63,
     "metadata": {},
     "output_type": "execute_result"
    }
   ],
   "source": [
    "''' ВАШ КОД ЗДЕСЬ '''\n",
    "list(zip(svm_params1['C'], svm_grid_searcher1.cv_results_['mean_test_score']))"
   ]
  },
  {
   "cell_type": "markdown",
   "metadata": {},
   "source": [
    "Нарисуйте график зависимости доли правильных ответов на кросс-валидации от `C`."
   ]
  },
  {
   "cell_type": "code",
   "execution_count": 62,
   "metadata": {},
   "outputs": [
    {
     "data": {
      "image/png": "[encoded data removed]",
      "text/plain": [
       "<matplotlib.figure.Figure at 0x1175be320>"
      ]
     },
     "metadata": {},
     "output_type": "display_data"
    }
   ],
   "source": [
    "plot_validation_curves(svm_params1['C'], svm_grid_searcher1.cv_results_)"
   ]
  },
  {
   "cell_type": "markdown",
   "metadata": {},
   "source": [
    "**Но мы помним, что с параметром регуляризации по умолчанию (С=1) на кросс-валидации доля правильных ответов выше. Это тот случай (не редкий), когда можно ошибиться и перебирать параметры не в том диапазоне (причина в том, что мы взяли равномерную сетку на большом интервале и упустили действительно хороший интервал значений `C`). Здесь намного осмысленней подбирать `C` в районе 1, к тому же, так модель быстрее обучается, чем при больших `C`. **\n",
    "\n",
    "**С помощью `GridSearchCV` подберите параметр `C` для SVM в диапазоне (1e-3, 1), 30 значений, используйте `linspace` из NumPy. Нарисуйте кривые валидации.**"
   ]
  },
  {
   "cell_type": "code",
   "execution_count": 64,
   "metadata": {},
   "outputs": [
    {
     "name": "stdout",
     "output_type": "stream",
     "text": [
      "CPU times: user 660 ms, sys: 83 ms, total: 743 ms\n",
      "Wall time: 30.4 s\n"
     ]
    }
   ],
   "source": [
    "%%time\n",
    "svm_params2 = {'C': np.linspace(1e-3, 1, 30)}\n",
    "\n",
    "svm_grid_searcher2 = GridSearchCV(estimator=LinearSVC(random_state=17), param_grid=svm_params2, n_jobs=-1, cv=skf)\n",
    "svm_grid_searcher2.fit(X_train, y_train)"
   ]
  },
  {
   "cell_type": "markdown",
   "metadata": {},
   "source": [
    "Выведите лучшее значение доли правильных ответов на кросс-валидации и соответствующее значение `C`."
   ]
  },
  {
   "cell_type": "code",
   "execution_count": 65,
   "metadata": {},
   "outputs": [
    {
     "data": {
      "text/plain": [
       "[(0.001, 0.662873399715505),\n",
       " (0.035448275862068966, 0.7584840479577322),\n",
       " (0.06989655172413793, 0.7625482625482626),\n",
       " (0.10434482758620689, 0.764681975208291),\n",
       " (0.13879310344827586, 0.7633611054663686),\n",
       " (0.17324137931034483, 0.7628530786425524),\n",
       " (0.20768965517241378, 0.7622434464539728),\n",
       " (0.24213793103448275, 0.7617354196301565),\n",
       " (0.2765862068965517, 0.7612273928063402),\n",
       " (0.31103448275862067, 0.7609225767120504),\n",
       " (0.34548275862068967, 0.7605161552529973),\n",
       " (0.3799310344827586, 0.7606177606177607),\n",
       " (0.41437931034482756, 0.7598049176996545),\n",
       " (0.44882758620689656, 0.7589920747815485),\n",
       " (0.4832758620689655, 0.7583824425929689),\n",
       " (0.5177241379310344, 0.7573663889453364),\n",
       " (0.5521724137931034, 0.7573663889453364),\n",
       " (0.5866206896551724, 0.7570615728510466),\n",
       " (0.6210689655172413, 0.7565535460272302),\n",
       " (0.6555172413793103, 0.7565535460272302),\n",
       " (0.6899655172413793, 0.7563503352977037),\n",
       " (0.7244137931034482, 0.7560455192034139),\n",
       " (0.7588620689655172, 0.7554358870148343),\n",
       " (0.7933103448275862, 0.7550294655557813),\n",
       " (0.8277586206896551, 0.753708595813859),\n",
       " (0.8622068965517241, 0.7539118065433855),\n",
       " (0.8966551724137931, 0.753708595813859),\n",
       " (0.9311034482758621, 0.7532005689900427),\n",
       " (0.965551724137931, 0.7524893314366998),\n",
       " (1.0, 0.7527941475309896)]"
      ]
     },
     "execution_count": 65,
     "metadata": {},
     "output_type": "execute_result"
    }
   ],
   "source": [
    "''' ВАШ КОД ЗДЕСЬ '''\n",
    "list(zip(svm_params2['C'], svm_grid_searcher2.cv_results_['mean_test_score']))"
   ]
  },
  {
   "cell_type": "markdown",
   "metadata": {},
   "source": [
    "Нарисуйте график зависимости доли правильных ответов на кросс-валидации от С."
   ]
  },
  {
   "cell_type": "code",
   "execution_count": 66,
   "metadata": {},
   "outputs": [
    {
     "data": {
      "image/png": "[encoded data removed]",
      "text/plain": [
       "<matplotlib.figure.Figure at 0x115754d30>"
      ]
     },
     "metadata": {},
     "output_type": "display_data"
    }
   ],
   "source": [
    "plot_validation_curves(svm_params2['C'], svm_grid_searcher2.cv_results_)"
   ]
  },
  {
   "cell_type": "markdown",
   "metadata": {},
   "source": [
    "Выведите долю правильных ответов на выборке `(X_valid, y_valid)` для `LinearSVC` с лучшим найденным значением `C`."
   ]
  },
  {
   "cell_type": "code",
   "execution_count": 67,
   "metadata": {},
   "outputs": [],
   "source": [
    "C=0.10434482758620689\n",
    "svm_cv_acc = accuracy_score(svm_grid_searcher2.best_estimator_.predict(X_valid), y_valid)"
   ]
  },
  {
   "cell_type": "code",
   "execution_count": 68,
   "metadata": {},
   "outputs": [
    {
     "data": {
      "text/plain": [
       "0.7807537331121118"
      ]
     },
     "execution_count": 68,
     "metadata": {},
     "output_type": "execute_result"
    }
   ],
   "source": [
    "svm_cv_acc"
   ]
  },
  {
   "cell_type": "markdown",
   "metadata": {},
   "source": [
    "**<font color='red'>Вопрос 4. </font> Посчитайте доли правильных ответов для `svm_grid_searcher2` на кросс-валидации для лучшего значения параметра `C` и на отложенной выборке. Округлите каждое до 3 знаков после запятой и выведите через пробел.**"
   ]
  },
  {
   "cell_type": "code",
   "execution_count": 69,
   "metadata": {},
   "outputs": [
    {
     "data": {
      "text/plain": [
       "0.7807537331121118"
      ]
     },
     "execution_count": 69,
     "metadata": {},
     "output_type": "execute_result"
    }
   ],
   "source": [
    "''' ВАШ КОД ЗДЕСЬ '''\n",
    "0.764681975208291\n",
    "0.7807537331121118"
   ]
  },
  {
   "cell_type": "markdown",
   "metadata": {},
   "source": [
    "## Часть 2. Выбор параметров – длины сессии и ширины окна"
   ]
  },
  {
   "cell_type": "markdown",
   "metadata": {},
   "source": [
    "**Возьмем `LinearSVC`, показавший лучшее качество на кросс-валидации в 1 части, и проверим его работу еще на 8 выборках для 10 пользователей (с разными сочетаниями параметров *session_length* и *window_size*). Поскольку тут уже вычислений побольше, мы не будем каждый раз заново подбирать параметр регуляризации `C`.**\n",
    "\n",
    "**Определите функцию `model_assessment`, ее документация описана ниже. Обратите внимание на все детали. Например, на то, что разбиение  выборки с `train_test_split` должно быть стратифицированным. Не теряйте нигде `random_state`.**"
   ]
  },
  {
   "cell_type": "code",
   "execution_count": 80,
   "metadata": {},
   "outputs": [],
   "source": [
    "def model_assessment(estimator, path_to_X_pickle, path_to_y_pickle, cv, random_state=17, test_size=0.3):\n",
    "    '''\n",
    "    Estimates CV-accuracy for (1 - test_size) share of (X_sparse, y) \n",
    "    loaded from path_to_X_pickle and path_to_y_pickle and holdout accuracy for (test_size) share of (X_sparse, y).\n",
    "    The split is made with stratified train_test_split with params random_state and test_size.\n",
    "    \n",
    "    :param estimator – Scikit-learn estimator (classifier or regressor)\n",
    "    :param path_to_X_pickle – path to pickled sparse X (instances and their features)\n",
    "    :param path_to_y_pickle – path to pickled y (responses)\n",
    "    :param cv – cross-validation as in cross_val_score (use StratifiedKFold here)\n",
    "    :param random_state –  for train_test_split\n",
    "    :param test_size –  for train_test_split\n",
    "    \n",
    "    :returns mean CV-accuracy for (X_train, y_train) and accuracy for (X_valid, y_valid) where (X_train, y_train)\n",
    "    and (X_valid, y_valid) are (1 - test_size) and (testsize) shares of (X_sparse, y).\n",
    "    '''\n",
    "    \n",
    "    with open(path_to_X_pickle, 'rb') as X_pkl:\n",
    "        X_sparse = pickle.load(X_pkl)\n",
    "    with open(path_to_y_pickle, 'rb') as y_pkl:\n",
    "        y = pickle.load(y_pkl)\n",
    "    X_train, X_valid, y_train, y_valid = train_test_split(X_sparse, y, test_size=test_size, \n",
    "                                                          random_state=17, stratify=y)\n",
    "#     skf = StratifiedKFold(n_splits=3, shuffle=True, random_state=17)\n",
    "    cv_score = cross_val_score(estimator=estimator, X=X_train, y=y_train, scoring=\"accuracy\", cv=skf, n_jobs=-1).mean()\n",
    "    \n",
    "    estimator.fit(X_train, y_train)\n",
    "    predictions = estimator.predict(X_valid)\n",
    "    valid_score = accuracy_score(predictions, y_valid)\n",
    "    return (cv_score, valid_score)"
   ]
  },
  {
   "cell_type": "markdown",
   "metadata": {},
   "source": [
    "**Убедитесь, что функция работает.**"
   ]
  },
  {
   "cell_type": "code",
   "execution_count": 73,
   "metadata": {},
   "outputs": [
    {
     "data": {
      "text/plain": [
       "(0.7646853244550981, 0.7807537331121118)"
      ]
     },
     "execution_count": 73,
     "metadata": {},
     "output_type": "execute_result"
    }
   ],
   "source": [
    "model_assessment(svm_grid_searcher2.best_estimator_, \n",
    "                 os.path.join(PATH_TO_DATA, 'X_sparse_10users.pkl'),\n",
    "        os.path.join(PATH_TO_DATA, 'y_10users.pkl'), skf, random_state=17, test_size=0.3)"
   ]
  },
  {
   "cell_type": "markdown",
   "metadata": {},
   "source": [
    "**Примените функцию *model_assessment* для лучшего алгоритма из предыдущей части (а именно, `svm_grid_searcher2.best_estimator_`) и 9 выборок вида с разными сочетаниями параметров *session_length* и *window_size* для 10 пользователей. Выведите в цикле параметры *session_length* и *window_size*, а также результат вывода функции *model_assessment*. \n",
    "Удобно сделать так, чтоб *model_assessment* возвращала 3-им элементом время, за которое она выполнилась. На моем ноуте этот участок кода выполнился за 20 секунд. Но со 150 пользователями каждая итерация занимает уже несколько минут.**"
   ]
  },
  {
   "cell_type": "markdown",
   "metadata": {},
   "source": [
    "Здесь для удобства стоит создать копии ранее созданных pickle-файлов X_sparse_10users.pkl, X_sparse_150users.pkl, y_10users.pkl и y_150users.pkl, добавив к их названиям s10_w10, что означает длину сессии 10 и ширину окна 10. "
   ]
  },
  {
   "cell_type": "code",
   "execution_count": 74,
   "metadata": {},
   "outputs": [],
   "source": [
    "!cp $PATH_TO_DATA/X_sparse_10users.pkl $PATH_TO_DATA/X_sparse_10users_s10_w10.pkl \n",
    "!cp $PATH_TO_DATA/X_sparse_150users.pkl $PATH_TO_DATA/X_sparse_150users_s10_w10.pkl \n",
    "!cp $PATH_TO_DATA/y_10users.pkl $PATH_TO_DATA/y_10users_s10_w10.pkl \n",
    "!cp $PATH_TO_DATA/y_150users.pkl $PATH_TO_DATA/y_150users_s10_w10.pkl "
   ]
  },
  {
   "cell_type": "code",
   "execution_count": 81,
   "metadata": {},
   "outputs": [
    {
     "name": "stdout",
     "output_type": "stream",
     "text": [
      "10 15\n",
      "(0.8238214955278105, 0.8404835269021095)\n",
      "10 10\n",
      "(0.7646853244550981, 0.7807537331121118)\n",
      "7 15\n",
      "(0.8479403769844098, 0.8543222166915547)\n",
      "7 10\n",
      "(0.7970161463734652, 0.8073668491786958)\n",
      "7 7\n",
      "(0.7529891114830342, 0.7617388418782147)\n",
      "5 15\n",
      "(0.868001372554347, 0.8752963489805595)\n",
      "5 10\n",
      "(0.8159247205318039, 0.8245614035087719)\n",
      "5 7\n",
      "(0.774058674563226, 0.7853247984826932)\n",
      "5 5\n",
      "(0.7252830650398828, 0.7362494073020389)\n",
      "CPU times: user 7.32 s, sys: 499 ms, total: 7.81 s\n",
      "Wall time: 15.1 s\n"
     ]
    }
   ],
   "source": [
    "%%time\n",
    "estimator = svm_grid_searcher2.best_estimator_\n",
    "\n",
    "for window_size, session_length in itertools.product([10, 7, 5], [15, 10, 7, 5]):\n",
    "    if window_size <= session_length:\n",
    "        path_to_X_pkl = os.path.join(PATH_TO_DATA, 'X_sparse_10users_s{}_w{}.pkl'.format(session_length, window_size))\n",
    "        path_to_y_pkl = os.path.join(PATH_TO_DATA, 'y_10users_s{}_w{}.pkl'.format(session_length, window_size))\n",
    "        print(str(window_size) + \" \" + str(session_length))\n",
    "        print(model_assessment(estimator, path_to_X_pkl, path_to_y_pkl, skf, random_state=17, test_size=0.3))"
   ]
  },
  {
   "cell_type": "markdown",
   "metadata": {},
   "source": [
    "**<font color='red'>Вопрос 5. </font> Посчитайте доли правильных ответов для `LinearSVC` с настроенным параметром `C` и выборки `X_sparse_10users_s15_w5`. Укажите доли правильных ответов на кросс-валидации и на отложенной выборке. Округлите каждое до 3 знаков после запятой и выведите через пробел.**"
   ]
  },
  {
   "cell_type": "code",
   "execution_count": 82,
   "metadata": {},
   "outputs": [
    {
     "data": {
      "text/plain": [
       "(0.868001372554347, 0.8752963489805595)"
      ]
     },
     "execution_count": 82,
     "metadata": {},
     "output_type": "execute_result"
    }
   ],
   "source": [
    "(0.868001372554347, 0.8752963489805595)"
   ]
  },
  {
   "cell_type": "markdown",
   "metadata": {},
   "source": [
    "**Прокомментируйте полученные результаты. Сравните для 150 пользователей доли правильных ответов на кросс-валидации и оставленной выборке для сочетаний параметров (*session_length, window_size*): (5,5), (7,7) и (10,10). На среднем ноуте это может занять до часа – запаситесь терпением, это Data Science :) **\n",
    "\n",
    "**Сделайте вывод о том, как качество классификации зависит от длины сессии и ширины окна.**"
   ]
  },
  {
   "cell_type": "code",
   "execution_count": 83,
   "metadata": {},
   "outputs": [
    {
     "name": "stdout",
     "output_type": "stream",
     "text": [
      "5 5\n",
      "(0.40858659509908596, 0.42171606560568453)\n",
      "7 7\n",
      "(0.43638649409423974, 0.45295840855673264)\n",
      "10 10\n",
      "(0.4612588999427913, 0.4836276942538802)\n",
      "CPU times: user 4min 44s, sys: 1.47 s, total: 4min 45s\n",
      "Wall time: 9min 10s\n"
     ]
    }
   ],
   "source": [
    "%%time\n",
    "estimator = svm_grid_searcher2.best_estimator_\n",
    "\n",
    "for window_size, session_length in [(5,5), (7,7), (10,10)]:\n",
    "    path_to_X_pkl = os.path.join(PATH_TO_DATA, 'X_sparse_150users_s{}_w{}.pkl'.format(session_length, window_size))\n",
    "    path_to_y_pkl = os.path.join(PATH_TO_DATA, 'y_150users_s{}_w{}.pkl'.format(session_length, window_size))\n",
    "    print(str(window_size) + \" \" + str(session_length))\n",
    "    print(model_assessment(estimator, path_to_X_pkl, path_to_y_pkl, skf, random_state=17, test_size=0.3))"
   ]
  },
  {
   "cell_type": "markdown",
   "metadata": {},
   "source": [
    "**<font color='red'>Вопрос 6. </font> Посчитайте доли правильных ответов для `LinearSVC` с настроенным параметром `C` и выборки `X_sparse_150users`. Укажите доли правильных ответов на кросс-валидации и на отложенной выборке. Округлите каждое до 3 знаков после запятой и выведите через пробел.**"
   ]
  },
  {
   "cell_type": "code",
   "execution_count": 84,
   "metadata": {},
   "outputs": [
    {
     "data": {
      "text/plain": [
       "(0.4612588999427913, 0.4836276942538802)"
      ]
     },
     "execution_count": 84,
     "metadata": {},
     "output_type": "execute_result"
    }
   ],
   "source": [
    "(0.4612588999427913, 0.4836276942538802)\n"
   ]
  },
  {
   "cell_type": "markdown",
   "metadata": {},
   "source": [
    "## Часть 3. Идентификация  конкретного пользователя и кривые обучения"
   ]
  },
  {
   "cell_type": "markdown",
   "metadata": {},
   "source": [
    "**Поскольку может разочаровать, что многоклассовая доля правильных ответов на выборке из 150 пользовалей невелика, порадуемся тому, что конкретного пользователя можно идентифицировать достаточно хорошо. **"
   ]
  },
  {
   "cell_type": "markdown",
   "metadata": {},
   "source": [
    "**Загрузим сериализованные ранее объекты *X_sparse_150users* и *y_150users*, соответствующие обучающей выборке для 150 пользователей с параметрами (*session_length, window_size*) = (10,10). Так же точно разобьем их на 70% и 30%.**"
   ]
  },
  {
   "cell_type": "code",
   "execution_count": 85,
   "metadata": {},
   "outputs": [],
   "source": [
    "with open(os.path.join(PATH_TO_DATA, 'X_sparse_150users.pkl'), 'rb') as X_sparse_150users_pkl:\n",
    "     X_sparse_150users = pickle.load(X_sparse_150users_pkl)\n",
    "with open(os.path.join(PATH_TO_DATA, 'y_150users.pkl'), 'rb') as y_150users_pkl:\n",
    "    y_150users = pickle.load(y_150users_pkl)"
   ]
  },
  {
   "cell_type": "code",
   "execution_count": 86,
   "metadata": {},
   "outputs": [],
   "source": [
    "X_train_150, X_valid_150, y_train_150, y_valid_150 = train_test_split(X_sparse_150users, \n",
    "                                                                      y_150users, test_size=0.3, \n",
    "                                                     random_state=17, stratify=y_150users)"
   ]
  },
  {
   "cell_type": "markdown",
   "metadata": {},
   "source": [
    "**Обучите `LogisticRegressionCV` для одного значения параметра `C` (лучшего на кросс-валидации в 1 части, используйте точное значение, не на глаз). Теперь будем решать 150 задач \"Один-против-Всех\", поэтому укажите аргумент `multi_class`='ovr'. Как всегда, где возможно, указывайте `n_jobs=-1` и `random_state`=17.**"
   ]
  },
  {
   "cell_type": "code",
   "execution_count": 88,
   "metadata": {},
   "outputs": [
    {
     "name": "stdout",
     "output_type": "stream",
     "text": [
      "CPU times: user 3min 43s, sys: 4.8 s, total: 3min 48s\n",
      "Wall time: 4min 36s\n"
     ]
    }
   ],
   "source": [
    "%%time\n",
    "C = [0.4631578947368421]\n",
    "logit_cv_150users = LogisticRegressionCV(Cs=C, multi_class='ovr', n_jobs=-1, random_state=17, cv=skf)\n",
    "logit_cv_150users.fit(X_train_150, y_train_150)"
   ]
  },
  {
   "cell_type": "markdown",
   "metadata": {},
   "source": [
    "**Посмотрите на средние доли правильных ответов на кросс-валидации в задаче идентификации каждого пользователя по отдельности.**"
   ]
  },
  {
   "cell_type": "code",
   "execution_count": 89,
   "metadata": {},
   "outputs": [
    {
     "data": {
      "text/plain": [
       "{6: array([[0.9961279 ],\n",
       "        [0.9959019 ],\n",
       "        [0.99548915]]), 13: array([[0.99628404],\n",
       "        [0.99615216],\n",
       "        [0.99627228]]), 15: array([[0.99519111],\n",
       "        [0.99505725],\n",
       "        [0.99517589]]), 16: array([[0.99203722],\n",
       "        [0.99202277],\n",
       "        [0.99122889]]), 28: array([[0.99003872],\n",
       "        [0.98998936],\n",
       "        [0.99006986]]), 31: array([[0.99450412],\n",
       "        [0.9947757 ],\n",
       "        [0.99451806]]), 33: array([[0.99362978],\n",
       "        [0.99374335],\n",
       "        [0.99351565]]), 39: array([[0.98597927],\n",
       "        [0.98532816],\n",
       "        [0.98593491]]), 46: array([[0.99806395],\n",
       "        [0.99768504],\n",
       "        [0.99818313]]), 49: array([[0.99503497],\n",
       "        [0.99474442],\n",
       "        [0.99501927]]), 50: array([[0.99425431],\n",
       "        [0.99468185],\n",
       "        [0.99451806]]), 53: array([[0.99362978],\n",
       "        [0.99371207],\n",
       "        [0.99348432]]), 65: array([[0.99697102],\n",
       "        [0.99693424],\n",
       "        [0.99708674]]), 66: array([[0.99509743],\n",
       "        [0.99490083],\n",
       "        [0.99489396]]), 82: array([[0.99637772],\n",
       "        [0.99637114],\n",
       "        [0.99633493]]), 85: array([[0.99625281],\n",
       "        [0.99621473],\n",
       "        [0.99649156]]), 89: array([[0.99041344],\n",
       "        [0.99067759],\n",
       "        [0.99044576]]), 92: array([[0.99422308],\n",
       "        [0.99433773],\n",
       "        [0.99451806]]), 100: array([[0.99481639],\n",
       "        [0.99461928],\n",
       "        [0.99470601]]), 102: array([[0.99113165],\n",
       "        [0.99083401],\n",
       "        [0.9916048 ]]), 103: array([[0.97951536],\n",
       "        [0.97963461],\n",
       "        [0.98042164]]), 105: array([[0.99684612],\n",
       "        [0.99659013],\n",
       "        [0.99702409]]), 106: array([[0.99478516],\n",
       "        [0.9944003 ],\n",
       "        [0.99433011]]), 118: array([[0.99069448],\n",
       "        [0.99077144],\n",
       "        [0.99050841]]), 119: array([[0.99656508],\n",
       "        [0.99652756],\n",
       "        [0.99671084]]), 120: array([[0.9944729 ],\n",
       "        [0.99399362],\n",
       "        [0.99414215]]), 126: array([[0.99512865],\n",
       "        [0.99490083],\n",
       "        [0.99495661]]), 127: array([[0.99150637],\n",
       "        [0.99045861],\n",
       "        [0.99122889]]), 128: array([[0.98416812],\n",
       "        [0.98501533],\n",
       "        [0.98455659]]), 138: array([[0.99722083],\n",
       "        [0.99721579],\n",
       "        [0.99714939]]), 158: array([[0.99703347],\n",
       "        [0.99693424],\n",
       "        [0.99718072]]), 160: array([[0.99690857],\n",
       "        [0.99693424],\n",
       "        [0.99674216]]), 165: array([[0.99731451],\n",
       "        [0.99724708],\n",
       "        [0.99733734]]), 172: array([[0.99653385],\n",
       "        [0.99649628],\n",
       "        [0.99658553]]), 177: array([[0.99678366],\n",
       "        [0.99680911],\n",
       "        [0.99693011]]), 203: array([[0.99715838],\n",
       "        [0.99743477],\n",
       "        [0.99733734]]), 207: array([[0.98729078],\n",
       "        [0.98670462],\n",
       "        [0.98825298]]), 223: array([[0.99653385],\n",
       "        [0.99646499],\n",
       "        [0.99646023]]), 233: array([[0.99640894],\n",
       "        [0.99630858],\n",
       "        [0.99624095]]), 235: array([[0.99672121],\n",
       "        [0.99665269],\n",
       "        [0.99674216]]), 236: array([[0.98960155],\n",
       "        [0.99039605],\n",
       "        [0.99025781]]), 237: array([[0.98932051],\n",
       "        [0.98930113],\n",
       "        [0.98894214]]), 238: array([[0.99634649],\n",
       "        [0.99633986],\n",
       "        [0.99620963]]), 240: array([[0.99584686],\n",
       "        [0.9959019 ],\n",
       "        [0.9956771 ]]), 241: array([[0.99603422],\n",
       "        [0.99602703],\n",
       "        [0.99602168]]), 242: array([[0.99515988],\n",
       "        [0.99502597],\n",
       "        [0.99479999]]), 245: array([[0.99609668],\n",
       "        [0.99587061],\n",
       "        [0.99608433]]), 246: array([[0.99697102],\n",
       "        [0.99709066],\n",
       "        [0.99705541]]), 249: array([[0.9950662 ],\n",
       "        [0.9951511 ],\n",
       "        [0.99520722]]), 252: array([[0.99637772],\n",
       "        [0.99655884],\n",
       "        [0.99636626]]), 254: array([[0.99175618],\n",
       "        [0.99145968],\n",
       "        [0.99169878]]), 256: array([[0.99619036],\n",
       "        [0.9960896 ],\n",
       "        [0.996053  ]]), 258: array([[0.99597177],\n",
       "        [0.99577676],\n",
       "        [0.99561445]]), 259: array([[0.99494129],\n",
       "        [0.99518238],\n",
       "        [0.99514457]]), 260: array([[0.99728329],\n",
       "        [0.99724708],\n",
       "        [0.99730602]]), 261: array([[0.98922683],\n",
       "        [0.98961396],\n",
       "        [0.99013251]]), 263: array([[0.99256807],\n",
       "        [0.99277357],\n",
       "        [0.99257589]]), 264: array([[0.99687734],\n",
       "        [0.99652756],\n",
       "        [0.99661686]]), 269: array([[0.98704097],\n",
       "        [0.98711131],\n",
       "        [0.98696864]]), 270: array([[0.98963278],\n",
       "        [0.9886129 ],\n",
       "        [0.98862889]]), 273: array([[0.99434799],\n",
       "        [0.99455672],\n",
       "        [0.99436143]]), 287: array([[0.99022608],\n",
       "        [0.99061503],\n",
       "        [0.99022648]]), 294: array([[0.99584686],\n",
       "        [0.99599575],\n",
       "        [0.99599035]]), 298: array([[0.99141269],\n",
       "        [0.99070888],\n",
       "        [0.99097829]]), 301: array([[0.99715838],\n",
       "        [0.99680911],\n",
       "        [0.99724337]]), 308: array([[0.99572196],\n",
       "        [0.9955265 ],\n",
       "        [0.9958024 ]]), 315: array([[0.99759555],\n",
       "        [0.99734092],\n",
       "        [0.99730602]]), 318: array([[0.99584686],\n",
       "        [0.99565163],\n",
       "        [0.99570842]]), 327: array([[0.99662753],\n",
       "        [0.99668398],\n",
       "        [0.99671084]]), 332: array([[0.99678366],\n",
       "        [0.99665269],\n",
       "        [0.99696144]]), 333: array([[0.99590932],\n",
       "        [0.99618344],\n",
       "        [0.9961783 ]]), 339: array([[0.99722083],\n",
       "        [0.99690296],\n",
       "        [0.99686746]]), 340: array([[0.99675244],\n",
       "        [0.99668398],\n",
       "        [0.99674216]]), 342: array([[0.99209968],\n",
       "        [0.99227304],\n",
       "        [0.99235661]]), 344: array([[0.99681489],\n",
       "        [0.99677783],\n",
       "        [0.99661686]]), 351: array([[0.99256807],\n",
       "        [0.99214791],\n",
       "        [0.99241926]]), 356: array([[0.99747065],\n",
       "        [0.99762247],\n",
       "        [0.9975253 ]]), 361: array([[0.99665876],\n",
       "        [0.99659013],\n",
       "        [0.99649156]]), 363: array([[0.99634649],\n",
       "        [0.99630858],\n",
       "        [0.99658553]]), 411: array([[0.99081939],\n",
       "        [0.99052118],\n",
       "        [0.99107227]]), 417: array([[0.99672121],\n",
       "        [0.99690296],\n",
       "        [0.99693011]]), 425: array([[0.99431676],\n",
       "        [0.99427517],\n",
       "        [0.99429878]]), 430: array([[0.99640894],\n",
       "        [0.9960896 ],\n",
       "        [0.996053  ]]), 435: array([[0.9970647 ],\n",
       "        [0.99709066],\n",
       "        [0.99721204]]), 436: array([[0.99519111],\n",
       "        [0.9951511 ],\n",
       "        [0.99508192]]), 440: array([[0.99722083],\n",
       "        [0.99721579],\n",
       "        [0.99696144]]), 444: array([[0.99740819],\n",
       "        [0.99746606],\n",
       "        [0.9975253 ]]), 475: array([[0.98913315],\n",
       "        [0.98942627],\n",
       "        [0.98931805]]), 476: array([[0.99675244],\n",
       "        [0.99699681],\n",
       "        [0.99674216]]), 486: array([[0.99559705],\n",
       "        [0.99518238],\n",
       "        [0.99539517]]), 515: array([[0.9941294 ],\n",
       "        [0.99418132],\n",
       "        [0.99426746]]), 533: array([[0.99356732],\n",
       "        [0.9936495 ],\n",
       "        [0.99376625]]), 561: array([[0.98491756],\n",
       "        [0.98401427],\n",
       "        [0.98455659]]), 563: array([[0.99697102],\n",
       "        [0.99680911],\n",
       "        [0.99686746]]), 564: array([[0.99556583],\n",
       "        [0.9955265 ],\n",
       "        [0.99545782]]), 568: array([[0.99194354],\n",
       "        [0.99202277],\n",
       "        [0.99176143]]), 569: array([[0.98903947],\n",
       "        [0.98933242],\n",
       "        [0.989506  ]]), 570: array([[0.99812641],\n",
       "        [0.99824814],\n",
       "        [0.99840241]]), 573: array([[0.99125656],\n",
       "        [0.99092786],\n",
       "        [0.99085299]]), 575: array([[0.98982013],\n",
       "        [0.99017706],\n",
       "        [0.99013251]]), 576: array([[0.99431676],\n",
       "        [0.99446287],\n",
       "        [0.99429878]]), 580: array([[0.98675993],\n",
       "        [0.98636051],\n",
       "        [0.98640479]]), 583: array([[0.98063952],\n",
       "        [0.98060439],\n",
       "        [0.97988911]]), 584: array([[0.98167   ],\n",
       "        [0.98138647],\n",
       "        [0.98095417]]), 600: array([[0.99163128],\n",
       "        [0.99145968],\n",
       "        [0.99141685]]), 603: array([[0.99556583],\n",
       "        [0.99568291],\n",
       "        [0.9955518 ]]), 605: array([[0.99715838],\n",
       "        [0.99768504],\n",
       "        [0.99705541]]), 640: array([[0.99709593],\n",
       "        [0.99709066],\n",
       "        [0.99727469]]), 647: array([[0.99740819],\n",
       "        [0.99765376],\n",
       "        [0.99702409]]), 653: array([[0.99743942],\n",
       "        [0.99737221],\n",
       "        [0.99736867]]), 664: array([[0.99515988],\n",
       "        [0.9953388 ],\n",
       "        [0.99539517]]), 665: array([[0.9969398 ],\n",
       "        [0.99715323],\n",
       "        [0.99689879]]), 677: array([[0.99675244],\n",
       "        [0.99655884],\n",
       "        [0.99658553]]), 692: array([[0.99697102],\n",
       "        [0.99696553],\n",
       "        [0.99689879]]), 697: array([[0.99584686],\n",
       "        [0.9957142 ],\n",
       "        [0.9956771 ]]), 705: array([[0.9964714 ],\n",
       "        [0.99652756],\n",
       "        [0.99639758]]), 722: array([[0.99462903],\n",
       "        [0.99443158],\n",
       "        [0.99445541]]), 740: array([[0.99662753],\n",
       "        [0.99668398],\n",
       "        [0.99693011]]), 741: array([[0.99715838],\n",
       "        [0.99693424],\n",
       "        [0.99705541]]), 756: array([[0.99556583],\n",
       "        [0.99530751],\n",
       "        [0.99548915]]), 780: array([[0.9961279 ],\n",
       "        [0.99662141],\n",
       "        [0.99649156]]), 784: array([[0.99637772],\n",
       "        [0.99630858],\n",
       "        [0.99658553]]), 785: array([[0.99731451],\n",
       "        [0.99727836],\n",
       "        [0.99711807]]), 797: array([[0.9955346 ],\n",
       "        [0.9960896 ],\n",
       "        [0.99558312]]), 812: array([[0.9944729 ],\n",
       "        [0.9947757 ],\n",
       "        [0.99445541]]), 844: array([[0.9970647 ],\n",
       "        [0.99696553],\n",
       "        [0.99693011]]), 859: array([[0.99803273],\n",
       "        [0.99802916],\n",
       "        [0.9981518 ]]), 868: array([[0.99668998],\n",
       "        [0.99677783],\n",
       "        [0.99677349]]), 875: array([[0.99500375],\n",
       "        [0.9957142 ],\n",
       "        [0.9955518 ]]), 932: array([[0.9901324 ],\n",
       "        [0.99039605],\n",
       "        [0.99013251]]), 996: array([[0.99272421],\n",
       "        [0.99264844],\n",
       "        [0.99241926]]), 1014: array([[0.99725206],\n",
       "        [0.99684039],\n",
       "        [0.99683614]]), 1040: array([[0.99715838],\n",
       "        [0.99671526],\n",
       "        [0.99683614]]), 1054: array([[0.99650262],\n",
       "        [0.99630858],\n",
       "        [0.99661686]]), 1248: array([[0.99768923],\n",
       "        [0.99755991],\n",
       "        [0.99786987]]), 1267: array([[0.99747065],\n",
       "        [0.99749734],\n",
       "        [0.99718072]]), 1299: array([[0.99675244],\n",
       "        [0.99693424],\n",
       "        [0.99699276]]), 1371: array([[0.99347364],\n",
       "        [0.99355565],\n",
       "        [0.99295179]]), 1797: array([[0.99434799],\n",
       "        [0.99471313],\n",
       "        [0.99414215]]), 1798: array([[0.99606545],\n",
       "        [0.99605831],\n",
       "        [0.99667951]]), 1993: array([[0.99653385],\n",
       "        [0.99680911],\n",
       "        [0.99680481]]), 2118: array([[0.99759555],\n",
       "        [0.99746606],\n",
       "        [0.99774457]]), 2174: array([[0.99559705],\n",
       "        [0.99555778],\n",
       "        [0.99558312]]), 2191: array([[0.99525356],\n",
       "        [0.99524495],\n",
       "        [0.99508192]]), 2250: array([[0.99743942],\n",
       "        [0.99734092],\n",
       "        [0.99746264]]), 2355: array([[0.99587809],\n",
       "        [0.99490083],\n",
       "        [0.99570842]]), 2408: array([[0.99291157],\n",
       "        [0.99377464],\n",
       "        [0.99360962]]), 2493: array([[0.9965963 ],\n",
       "        [0.99655884],\n",
       "        [0.99646023]]), 2625: array([[0.99562828],\n",
       "        [0.99615216],\n",
       "        [0.9958024 ]]), 2902: array([[0.99718961],\n",
       "        [0.99702809],\n",
       "        [0.99696144]])}"
      ]
     },
     "execution_count": 89,
     "metadata": {},
     "output_type": "execute_result"
    }
   ],
   "source": [
    "logit_cv_150users.scores_"
   ]
  },
  {
   "cell_type": "code",
   "execution_count": 90,
   "metadata": {},
   "outputs": [
    {
     "name": "stdout",
     "output_type": "stream",
     "text": [
      "User 6, CV score: 0.9958396485310578\n",
      "User 13, CV score: 0.996236159606072\n",
      "User 15, CV score: 0.9951414156621485\n",
      "User 16, CV score: 0.9917629636028263\n",
      "User 28, CV score: 0.990032646749408\n",
      "User 31, CV score: 0.9945992933895361\n",
      "User 33, CV score: 0.9936295923347456\n",
      "User 39, CV score: 0.9857474441964414\n",
      "User 46, CV score: 0.9979773735144889\n",
      "User 49, CV score: 0.9949328849394247\n",
      "User 50, CV score: 0.9944847392709221\n",
      "User 53, CV score: 0.9936087227963695\n",
      "User 65, CV score: 0.9969973347781819\n",
      "User 66, CV score: 0.9949640742212859\n",
      "User 82, CV score: 0.9963612639936241\n",
      "User 85, CV score: 0.9963196987839488\n",
      "User 89, CV score: 0.9905122649916512\n",
      "User 92, CV score: 0.9943596252032839\n",
      "User 100, CV score: 0.9947138940123931\n",
      "User 102, CV score: 0.991190153815365\n",
      "User 103, CV score: 0.9798572049408728\n",
      "User 105, CV score: 0.9968201105460203\n",
      "User 106, CV score: 0.9945051894225921\n",
      "User 118, CV score: 0.9906581115547454\n",
      "User 119, CV score: 0.9966011573912393\n",
      "User 120, CV score: 0.9942028893690901\n",
      "User 126, CV score: 0.9949953666657659\n",
      "User 127, CV score: 0.9910646256751109\n",
      "User 128, CV score: 0.9845800139956307\n",
      "User 138, CV score: 0.997195338958136\n",
      "User 158, CV score: 0.9970494778749127\n",
      "User 160, CV score: 0.9968616573436172\n",
      "User 165, CV score: 0.9972996440377231\n",
      "User 172, CV score: 0.996538553616154\n",
      "User 177, CV score: 0.996840961672318\n",
      "User 203, CV score: 0.9973101662144965\n",
      "User 207, CV score: 0.9874161297727787\n",
      "User 223, CV score: 0.9964863587010901\n",
      "User 233, CV score: 0.9963194919846642\n",
      "User 235, CV score: 0.9967053544681646\n",
      "User 236, CV score: 0.9900851341623905\n",
      "User 237, CV score: 0.9891879280334254\n",
      "User 238, CV score: 0.9962986602185385\n",
      "User 240, CV score: 0.995808619544238\n",
      "User 241, CV score: 0.9960276434034773\n",
      "User 242, CV score: 0.9949952775492292\n",
      "User 245, CV score: 0.9960172059772443\n",
      "User 246, CV score: 0.9970390317166872\n",
      "User 249, CV score: 0.9951415052527319\n",
      "User 252, CV score: 0.996434272262735\n",
      "User 254, CV score: 0.9916382113154247\n",
      "User 256, CV score: 0.9961109849881087\n",
      "User 258, CV score: 0.9957876604152786\n",
      "User 259, CV score: 0.9950894139743337\n",
      "User 260, CV score: 0.9972787933854722\n",
      "User 261, CV score: 0.9896577670195402\n",
      "User 263, CV score: 0.9926391771965775\n",
      "User 264, CV score: 0.9966739206147682\n",
      "User 269, CV score: 0.9870403061111178\n",
      "User 270, CV score: 0.9889581882961168\n",
      "User 273, CV score: 0.9944220459052531\n",
      "User 287, CV score: 0.990355863793623\n",
      "User 294, CV score: 0.9959443207049712\n",
      "User 298, CV score: 0.9910332867263878\n",
      "User 301, CV score: 0.99707028591487\n",
      "User 308, CV score: 0.9956836183193051\n",
      "User 315, CV score: 0.9974141652241295\n",
      "User 318, CV score: 0.9957356393672918\n",
      "User 327, CV score: 0.9966741138420175\n",
      "User 332, CV score: 0.9967992647338124\n",
      "User 333, CV score: 0.9960903556552715\n",
      "User 339, CV score: 0.9969970853666035\n",
      "User 340, CV score: 0.9967261910743334\n",
      "User 342, CV score: 0.9922431078122971\n",
      "User 344, CV score: 0.9967365248639005\n",
      "User 351, CV score: 0.9923784133124925\n",
      "User 356, CV score: 0.99753947204497\n",
      "User 361, CV score: 0.9965801469179936\n",
      "User 363, CV score: 0.9964135339791422\n",
      "User 411, CV score: 0.9908042772857825\n",
      "User 417, CV score: 0.9968514271907155\n",
      "User 425, CV score: 0.9942969037454504\n",
      "User 430, CV score: 0.9961838470082602\n",
      "User 435, CV score: 0.9971224672578982\n",
      "User 436, CV score: 0.9951413735239018\n",
      "User 440, CV score: 0.9971326882047608\n",
      "User 444, CV score: 0.9974665155941921\n",
      "User 475, CV score: 0.9892924873646338\n",
      "User 476, CV score: 0.9968304685358027\n",
      "User 486, CV score: 0.9953915343726223\n",
      "User 515, CV score: 0.9941927255546505\n",
      "User 533, CV score: 0.9936610257140952\n",
      "User 561, CV score: 0.984496138759448\n",
      "User 563, CV score: 0.9968825312479894\n",
      "User 564, CV score: 0.9955167143046754\n",
      "User 568, CV score: 0.991909247490658\n",
      "User 569, CV score: 0.9892926282995034\n",
      "User 570, CV score: 0.9982589832107817\n",
      "User 573, CV score: 0.9910124694803913\n",
      "User 575, CV score: 0.9900432347905967\n",
      "User 576, CV score: 0.9943594702223323\n",
      "User 580, CV score: 0.9865084082032703\n",
      "User 583, CV score: 0.9803776735643112\n",
      "User 584, CV score: 0.9813368805344925\n",
      "User 600, CV score: 0.991502599745275\n",
      "User 603, CV score: 0.9956001784120979\n",
      "User 605, CV score: 0.9972996120536092\n",
      "User 640, CV score: 0.9971537597023783\n",
      "User 647, CV score: 0.9973620133954061\n",
      "User 653, CV score: 0.9973934322546268\n",
      "User 664, CV score: 0.9952979490630538\n",
      "User 665, CV score: 0.9969972693878134\n",
      "User 677, CV score: 0.9966322711285994\n",
      "User 692, CV score: 0.9969451117709535\n",
      "User 697, CV score: 0.9957460530673566\n",
      "User 705, CV score: 0.9964655128888822\n",
      "User 722, CV score: 0.9945053400375478\n",
      "User 740, CV score: 0.996747206387622\n",
      "User 741, CV score: 0.9970493461460824\n",
      "User 756, CV score: 0.995454161873876\n",
      "User 780, CV score: 0.9964136240437725\n",
      "User 784, CV score: 0.996423942839164\n",
      "User 785, CV score: 0.9972369792382656\n",
      "User 797, CV score: 0.9957357720442158\n",
      "User 812, CV score: 0.994568000945056\n",
      "User 844, CV score: 0.9969867801432476\n",
      "User 859, CV score: 0.9980712280698544\n",
      "User 868, CV score: 0.9967470983849599\n",
      "User 875, CV score: 0.9954232466778551\n",
      "User 932, CV score: 0.9902203176138418\n",
      "User 996, CV score: 0.9925973015509518\n",
      "User 1014, CV score: 0.9969761969421019\n",
      "User 1040, CV score: 0.9969032593774493\n",
      "User 1054, CV score: 0.9964760200714798\n",
      "User 1248, CV score: 0.9977063382873491\n",
      "User 1267, CV score: 0.9973829013458609\n",
      "User 1299, CV score: 0.9968931473813426\n",
      "User 1371, CV score: 0.9933270292976298\n",
      "User 1797, CV score: 0.9944010920903833\n",
      "User 1798, CV score: 0.9962677576464595\n",
      "User 1993, CV score: 0.9967159236232278\n",
      "User 2118, CV score: 0.9976020612999265\n",
      "User 2174, CV score: 0.995579318079761\n",
      "User 2191, CV score: 0.9951934744823858\n",
      "User 2250, CV score: 0.9974143298851675\n",
      "User 2355, CV score: 0.9954957823197867\n",
      "User 2408, CV score: 0.9934319416770822\n",
      "User 2493, CV score: 0.9965384596595742\n",
      "User 2625, CV score: 0.9958609466621792\n",
      "User 2902, CV score: 0.9970597128678573\n"
     ]
    }
   ],
   "source": [
    "cv_scores_by_user = {}\n",
    "for user_id in logit_cv_150users.scores_:\n",
    "    print('User {}, CV score: {}'.format(user_id, c))"
   ]
  },
  {
   "cell_type": "markdown",
   "metadata": {},
   "source": [
    "**Результаты кажутся впечатляющими, но возможно, мы забываем про дисбаланс классов, и высокую долю правильных ответов можно получить константным прогнозом. Посчитайте для каждого пользователя разницу между долей правильных ответов на кросс-валидации (только что посчитанную с помощью `LogisticRegressionCV`) и долей меток в *y_train_150*, отличных от ID \n",
    " этого пользователя (именно такую долю правильных ответов можно получить, если классификатор всегда \"говорит\", что это не пользователь с номером $i$ в задаче классификации $i$-vs-All).**"
   ]
  },
  {
   "cell_type": "code",
   "execution_count": 93,
   "metadata": {},
   "outputs": [
    {
     "data": {
      "text/plain": [
       "array([0, 1, 0, 2, 2])"
      ]
     },
     "execution_count": 93,
     "metadata": {},
     "output_type": "execute_result"
    }
   ],
   "source": [
    "np.bincount([1,3,4,3,4])\n"
   ]
  },
  {
   "cell_type": "code",
   "execution_count": null,
   "metadata": {},
   "outputs": [],
   "source": []
  },
  {
   "cell_type": "code",
   "execution_count": 107,
   "metadata": {},
   "outputs": [],
   "source": [
    "class_distr = np.bincount(y_train_150.astype('int'))\n",
    "acc_diff_vs_constant = []\n",
    "for user_id in np.unique(y_train_150):\n",
    "    cv_score = logit_cv_150users.scores_[user_id].mean()\n",
    "    total = len(y_train_150)\n",
    "    default = (total - class_distr[user_id]) / total\n",
    "    acc_diff_vs_constant.append(cv_score - default)"
   ]
  },
  {
   "cell_type": "code",
   "execution_count": 99,
   "metadata": {},
   "outputs": [
    {
     "ename": "AttributeError",
     "evalue": "'numpy.ndarray' object has no attribute 'values'",
     "output_type": "error",
     "traceback": [
      "\u001b[0;31m---------------------------------------------------------------------------\u001b[0m",
      "\u001b[0;31mAttributeError\u001b[0m                            Traceback (most recent call last)",
      "\u001b[0;32m<ipython-input-99-173898e4df81>\u001b[0m in \u001b[0;36m<module>\u001b[0;34m()\u001b[0m\n\u001b[0;32m----> 1\u001b[0;31m \u001b[0mnum_better_than_default\u001b[0m \u001b[0;34m=\u001b[0m \u001b[0;34m(\u001b[0m\u001b[0mnp\u001b[0m\u001b[0;34m.\u001b[0m\u001b[0marray\u001b[0m\u001b[0;34m(\u001b[0m\u001b[0mlist\u001b[0m\u001b[0;34m(\u001b[0m\u001b[0macc_diff_vs_constant\u001b[0m\u001b[0;34m.\u001b[0m\u001b[0mvalues\u001b[0m\u001b[0;34m(\u001b[0m\u001b[0;34m)\u001b[0m\u001b[0;34m)\u001b[0m\u001b[0;34m)\u001b[0m \u001b[0;34m>\u001b[0m \u001b[0;36m0\u001b[0m\u001b[0;34m)\u001b[0m\u001b[0;34m.\u001b[0m\u001b[0msum\u001b[0m\u001b[0;34m(\u001b[0m\u001b[0;34m)\u001b[0m\u001b[0;34m\u001b[0m\u001b[0m\n\u001b[0m",
      "\u001b[0;31mAttributeError\u001b[0m: 'numpy.ndarray' object has no attribute 'values'"
     ]
    }
   ],
   "source": [
    "num_better_than_default = (np.array(list(acc_diff_vs_constant.values())) > 0).sum()"
   ]
  },
  {
   "cell_type": "markdown",
   "metadata": {},
   "source": [
    "**<font color='red'>Вопрос 7. </font> Посчитайте долю пользователей, для которых логистическая регрессия на кросс-валидации дает прогноз лучше константного. Округлите до 3 знаков после запятой.**"
   ]
  },
  {
   "cell_type": "code",
   "execution_count": 111,
   "metadata": {},
   "outputs": [
    {
     "data": {
      "text/plain": [
       "array([ True,  True,  True,  True,  True,  True,  True,  True,  True,\n",
       "        True,  True,  True,  True,  True,  True,  True,  True,  True,\n",
       "       False,  True,  True,  True,  True,  True,  True,  True,  True,\n",
       "        True,  True,  True,  True,  True,  True,  True,  True,  True,\n",
       "        True,  True,  True, False,  True,  True,  True,  True, False,\n",
       "        True,  True, False,  True,  True,  True,  True,  True, False,\n",
       "        True,  True,  True,  True,  True,  True,  True,  True, False,\n",
       "        True,  True,  True,  True,  True,  True, False,  True,  True,\n",
       "        True,  True, False,  True,  True, False,  True,  True,  True,\n",
       "        True,  True, False,  True,  True,  True,  True,  True,  True,\n",
       "        True,  True,  True,  True,  True,  True,  True,  True,  True,\n",
       "        True, False,  True,  True,  True,  True,  True,  True,  True,\n",
       "        True,  True,  True,  True,  True,  True,  True,  True,  True,\n",
       "        True,  True,  True,  True,  True,  True,  True,  True,  True,\n",
       "        True, False,  True,  True,  True,  True,  True,  True,  True,\n",
       "        True,  True,  True,  True,  True,  True,  True,  True,  True,\n",
       "       False,  True,  True,  True,  True,  True])"
      ]
     },
     "execution_count": 111,
     "metadata": {},
     "output_type": "execute_result"
    }
   ],
   "source": [
    "acc_diff_vs_constant = np.asarray(acc_diff_vs_constant)\n",
    "num_better = np.array(acc_diff_vs_constant > 0).sum()\n",
    "np.array(acc_diff_vs_constant > 0)"
   ]
  },
  {
   "cell_type": "markdown",
   "metadata": {},
   "source": [
    "**Дальше будем строить кривые обучения для конкретного пользователя, допустим, для 128-го. Составьте новый бинарный вектор на основе *y_150users*, его значения будут 1 или 0 в зависимости от того, равен ли ID-шник пользователя 128.**"
   ]
  },
  {
   "cell_type": "code",
   "execution_count": null,
   "metadata": {
    "collapsed": true
   },
   "outputs": [],
   "source": [
    "y_binary_128 = ''' ВАШ КОД ЗДЕСЬ '''"
   ]
  },
  {
   "cell_type": "code",
   "execution_count": null,
   "metadata": {
    "collapsed": true
   },
   "outputs": [],
   "source": [
    "from sklearn.model_selection import learning_curve\n",
    "\n",
    "def plot_learning_curve(val_train, val_test, train_sizes, \n",
    "                        xlabel='Training Set Size', ylabel='score'):\n",
    "    def plot_with_err(x, data, **kwargs):\n",
    "        mu, std = data.mean(1), data.std(1)\n",
    "        lines = plt.plot(x, mu, '-', **kwargs)\n",
    "        plt.fill_between(x, mu - std, mu + std, edgecolor='none',\n",
    "                         facecolor=lines[0].get_color(), alpha=0.2)\n",
    "    plot_with_err(train_sizes, val_train, label='train')\n",
    "    plot_with_err(train_sizes, val_test, label='valid')\n",
    "    plt.xlabel(xlabel); plt.ylabel(ylabel)\n",
    "    plt.legend(loc='lower right');"
   ]
  },
  {
   "cell_type": "markdown",
   "metadata": {},
   "source": [
    "**Посчитайте доли правильных ответов на кросс-валидации в задаче классификации \"user128-vs-All\" в зависимости от размера выборки. Не помешает посмотреть встроенную документацию для *learning_curve*.**"
   ]
  },
  {
   "cell_type": "code",
   "execution_count": null,
   "metadata": {
    "collapsed": true
   },
   "outputs": [],
   "source": [
    "%%time\n",
    "train_sizes = np.linspace(0.25, 1, 20)\n",
    "estimator = svm_grid_searcher2.best_estimator_\n",
    "n_train, val_train, val_test = learning_curve ''' ВАШ КОД ЗДЕСЬ '''"
   ]
  },
  {
   "cell_type": "code",
   "execution_count": null,
   "metadata": {
    "collapsed": true
   },
   "outputs": [],
   "source": [
    "plot_learning_curve(val_train, val_test, n_train, \n",
    "                    xlabel='train_size', ylabel='accuracy')"
   ]
  },
  {
   "cell_type": "markdown",
   "metadata": {},
   "source": [
    "**Сделайте выводы о том, помогут ли алгоритму новые размеченные данные при той же постановке задачи.**"
   ]
  },
  {
   "cell_type": "markdown",
   "metadata": {},
   "source": [
    "## Пути улучшения\n",
    "- конечно, можно проверить еще кучу алгоритмов, например, Xgboost, но в такой задаче очень маловероятно, что что-то справится лучше линейных методов\n",
    "- интересно проверить качество алгоритма на данных, где сессии выделялись не по количеству посещенных сайтов, а по времени, например, 5, 7, 10 и 15 минут. Отдельно стоит отметить данные нашего [соревнования](https://inclass.kaggle.com/c/catch-me-if-you-can-intruder-detection-through-webpage-session-tracking2) \n",
    "- опять же, если ресурсы позволяют, можно проверить, насколько хорошо можно решить задачу для 3000 пользователей\n",
    "\n",
    "\n",
    "На следующей неделе мы вспомним про линейные модели, обучаемые стохастическим градиентным спуском, и порадуемся тому, насколько быстрее они работают. Также сделаем первые (или не первые) посылки в [соревновании](https://inclass.kaggle.com/c/catch-me-if-you-can-intruder-detection-through-webpage-session-tracking2) Kaggle Inclass."
   ]
  }
 ],
 "metadata": {
  "anaconda-cloud": {},
  "kernelspec": {
   "display_name": "Python 3",
   "language": "python",
   "name": "python3"
  },
  "language_info": {
   "codemirror_mode": {
    "name": "ipython",
    "version": 3
   },
   "file_extension": ".py",
   "mimetype": "text/x-python",
   "name": "python",
   "nbconvert_exporter": "python",
   "pygments_lexer": "ipython3",
   "version": "3.6.4"
  }
 },
 "nbformat": 4,
 "nbformat_minor": 1
}
