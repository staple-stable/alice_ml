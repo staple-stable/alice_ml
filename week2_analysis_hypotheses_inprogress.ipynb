{
 "cells": [
  {
   "cell_type": "markdown",
   "metadata": {},
   "source": [
    "<center>\n",
    "<img src=\"https://habrastorage.org/web/677/8e1/337/6778e1337c3d4b159d7e99df94227cb2.jpg\"/>\n",
    "## Специализация \"Машинное обучение и анализ данных\"\n",
    "<center>Автор материала: программист-исследователь Mail.Ru Group, старший преподаватель Факультета Компьютерных Наук ВШЭ [Юрий Кашницкий](https://yorko.github.io/)"
   ]
  },
  {
   "cell_type": "markdown",
   "metadata": {},
   "source": [
    "# <center> Capstone проект №1 <br>Идентификация пользователей по посещенным веб-страницам\n",
    "<img src='http://i.istockimg.com/file_thumbview_approve/21546327/5/stock-illustration-21546327-identification-de-l-utilisateur.jpg'>\n",
    "\n",
    "# <center>Неделя 2. Подготовка и первичный анализ данных\n",
    "\n",
    "На второй неделе мы продолжим подготавливать данные для дальнейшего анализа и построения прогнозных моделей. Конкретно, раньше мы определили что сессия – это последовательность из 10 посещенных пользователем сайтов, теперь сделаем длину сессии параметром, и потом при обучении прогнозных моделей выберем лучшую длину сессии.\n",
    "Также мы познакомимся с предобработанными данными и статистически проверим первые гипотезы, связанные с нашими наблюдениями. \n",
    "\n",
    "**План 2 недели:**\n",
    " - Часть 1. Подготовка нескольких обучающих выборок для сравнения\n",
    " - Часть 2. Первичный анализ данных, проверка гипотез\n",
    "\n",
    "**В этой части проекта Вам могут быть полезны  следующие видеозаписи лекций курса \"Построение выводов по данным\":**\n",
    "\n",
    "   - [Доверительные интервалы для доли](https://www.coursera.org/learn/stats-for-data-analysis/lecture/3oi53/dovieritiel-nyie-intiervaly-dlia-doli)\n",
    "   - [Биномиальный критерий для доли](https://www.coursera.org/learn/stats-for-data-analysis/lecture/JwmBw/binomial-nyi-kritierii-dlia-doli)\n",
    "   - [Доверительные интервалы на основе бутстрепа](https://www.coursera.org/learn/stats-for-data-analysis/lecture/GZjW7/dovieritiel-nyie-intiervaly-na-osnovie-butstriepa)\n",
    "   \n",
    "**Кроме того, в задании будут использоваться библиотеки Python [glob](https://docs.python.org/3/library/glob.html), [pickle](https://docs.python.org/2/library/pickle.html), [itertools](https://docs.python.org/3/library/itertools.html) и класс [csr_matrix](https://docs.scipy.org/doc/scipy-0.14.0/reference/generated/scipy.sparse.csr_matrix.html) из scipy.sparse.**"
   ]
  },
  {
   "cell_type": "markdown",
   "metadata": {},
   "source": [
    "### Задание\n",
    "1. Заполните код в этой тетрадке \n",
    "2. Если вы проходите специализацию Яндеса и МФТИ, пошлите файл с ответами в соответствующем Programming Assignment. <br> Если вы проходите курс ODS, выберите ответы в [веб-форме](https://docs.google.com/forms/d/13ZnT7w7foHD0uw0ynTtj7atdiCGvlltF8ThhbJCvLsc).  \n"
   ]
  },
  {
   "cell_type": "markdown",
   "metadata": {},
   "source": [
    "## Часть 1. Подготовка нескольких обучающих выборок для сравнения\n",
    "\n",
    "Пока мы брали последовательности из 10 сайтов, и это было наобум. Давайте сделаем число сайтов в сессии параметром, чтоб в дальнейшем сравнить модели классификации, обученные на разных выборках – с 5, 7, 10 и 15 сайтами в сессии. Более того, пока мы брали по 10 сайтов подряд, без пересечения. Теперь давайте применим идею скользящего окна – сессии будут перекрываться. \n",
    "\n",
    "**Пример**: для длины сессии 10 и ширины окна 7 файл из 30 записей породит не 3 сессии, как раньше (1-10, 11-20, 21-30), а 5 (1-10, 8-17, 15-24, 22-30, 29-30). При этом в предпоследней сессии будет один ноль, а в последней – 8 нолей.\n",
    "\n",
    "Создадим несколько выборок для разных сочетаний параметров длины сессии и ширины окна. Все они представлены в табличке ниже:\n",
    "\n",
    "<style type=\"text/css\">\n",
    ".tg  {border-collapse:collapse;border-spacing:0;}\n",
    ".tg td{font-family:Arial, sans-serif;font-size:14px;padding:10px 5px;border-style:solid;border-width:1px;overflow:hidden;word-break:normal;}\n",
    ".tg th{font-family:Arial, sans-serif;font-size:14px;font-weight:normal;padding:10px 5px;border-style:solid;border-width:1px;overflow:hidden;word-break:normal;}\n",
    "</style>\n",
    "<table class=\"tg\">\n",
    "  <tr>\n",
    "    <th class=\"tg-031e\">session_length -&gt;<br>window_size <br></th>\n",
    "    <th class=\"tg-031e\">5</th>\n",
    "    <th class=\"tg-031e\">7</th>\n",
    "    <th class=\"tg-031e\">10</th>\n",
    "    <th class=\"tg-031e\">15</th>\n",
    "  </tr>\n",
    "  <tr>\n",
    "    <td class=\"tg-031e\">5</td>\n",
    "    <td class=\"tg-031e\">v</td>\n",
    "    <td class=\"tg-031e\">v</td>\n",
    "    <td class=\"tg-031e\">v</td>\n",
    "    <td class=\"tg-031e\">v</td>\n",
    "  </tr>\n",
    "  <tr>\n",
    "    <td class=\"tg-031e\">7</td>\n",
    "    <td class=\"tg-031e\"></td>\n",
    "    <td class=\"tg-031e\">v</td>\n",
    "    <td class=\"tg-031e\">v</td>\n",
    "    <td class=\"tg-031e\">v</td>\n",
    "  </tr>\n",
    "  <tr>\n",
    "    <td class=\"tg-031e\">10</td>\n",
    "    <td class=\"tg-031e\"></td>\n",
    "    <td class=\"tg-031e\"></td>\n",
    "    <td class=\"tg-031e\"><font color='green'>v</font></td>\n",
    "    <td class=\"tg-031e\">v</td>\n",
    "  </tr>\n",
    "</table>\n",
    "\n",
    "Итого должно получиться 18 разреженных матриц – указанные в таблице 9 сочетаний параметров формирования сессий для выборок из 10 и 150 пользователей. При этом 2 выборки мы уже сделали в прошлой части, они соответствуют сочетанию параметров: session_length=10, window_size=10, которые помечены в таблице выше галочкой зеленого цвета (done)."
   ]
  },
  {
   "cell_type": "markdown",
   "metadata": {},
   "source": [
    "Реализуйте функцию *prepare_sparse_train_set_window*.\n",
    "\n",
    "Аргументы:\n",
    "- *path_to_csv_files* – путь к каталогу с csv-файлами\n",
    "- *site_freq_path* – путь к pickle-файлу с частотным словарем, полученным в 1 части проекта\n",
    "- *session_length* – длина сессии (параметр)\n",
    "- *window_size* – ширина окна (параметр) \n",
    "\n",
    "Функция должна возвращать 2 объекта:\n",
    "- разреженную матрицу *X_sparse* (двухмерная Scipy.sparse.csr_matrix), в которой строки соответствуют сессиям из *session_length* сайтов, а *max(site_id)* столбцов – количеству посещений *site_id* в сессии. \n",
    "- вектор *y* (Numpy array) \"ответов\" в виде ID пользователей, которым принадлежат сессии из *X_sparse*\n",
    "\n",
    "Детали:\n",
    "- Модифицируйте созданную в 1 части функцию *prepare_train_set*\n",
    "- Некоторые сессии могут повторяться – оставьте как есть, не удаляйте дубликаты\n",
    "- Замеряйте время выполнения итераций цикла с помощью *time* из *time*, *tqdm* из *tqdm* или с помощью виджета [log_progress](https://github.com/alexanderkuk/log-progress) ([статья](https://habrahabr.ru/post/276725/) о нем на Хабрахабре)\n",
    "- 150 файлов из *capstone_websites_data/150users/* должны обрабатываться за несколько секунд (в зависимости от входных параметров). Если дольше – не страшно, но знайте, что функцию можно ускорить. "
   ]
  },
  {
   "cell_type": "code",
   "execution_count": 1,
   "metadata": {
    "collapsed": true
   },
   "outputs": [],
   "source": [
    "from __future__ import division, print_function\n",
    "# отключим всякие предупреждения Anaconda\n",
    "import warnings\n",
    "warnings.filterwarnings('ignore')\n",
    "from glob import glob\n",
    "import os\n",
    "import pickle\n",
    "from tqdm import tqdm_notebook as tqdm\n",
    "import numpy as np\n",
    "import pandas as pd\n",
    "from scipy.sparse import csr_matrix\n",
    "from scipy import stats\n",
    "from statsmodels.stats.proportion import proportion_confint\n",
    "%matplotlib inline\n",
    "from matplotlib import pyplot as plt\n",
    "from collections import defaultdict"
   ]
  },
  {
   "cell_type": "code",
   "execution_count": 2,
   "metadata": {
    "collapsed": true
   },
   "outputs": [],
   "source": [
    "# Поменяйте на свой путь к данным\n",
    "PATH_TO_DATA = './data/'"
   ]
  },
  {
   "cell_type": "code",
   "execution_count": 3,
   "metadata": {
    "collapsed": true
   },
   "outputs": [],
   "source": [
    "def to_csr(X):\n",
    "    indptr = [0]\n",
    "    indices = []\n",
    "    data = []\n",
    "    vocabulary = {}\n",
    "    for d in X:\n",
    "        for term in d:\n",
    "            index = term\n",
    "            indices.append(index)\n",
    "            data.append(1)\n",
    "        indptr.append(len(indices))\n",
    "    return csr_matrix((data, indices, indptr), dtype=int)[:, 1:]"
   ]
  },
  {
   "cell_type": "code",
   "execution_count": 4,
   "metadata": {
    "collapsed": true
   },
   "outputs": [],
   "source": [
    "def prepare_sparse_train_set_window(path_to_csv_files, site_freq_path, \n",
    "                                    session_length=10, window_size=10):\n",
    "    \n",
    "    freqs = pickle.load(open(site_freq_path, \"rb\"))\n",
    "            \n",
    "    allFiles = glob(path_to_csv_files + \"/*.csv\")\n",
    "    df_list = []\n",
    "    userId = 1\n",
    "    \n",
    "    for file in allFiles:\n",
    "        basename = os.path.basename(file)\n",
    "        user = int(basename[4:-4])\n",
    "        df = pd.read_csv(file)\n",
    "        df_list.append((user, df))\n",
    "    \n",
    "    columns = [\"site\" + str(x) for x in range(1, session_length + 1)]\n",
    "    columns.append(\"user_id\")\n",
    "    resultDF = pd.DataFrame(columns=columns)\n",
    "    \n",
    "    tmpArray = []\n",
    "    \n",
    "    userId = 0\n",
    "    \n",
    "    def queue_to_dict(queue, user_id):\n",
    "        result = defaultdict(int)\n",
    "        result[\"user_id\"] = user_id\n",
    "        for i, site in enumerate(queue, start=1):\n",
    "            result[\"site\"+str(i)] = site\n",
    "        return result\n",
    "        \n",
    "    \n",
    "    for userId, df in tqdm(df_list):\n",
    "        newRow = defaultdict(int)\n",
    "        newRow[\"user_id\"] = userId\n",
    "        queue = []\n",
    "        for row in df.itertuples():\n",
    "            queue.append(freqs[row.site][0])\n",
    "            if (len(queue) == session_length):\n",
    "                tmpArray.append(queue_to_dict(queue, userId))\n",
    "                queue = queue[window_size:]\n",
    "        if (len(queue)> 0):\n",
    "            while len(queue) > 0:\n",
    "                tmpArray.append(queue_to_dict(queue, userId))\n",
    "                queue = queue[window_size:]\n",
    "            \n",
    "    resultDF = resultDF.append(tmpArray)\n",
    "    resultDF = resultDF.fillna(0)\n",
    "    resultDF[resultDF.columns] = resultDF[resultDF.columns].astype(int)\n",
    "    \n",
    "    y = resultDF[\"user_id\"]\n",
    "    resultDF.drop(\"user_id\", axis=1, inplace=True)\n",
    "    return (to_csr(resultDF.values), y.values)"
   ]
  },
  {
   "cell_type": "markdown",
   "metadata": {},
   "source": [
    "**Примените полученную функцию с параметрами *session_length=5* и *window_size=3* к игрушечному примеру. Убедитесь, что все работает как надо.**"
   ]
  },
  {
   "cell_type": "code",
   "execution_count": 5,
   "metadata": {},
   "outputs": [
    {
     "data": {
      "application/vnd.jupyter.widget-view+json": {
       "model_id": "dd8b49d140ec43189d1a855d29f8436c",
       "version_major": 2,
       "version_minor": 0
      },
      "text/html": [
       "<p>Failed to display Jupyter Widget of type <code>HBox</code>.</p>\n",
       "<p>\n",
       "  If you're reading this message in the Jupyter Notebook or JupyterLab Notebook, it may mean\n",
       "  that the widgets JavaScript is still loading. If this message persists, it\n",
       "  likely means that the widgets JavaScript library is either not installed or\n",
       "  not enabled. See the <a href=\"https://ipywidgets.readthedocs.io/en/stable/user_install.html\">Jupyter\n",
       "  Widgets Documentation</a> for setup instructions.\n",
       "</p>\n",
       "<p>\n",
       "  If you're reading this message in another frontend (for example, a static\n",
       "  rendering on GitHub or <a href=\"https://nbviewer.jupyter.org/\">NBViewer</a>),\n",
       "  it may mean that your frontend doesn't currently support widgets.\n",
       "</p>\n"
      ],
      "text/plain": [
       "HBox(children=(IntProgress(value=0, max=3), HTML(value='')))"
      ]
     },
     "metadata": {},
     "output_type": "display_data"
    },
    {
     "name": "stdout",
     "output_type": "stream",
     "text": [
      "\n"
     ]
    }
   ],
   "source": [
    "X_toy_s5_w3, y_s5_w3 = prepare_sparse_train_set_window(os.path.join(PATH_TO_DATA,'3users'), \n",
    "                                                       os.path.join(PATH_TO_DATA,'site_freq_3users.pkl'),\n",
    "                                       session_length=5, window_size=3)"
   ]
  },
  {
   "cell_type": "code",
   "execution_count": 6,
   "metadata": {
    "scrolled": true
   },
   "outputs": [
    {
     "data": {
      "text/plain": [
       "matrix([[0, 2, 1, 0, 2, 0, 0, 0, 0, 0, 0],\n",
       "        [0, 1, 0, 0, 1, 0, 0, 0, 0, 0, 0],\n",
       "        [2, 2, 0, 1, 0, 0, 0, 0, 0, 0, 0],\n",
       "        [3, 1, 0, 0, 0, 1, 0, 0, 0, 0, 0],\n",
       "        [1, 0, 0, 2, 0, 1, 1, 0, 0, 0, 0],\n",
       "        [1, 1, 0, 2, 0, 0, 0, 0, 0, 0, 0],\n",
       "        [0, 1, 0, 0, 0, 0, 0, 0, 0, 0, 0],\n",
       "        [0, 3, 1, 0, 0, 0, 0, 0, 0, 1, 0],\n",
       "        [1, 1, 0, 0, 0, 1, 0, 0, 1, 1, 0],\n",
       "        [0, 0, 1, 0, 0, 1, 0, 1, 1, 0, 1],\n",
       "        [3, 0, 1, 0, 0, 0, 0, 1, 0, 0, 0],\n",
       "        [2, 0, 0, 0, 0, 0, 0, 0, 0, 0, 0]])"
      ]
     },
     "execution_count": 6,
     "metadata": {},
     "output_type": "execute_result"
    }
   ],
   "source": [
    "X_toy_s5_w3.todense()"
   ]
  },
  {
   "cell_type": "code",
   "execution_count": null,
   "metadata": {
    "collapsed": true
   },
   "outputs": [],
   "source": []
  },
  {
   "cell_type": "code",
   "execution_count": 7,
   "metadata": {},
   "outputs": [
    {
     "data": {
      "text/plain": [
       "matrix([[0, 2, 1, 0, 2, 0, 0, 0, 0, 0, 0],\n",
       "        [0, 1, 0, 0, 1, 0, 0, 0, 0, 0, 0],\n",
       "        [2, 2, 0, 1, 0, 0, 0, 0, 0, 0, 0],\n",
       "        [3, 1, 0, 0, 0, 1, 0, 0, 0, 0, 0],\n",
       "        [1, 0, 0, 2, 0, 1, 1, 0, 0, 0, 0],\n",
       "        [1, 1, 0, 2, 0, 0, 0, 0, 0, 0, 0],\n",
       "        [0, 1, 0, 0, 0, 0, 0, 0, 0, 0, 0],\n",
       "        [0, 3, 1, 0, 0, 0, 0, 0, 0, 1, 0],\n",
       "        [1, 1, 0, 0, 0, 1, 0, 0, 1, 1, 0],\n",
       "        [0, 0, 1, 0, 0, 1, 0, 1, 1, 0, 1],\n",
       "        [3, 0, 1, 0, 0, 0, 0, 1, 0, 0, 0],\n",
       "        [2, 0, 0, 0, 0, 0, 0, 0, 0, 0, 0]])"
      ]
     },
     "execution_count": 7,
     "metadata": {},
     "output_type": "execute_result"
    }
   ],
   "source": [
    "X_toy_s5_w3.todense()"
   ]
  },
  {
   "cell_type": "code",
   "execution_count": 8,
   "metadata": {},
   "outputs": [
    {
     "data": {
      "text/plain": [
       "array([2, 2, 3, 3, 3, 3, 3, 1, 1, 1, 1, 1])"
      ]
     },
     "execution_count": 8,
     "metadata": {},
     "output_type": "execute_result"
    }
   ],
   "source": [
    "y_s5_w3"
   ]
  },
  {
   "cell_type": "code",
   "execution_count": 9,
   "metadata": {},
   "outputs": [
    {
     "data": {
      "text/plain": [
       "array([2, 2, 3, 3, 3, 3, 3, 1, 1, 1, 1, 1])"
      ]
     },
     "execution_count": 9,
     "metadata": {},
     "output_type": "execute_result"
    }
   ],
   "source": [
    "y_s5_w3"
   ]
  },
  {
   "cell_type": "markdown",
   "metadata": {},
   "source": [
    "**Запустите созданную функцию 16 раз с помощью циклов по числу пользователей num_users (10 или 150), значениям параметра *session_length* (15, 10, 7 или 5) и значениям параметра *window_size* (10, 7 или 5). Сериализуйте все 16 разреженных матриц (обучающие выборки) и векторов (метки целевого класса – ID пользователя) в файлы `X_sparse_{num_users}users_s{session_length}_w{window_size}.pkl` и `y_{num_users}users_s{session_length}_w{window_size}.pkl`.**\n",
    "\n",
    "**Чтоб убедиться, что мы все далее будем работать с идентичными объектами, запишите в список *data_lengths* число строк во всех полученных рареженных матрицах (16 значений). Если какие-то будут совпадать, это нормально (можно сообразить, почему).**\n",
    "\n",
    "**На моем ноутбуке этот участок кода отработал за 26 секунд, хотя понятно, что все зависит от эффективности реализации функции *prepare_sparse_train_set_window* и мощности используемого железа. И честно говоря, моя первая реализация была намного менее эффективной (34 минуты), так что тут у Вас есть возможность оптимизировать свой код.**"
   ]
  },
  {
   "cell_type": "code",
   "execution_count": 10,
   "metadata": {},
   "outputs": [
    {
     "data": {
      "application/vnd.jupyter.widget-view+json": {
       "model_id": "fddfb8f0374240f0bf32d83d64d4ef05",
       "version_major": 2,
       "version_minor": 0
      },
      "text/html": [
       "<p>Failed to display Jupyter Widget of type <code>HBox</code>.</p>\n",
       "<p>\n",
       "  If you're reading this message in the Jupyter Notebook or JupyterLab Notebook, it may mean\n",
       "  that the widgets JavaScript is still loading. If this message persists, it\n",
       "  likely means that the widgets JavaScript library is either not installed or\n",
       "  not enabled. See the <a href=\"https://ipywidgets.readthedocs.io/en/stable/user_install.html\">Jupyter\n",
       "  Widgets Documentation</a> for setup instructions.\n",
       "</p>\n",
       "<p>\n",
       "  If you're reading this message in another frontend (for example, a static\n",
       "  rendering on GitHub or <a href=\"https://nbviewer.jupyter.org/\">NBViewer</a>),\n",
       "  it may mean that your frontend doesn't currently support widgets.\n",
       "</p>\n"
      ],
      "text/plain": [
       "HBox(children=(IntProgress(value=0, max=10), HTML(value='')))"
      ]
     },
     "metadata": {},
     "output_type": "display_data"
    },
    {
     "name": "stdout",
     "output_type": "stream",
     "text": [
      "\n"
     ]
    },
    {
     "data": {
      "application/vnd.jupyter.widget-view+json": {
       "model_id": "fa247104615d4b0cb644ad2714d29249",
       "version_major": 2,
       "version_minor": 0
      },
      "text/html": [
       "<p>Failed to display Jupyter Widget of type <code>HBox</code>.</p>\n",
       "<p>\n",
       "  If you're reading this message in the Jupyter Notebook or JupyterLab Notebook, it may mean\n",
       "  that the widgets JavaScript is still loading. If this message persists, it\n",
       "  likely means that the widgets JavaScript library is either not installed or\n",
       "  not enabled. See the <a href=\"https://ipywidgets.readthedocs.io/en/stable/user_install.html\">Jupyter\n",
       "  Widgets Documentation</a> for setup instructions.\n",
       "</p>\n",
       "<p>\n",
       "  If you're reading this message in another frontend (for example, a static\n",
       "  rendering on GitHub or <a href=\"https://nbviewer.jupyter.org/\">NBViewer</a>),\n",
       "  it may mean that your frontend doesn't currently support widgets.\n",
       "</p>\n"
      ],
      "text/plain": [
       "HBox(children=(IntProgress(value=0, max=10), HTML(value='')))"
      ]
     },
     "metadata": {},
     "output_type": "display_data"
    },
    {
     "name": "stdout",
     "output_type": "stream",
     "text": [
      "\n"
     ]
    },
    {
     "data": {
      "application/vnd.jupyter.widget-view+json": {
       "model_id": "f2b66e20126d4de195dd10da6642f0b6",
       "version_major": 2,
       "version_minor": 0
      },
      "text/html": [
       "<p>Failed to display Jupyter Widget of type <code>HBox</code>.</p>\n",
       "<p>\n",
       "  If you're reading this message in the Jupyter Notebook or JupyterLab Notebook, it may mean\n",
       "  that the widgets JavaScript is still loading. If this message persists, it\n",
       "  likely means that the widgets JavaScript library is either not installed or\n",
       "  not enabled. See the <a href=\"https://ipywidgets.readthedocs.io/en/stable/user_install.html\">Jupyter\n",
       "  Widgets Documentation</a> for setup instructions.\n",
       "</p>\n",
       "<p>\n",
       "  If you're reading this message in another frontend (for example, a static\n",
       "  rendering on GitHub or <a href=\"https://nbviewer.jupyter.org/\">NBViewer</a>),\n",
       "  it may mean that your frontend doesn't currently support widgets.\n",
       "</p>\n"
      ],
      "text/plain": [
       "HBox(children=(IntProgress(value=0, max=10), HTML(value='')))"
      ]
     },
     "metadata": {},
     "output_type": "display_data"
    },
    {
     "name": "stdout",
     "output_type": "stream",
     "text": [
      "\n"
     ]
    },
    {
     "data": {
      "application/vnd.jupyter.widget-view+json": {
       "model_id": "9b13653c26fe474486ded08957f445fe",
       "version_major": 2,
       "version_minor": 0
      },
      "text/html": [
       "<p>Failed to display Jupyter Widget of type <code>HBox</code>.</p>\n",
       "<p>\n",
       "  If you're reading this message in the Jupyter Notebook or JupyterLab Notebook, it may mean\n",
       "  that the widgets JavaScript is still loading. If this message persists, it\n",
       "  likely means that the widgets JavaScript library is either not installed or\n",
       "  not enabled. See the <a href=\"https://ipywidgets.readthedocs.io/en/stable/user_install.html\">Jupyter\n",
       "  Widgets Documentation</a> for setup instructions.\n",
       "</p>\n",
       "<p>\n",
       "  If you're reading this message in another frontend (for example, a static\n",
       "  rendering on GitHub or <a href=\"https://nbviewer.jupyter.org/\">NBViewer</a>),\n",
       "  it may mean that your frontend doesn't currently support widgets.\n",
       "</p>\n"
      ],
      "text/plain": [
       "HBox(children=(IntProgress(value=0, max=10), HTML(value='')))"
      ]
     },
     "metadata": {},
     "output_type": "display_data"
    },
    {
     "name": "stdout",
     "output_type": "stream",
     "text": [
      "\n"
     ]
    },
    {
     "data": {
      "application/vnd.jupyter.widget-view+json": {
       "model_id": "409bd96dd8f04c6687c1c84bf6b9eede",
       "version_major": 2,
       "version_minor": 0
      },
      "text/html": [
       "<p>Failed to display Jupyter Widget of type <code>HBox</code>.</p>\n",
       "<p>\n",
       "  If you're reading this message in the Jupyter Notebook or JupyterLab Notebook, it may mean\n",
       "  that the widgets JavaScript is still loading. If this message persists, it\n",
       "  likely means that the widgets JavaScript library is either not installed or\n",
       "  not enabled. See the <a href=\"https://ipywidgets.readthedocs.io/en/stable/user_install.html\">Jupyter\n",
       "  Widgets Documentation</a> for setup instructions.\n",
       "</p>\n",
       "<p>\n",
       "  If you're reading this message in another frontend (for example, a static\n",
       "  rendering on GitHub or <a href=\"https://nbviewer.jupyter.org/\">NBViewer</a>),\n",
       "  it may mean that your frontend doesn't currently support widgets.\n",
       "</p>\n"
      ],
      "text/plain": [
       "HBox(children=(IntProgress(value=0, max=10), HTML(value='')))"
      ]
     },
     "metadata": {},
     "output_type": "display_data"
    },
    {
     "name": "stdout",
     "output_type": "stream",
     "text": [
      "\n"
     ]
    },
    {
     "data": {
      "application/vnd.jupyter.widget-view+json": {
       "model_id": "1d9021ffed8948fcbb818006af7a2fd5",
       "version_major": 2,
       "version_minor": 0
      },
      "text/html": [
       "<p>Failed to display Jupyter Widget of type <code>HBox</code>.</p>\n",
       "<p>\n",
       "  If you're reading this message in the Jupyter Notebook or JupyterLab Notebook, it may mean\n",
       "  that the widgets JavaScript is still loading. If this message persists, it\n",
       "  likely means that the widgets JavaScript library is either not installed or\n",
       "  not enabled. See the <a href=\"https://ipywidgets.readthedocs.io/en/stable/user_install.html\">Jupyter\n",
       "  Widgets Documentation</a> for setup instructions.\n",
       "</p>\n",
       "<p>\n",
       "  If you're reading this message in another frontend (for example, a static\n",
       "  rendering on GitHub or <a href=\"https://nbviewer.jupyter.org/\">NBViewer</a>),\n",
       "  it may mean that your frontend doesn't currently support widgets.\n",
       "</p>\n"
      ],
      "text/plain": [
       "HBox(children=(IntProgress(value=0, max=10), HTML(value='')))"
      ]
     },
     "metadata": {},
     "output_type": "display_data"
    },
    {
     "name": "stdout",
     "output_type": "stream",
     "text": [
      "\n"
     ]
    },
    {
     "data": {
      "application/vnd.jupyter.widget-view+json": {
       "model_id": "bd643cb14f3d48e3a5e639a349d39c71",
       "version_major": 2,
       "version_minor": 0
      },
      "text/html": [
       "<p>Failed to display Jupyter Widget of type <code>HBox</code>.</p>\n",
       "<p>\n",
       "  If you're reading this message in the Jupyter Notebook or JupyterLab Notebook, it may mean\n",
       "  that the widgets JavaScript is still loading. If this message persists, it\n",
       "  likely means that the widgets JavaScript library is either not installed or\n",
       "  not enabled. See the <a href=\"https://ipywidgets.readthedocs.io/en/stable/user_install.html\">Jupyter\n",
       "  Widgets Documentation</a> for setup instructions.\n",
       "</p>\n",
       "<p>\n",
       "  If you're reading this message in another frontend (for example, a static\n",
       "  rendering on GitHub or <a href=\"https://nbviewer.jupyter.org/\">NBViewer</a>),\n",
       "  it may mean that your frontend doesn't currently support widgets.\n",
       "</p>\n"
      ],
      "text/plain": [
       "HBox(children=(IntProgress(value=0, max=10), HTML(value='')))"
      ]
     },
     "metadata": {},
     "output_type": "display_data"
    },
    {
     "name": "stdout",
     "output_type": "stream",
     "text": [
      "\n"
     ]
    },
    {
     "data": {
      "application/vnd.jupyter.widget-view+json": {
       "model_id": "82420e3d0b484353a26528d5b751a95e",
       "version_major": 2,
       "version_minor": 0
      },
      "text/html": [
       "<p>Failed to display Jupyter Widget of type <code>HBox</code>.</p>\n",
       "<p>\n",
       "  If you're reading this message in the Jupyter Notebook or JupyterLab Notebook, it may mean\n",
       "  that the widgets JavaScript is still loading. If this message persists, it\n",
       "  likely means that the widgets JavaScript library is either not installed or\n",
       "  not enabled. See the <a href=\"https://ipywidgets.readthedocs.io/en/stable/user_install.html\">Jupyter\n",
       "  Widgets Documentation</a> for setup instructions.\n",
       "</p>\n",
       "<p>\n",
       "  If you're reading this message in another frontend (for example, a static\n",
       "  rendering on GitHub or <a href=\"https://nbviewer.jupyter.org/\">NBViewer</a>),\n",
       "  it may mean that your frontend doesn't currently support widgets.\n",
       "</p>\n"
      ],
      "text/plain": [
       "HBox(children=(IntProgress(value=0, max=10), HTML(value='')))"
      ]
     },
     "metadata": {},
     "output_type": "display_data"
    },
    {
     "name": "stdout",
     "output_type": "stream",
     "text": [
      "\n"
     ]
    },
    {
     "data": {
      "application/vnd.jupyter.widget-view+json": {
       "model_id": "ab20beced14f4ecf95527ed57ba4d0bf",
       "version_major": 2,
       "version_minor": 0
      },
      "text/html": [
       "<p>Failed to display Jupyter Widget of type <code>HBox</code>.</p>\n",
       "<p>\n",
       "  If you're reading this message in the Jupyter Notebook or JupyterLab Notebook, it may mean\n",
       "  that the widgets JavaScript is still loading. If this message persists, it\n",
       "  likely means that the widgets JavaScript library is either not installed or\n",
       "  not enabled. See the <a href=\"https://ipywidgets.readthedocs.io/en/stable/user_install.html\">Jupyter\n",
       "  Widgets Documentation</a> for setup instructions.\n",
       "</p>\n",
       "<p>\n",
       "  If you're reading this message in another frontend (for example, a static\n",
       "  rendering on GitHub or <a href=\"https://nbviewer.jupyter.org/\">NBViewer</a>),\n",
       "  it may mean that your frontend doesn't currently support widgets.\n",
       "</p>\n"
      ],
      "text/plain": [
       "HBox(children=(IntProgress(value=0, max=150), HTML(value='')))"
      ]
     },
     "metadata": {},
     "output_type": "display_data"
    },
    {
     "name": "stdout",
     "output_type": "stream",
     "text": [
      "\n"
     ]
    },
    {
     "data": {
      "application/vnd.jupyter.widget-view+json": {
       "model_id": "d10a08a3e6bc423cb981e1b58083b606",
       "version_major": 2,
       "version_minor": 0
      },
      "text/html": [
       "<p>Failed to display Jupyter Widget of type <code>HBox</code>.</p>\n",
       "<p>\n",
       "  If you're reading this message in the Jupyter Notebook or JupyterLab Notebook, it may mean\n",
       "  that the widgets JavaScript is still loading. If this message persists, it\n",
       "  likely means that the widgets JavaScript library is either not installed or\n",
       "  not enabled. See the <a href=\"https://ipywidgets.readthedocs.io/en/stable/user_install.html\">Jupyter\n",
       "  Widgets Documentation</a> for setup instructions.\n",
       "</p>\n",
       "<p>\n",
       "  If you're reading this message in another frontend (for example, a static\n",
       "  rendering on GitHub or <a href=\"https://nbviewer.jupyter.org/\">NBViewer</a>),\n",
       "  it may mean that your frontend doesn't currently support widgets.\n",
       "</p>\n"
      ],
      "text/plain": [
       "HBox(children=(IntProgress(value=0, max=150), HTML(value='')))"
      ]
     },
     "metadata": {},
     "output_type": "display_data"
    },
    {
     "name": "stdout",
     "output_type": "stream",
     "text": [
      "\n"
     ]
    },
    {
     "data": {
      "application/vnd.jupyter.widget-view+json": {
       "model_id": "fe15d37188804e8c921501454af05f27",
       "version_major": 2,
       "version_minor": 0
      },
      "text/html": [
       "<p>Failed to display Jupyter Widget of type <code>HBox</code>.</p>\n",
       "<p>\n",
       "  If you're reading this message in the Jupyter Notebook or JupyterLab Notebook, it may mean\n",
       "  that the widgets JavaScript is still loading. If this message persists, it\n",
       "  likely means that the widgets JavaScript library is either not installed or\n",
       "  not enabled. See the <a href=\"https://ipywidgets.readthedocs.io/en/stable/user_install.html\">Jupyter\n",
       "  Widgets Documentation</a> for setup instructions.\n",
       "</p>\n",
       "<p>\n",
       "  If you're reading this message in another frontend (for example, a static\n",
       "  rendering on GitHub or <a href=\"https://nbviewer.jupyter.org/\">NBViewer</a>),\n",
       "  it may mean that your frontend doesn't currently support widgets.\n",
       "</p>\n"
      ],
      "text/plain": [
       "HBox(children=(IntProgress(value=0, max=150), HTML(value='')))"
      ]
     },
     "metadata": {},
     "output_type": "display_data"
    },
    {
     "name": "stdout",
     "output_type": "stream",
     "text": [
      "\n"
     ]
    },
    {
     "data": {
      "application/vnd.jupyter.widget-view+json": {
       "model_id": "ad5d1cc6e3a5488181d0bb7ee5e3406a",
       "version_major": 2,
       "version_minor": 0
      },
      "text/html": [
       "<p>Failed to display Jupyter Widget of type <code>HBox</code>.</p>\n",
       "<p>\n",
       "  If you're reading this message in the Jupyter Notebook or JupyterLab Notebook, it may mean\n",
       "  that the widgets JavaScript is still loading. If this message persists, it\n",
       "  likely means that the widgets JavaScript library is either not installed or\n",
       "  not enabled. See the <a href=\"https://ipywidgets.readthedocs.io/en/stable/user_install.html\">Jupyter\n",
       "  Widgets Documentation</a> for setup instructions.\n",
       "</p>\n",
       "<p>\n",
       "  If you're reading this message in another frontend (for example, a static\n",
       "  rendering on GitHub or <a href=\"https://nbviewer.jupyter.org/\">NBViewer</a>),\n",
       "  it may mean that your frontend doesn't currently support widgets.\n",
       "</p>\n"
      ],
      "text/plain": [
       "HBox(children=(IntProgress(value=0, max=150), HTML(value='')))"
      ]
     },
     "metadata": {},
     "output_type": "display_data"
    },
    {
     "name": "stdout",
     "output_type": "stream",
     "text": [
      "\n"
     ]
    },
    {
     "data": {
      "application/vnd.jupyter.widget-view+json": {
       "model_id": "c71026fa52e941f2a3b3947a3106ab51",
       "version_major": 2,
       "version_minor": 0
      },
      "text/html": [
       "<p>Failed to display Jupyter Widget of type <code>HBox</code>.</p>\n",
       "<p>\n",
       "  If you're reading this message in the Jupyter Notebook or JupyterLab Notebook, it may mean\n",
       "  that the widgets JavaScript is still loading. If this message persists, it\n",
       "  likely means that the widgets JavaScript library is either not installed or\n",
       "  not enabled. See the <a href=\"https://ipywidgets.readthedocs.io/en/stable/user_install.html\">Jupyter\n",
       "  Widgets Documentation</a> for setup instructions.\n",
       "</p>\n",
       "<p>\n",
       "  If you're reading this message in another frontend (for example, a static\n",
       "  rendering on GitHub or <a href=\"https://nbviewer.jupyter.org/\">NBViewer</a>),\n",
       "  it may mean that your frontend doesn't currently support widgets.\n",
       "</p>\n"
      ],
      "text/plain": [
       "HBox(children=(IntProgress(value=0, max=150), HTML(value='')))"
      ]
     },
     "metadata": {},
     "output_type": "display_data"
    },
    {
     "name": "stdout",
     "output_type": "stream",
     "text": [
      "\n"
     ]
    },
    {
     "data": {
      "application/vnd.jupyter.widget-view+json": {
       "model_id": "6a6dd0fc88d24e1989146bf43090cf85",
       "version_major": 2,
       "version_minor": 0
      },
      "text/html": [
       "<p>Failed to display Jupyter Widget of type <code>HBox</code>.</p>\n",
       "<p>\n",
       "  If you're reading this message in the Jupyter Notebook or JupyterLab Notebook, it may mean\n",
       "  that the widgets JavaScript is still loading. If this message persists, it\n",
       "  likely means that the widgets JavaScript library is either not installed or\n",
       "  not enabled. See the <a href=\"https://ipywidgets.readthedocs.io/en/stable/user_install.html\">Jupyter\n",
       "  Widgets Documentation</a> for setup instructions.\n",
       "</p>\n",
       "<p>\n",
       "  If you're reading this message in another frontend (for example, a static\n",
       "  rendering on GitHub or <a href=\"https://nbviewer.jupyter.org/\">NBViewer</a>),\n",
       "  it may mean that your frontend doesn't currently support widgets.\n",
       "</p>\n"
      ],
      "text/plain": [
       "HBox(children=(IntProgress(value=0, max=150), HTML(value='')))"
      ]
     },
     "metadata": {},
     "output_type": "display_data"
    },
    {
     "name": "stdout",
     "output_type": "stream",
     "text": [
      "\n"
     ]
    },
    {
     "data": {
      "application/vnd.jupyter.widget-view+json": {
       "model_id": "a376bc93598d4f7cac82de8421decece",
       "version_major": 2,
       "version_minor": 0
      },
      "text/html": [
       "<p>Failed to display Jupyter Widget of type <code>HBox</code>.</p>\n",
       "<p>\n",
       "  If you're reading this message in the Jupyter Notebook or JupyterLab Notebook, it may mean\n",
       "  that the widgets JavaScript is still loading. If this message persists, it\n",
       "  likely means that the widgets JavaScript library is either not installed or\n",
       "  not enabled. See the <a href=\"https://ipywidgets.readthedocs.io/en/stable/user_install.html\">Jupyter\n",
       "  Widgets Documentation</a> for setup instructions.\n",
       "</p>\n",
       "<p>\n",
       "  If you're reading this message in another frontend (for example, a static\n",
       "  rendering on GitHub or <a href=\"https://nbviewer.jupyter.org/\">NBViewer</a>),\n",
       "  it may mean that your frontend doesn't currently support widgets.\n",
       "</p>\n"
      ],
      "text/plain": [
       "HBox(children=(IntProgress(value=0, max=150), HTML(value='')))"
      ]
     },
     "metadata": {},
     "output_type": "display_data"
    },
    {
     "name": "stdout",
     "output_type": "stream",
     "text": [
      "\n"
     ]
    },
    {
     "data": {
      "application/vnd.jupyter.widget-view+json": {
       "model_id": "c66a900d259c4011baf20ff93a1be91f",
       "version_major": 2,
       "version_minor": 0
      },
      "text/html": [
       "<p>Failed to display Jupyter Widget of type <code>HBox</code>.</p>\n",
       "<p>\n",
       "  If you're reading this message in the Jupyter Notebook or JupyterLab Notebook, it may mean\n",
       "  that the widgets JavaScript is still loading. If this message persists, it\n",
       "  likely means that the widgets JavaScript library is either not installed or\n",
       "  not enabled. See the <a href=\"https://ipywidgets.readthedocs.io/en/stable/user_install.html\">Jupyter\n",
       "  Widgets Documentation</a> for setup instructions.\n",
       "</p>\n",
       "<p>\n",
       "  If you're reading this message in another frontend (for example, a static\n",
       "  rendering on GitHub or <a href=\"https://nbviewer.jupyter.org/\">NBViewer</a>),\n",
       "  it may mean that your frontend doesn't currently support widgets.\n",
       "</p>\n"
      ],
      "text/plain": [
       "HBox(children=(IntProgress(value=0, max=150), HTML(value='')))"
      ]
     },
     "metadata": {},
     "output_type": "display_data"
    },
    {
     "name": "stdout",
     "output_type": "stream",
     "text": [
      "\n",
      "CPU times: user 46.7 s, sys: 4.62 s, total: 51.3 s\n",
      "Wall time: 51.2 s\n"
     ]
    }
   ],
   "source": [
    "%%time\n",
    "import itertools\n",
    "\n",
    "data_lengths = []\n",
    "\n",
    "for num_users in [10, 150]:\n",
    "    for window_size, session_length in itertools.product([10, 7, 5], [15, 10, 7, 5]):\n",
    "        if window_size <= session_length and (window_size, session_length) != (10, 10):\n",
    "            X_sparse, y = prepare_sparse_train_set_window(os.path.join(PATH_TO_DATA,'{}users'.format(str(num_users))), \n",
    "                                                       os.path.join(PATH_TO_DATA,'site_freq_{}users.pkl'.format(str(num_users))),\n",
    "                                       session_length=session_length, window_size=window_size)\n",
    "            data_lengths.append(X_sparse.shape[0])\n",
    "            with open(os.path.join(PATH_TO_DATA, 'X_sparse_{}users_s{}_w{}.pkl'.format(num_users,session_length,window_size)), 'wb') as X_pkl:\n",
    "                pickle.dump(X_sparse, X_pkl, protocol=2)\n",
    "            with open(os.path.join(PATH_TO_DATA, 'y_{}users_s{}_w{}.pkl'.format(num_users,session_length,window_size)), 'wb') as y_pkl:\n",
    "                pickle.dump(y, y_pkl, protocol=2)\n",
    "            "
   ]
  },
  {
   "cell_type": "markdown",
   "metadata": {},
   "source": [
    "**<font color='red'> Вопрос 1. </font>Сколько всего уникальных значений в списке `data_lengths`?**"
   ]
  },
  {
   "cell_type": "code",
   "execution_count": 11,
   "metadata": {},
   "outputs": [
    {
     "name": "stdout",
     "output_type": "stream",
     "text": [
      "6\n"
     ]
    }
   ],
   "source": [
    "''' ВАШ КОД ЗДЕСЬ '''\n",
    "s = set(data_lengths)\n",
    "l = len(s)\n",
    "print(l)"
   ]
  },
  {
   "cell_type": "markdown",
   "metadata": {},
   "source": [
    "## Часть 2. Первичный анализ данных, проверка гипотез"
   ]
  },
  {
   "cell_type": "markdown",
   "metadata": {},
   "source": [
    "**Считаем в DataFrame подготовленный на 1 неделе файл `train_data_10users.csv`. Далее будем работать с ним.**"
   ]
  },
  {
   "cell_type": "code",
   "execution_count": 12,
   "metadata": {
    "collapsed": true
   },
   "outputs": [],
   "source": [
    "train_df = pd.read_csv(os.path.join(PATH_TO_DATA, 'train_data_10users.csv'), \n",
    "                       index_col='session_id')"
   ]
  },
  {
   "cell_type": "code",
   "execution_count": 13,
   "metadata": {},
   "outputs": [
    {
     "data": {
      "text/html": [
       "<div>\n",
       "<style scoped>\n",
       "    .dataframe tbody tr th:only-of-type {\n",
       "        vertical-align: middle;\n",
       "    }\n",
       "\n",
       "    .dataframe tbody tr th {\n",
       "        vertical-align: top;\n",
       "    }\n",
       "\n",
       "    .dataframe thead th {\n",
       "        text-align: right;\n",
       "    }\n",
       "</style>\n",
       "<table border=\"1\" class=\"dataframe\">\n",
       "  <thead>\n",
       "    <tr style=\"text-align: right;\">\n",
       "      <th></th>\n",
       "      <th>site1</th>\n",
       "      <th>site2</th>\n",
       "      <th>site3</th>\n",
       "      <th>site4</th>\n",
       "      <th>site5</th>\n",
       "      <th>site6</th>\n",
       "      <th>site7</th>\n",
       "      <th>site8</th>\n",
       "      <th>site9</th>\n",
       "      <th>site10</th>\n",
       "      <th>user_id</th>\n",
       "    </tr>\n",
       "    <tr>\n",
       "      <th>session_id</th>\n",
       "      <th></th>\n",
       "      <th></th>\n",
       "      <th></th>\n",
       "      <th></th>\n",
       "      <th></th>\n",
       "      <th></th>\n",
       "      <th></th>\n",
       "      <th></th>\n",
       "      <th></th>\n",
       "      <th></th>\n",
       "      <th></th>\n",
       "    </tr>\n",
       "  </thead>\n",
       "  <tbody>\n",
       "    <tr>\n",
       "      <th>0</th>\n",
       "      <td>555</td>\n",
       "      <td>219</td>\n",
       "      <td>219</td>\n",
       "      <td>1387</td>\n",
       "      <td>319</td>\n",
       "      <td>319</td>\n",
       "      <td>319</td>\n",
       "      <td>60</td>\n",
       "      <td>60</td>\n",
       "      <td>266</td>\n",
       "      <td>39</td>\n",
       "    </tr>\n",
       "    <tr>\n",
       "      <th>1</th>\n",
       "      <td>15</td>\n",
       "      <td>72</td>\n",
       "      <td>15</td>\n",
       "      <td>319</td>\n",
       "      <td>205</td>\n",
       "      <td>85</td>\n",
       "      <td>107</td>\n",
       "      <td>80</td>\n",
       "      <td>205</td>\n",
       "      <td>2</td>\n",
       "      <td>39</td>\n",
       "    </tr>\n",
       "    <tr>\n",
       "      <th>2</th>\n",
       "      <td>67</td>\n",
       "      <td>262</td>\n",
       "      <td>262</td>\n",
       "      <td>205</td>\n",
       "      <td>262</td>\n",
       "      <td>205</td>\n",
       "      <td>205</td>\n",
       "      <td>319</td>\n",
       "      <td>319</td>\n",
       "      <td>205</td>\n",
       "      <td>39</td>\n",
       "    </tr>\n",
       "    <tr>\n",
       "      <th>3</th>\n",
       "      <td>80</td>\n",
       "      <td>262</td>\n",
       "      <td>262</td>\n",
       "      <td>6</td>\n",
       "      <td>3</td>\n",
       "      <td>2</td>\n",
       "      <td>937</td>\n",
       "      <td>50</td>\n",
       "      <td>31</td>\n",
       "      <td>34</td>\n",
       "      <td>39</td>\n",
       "    </tr>\n",
       "    <tr>\n",
       "      <th>4</th>\n",
       "      <td>676</td>\n",
       "      <td>675</td>\n",
       "      <td>50</td>\n",
       "      <td>34</td>\n",
       "      <td>44</td>\n",
       "      <td>50</td>\n",
       "      <td>17</td>\n",
       "      <td>18</td>\n",
       "      <td>34</td>\n",
       "      <td>50</td>\n",
       "      <td>39</td>\n",
       "    </tr>\n",
       "  </tbody>\n",
       "</table>\n",
       "</div>"
      ],
      "text/plain": [
       "            site1  site2  site3  site4  site5  site6  site7  site8  site9  \\\n",
       "session_id                                                                  \n",
       "0             555    219    219   1387    319    319    319     60     60   \n",
       "1              15     72     15    319    205     85    107     80    205   \n",
       "2              67    262    262    205    262    205    205    319    319   \n",
       "3              80    262    262      6      3      2    937     50     31   \n",
       "4             676    675     50     34     44     50     17     18     34   \n",
       "\n",
       "            site10  user_id  \n",
       "session_id                   \n",
       "0              266       39  \n",
       "1                2       39  \n",
       "2              205       39  \n",
       "3               34       39  \n",
       "4               50       39  "
      ]
     },
     "execution_count": 13,
     "metadata": {},
     "output_type": "execute_result"
    }
   ],
   "source": [
    "train_df.head()"
   ]
  },
  {
   "cell_type": "code",
   "execution_count": 14,
   "metadata": {},
   "outputs": [
    {
     "name": "stdout",
     "output_type": "stream",
     "text": [
      "<class 'pandas.core.frame.DataFrame'>\n",
      "Int64Index: 14061 entries, 0 to 14060\n",
      "Data columns (total 11 columns):\n",
      "site1      14061 non-null int64\n",
      "site2      14061 non-null int64\n",
      "site3      14061 non-null int64\n",
      "site4      14061 non-null int64\n",
      "site5      14061 non-null int64\n",
      "site6      14061 non-null int64\n",
      "site7      14061 non-null int64\n",
      "site8      14061 non-null int64\n",
      "site9      14061 non-null int64\n",
      "site10     14061 non-null int64\n",
      "user_id    14061 non-null int64\n",
      "dtypes: int64(11)\n",
      "memory usage: 1.3 MB\n"
     ]
    }
   ],
   "source": [
    "train_df.info()"
   ]
  },
  {
   "cell_type": "markdown",
   "metadata": {},
   "source": [
    "**Распределение целевого класса:**"
   ]
  },
  {
   "cell_type": "code",
   "execution_count": 15,
   "metadata": {},
   "outputs": [
    {
     "data": {
      "text/plain": [
       "128    2796\n",
       "39     2204\n",
       "207    1868\n",
       "127    1712\n",
       "237    1643\n",
       "33     1022\n",
       "50      802\n",
       "31      760\n",
       "100     720\n",
       "241     534\n",
       "Name: user_id, dtype: int64"
      ]
     },
     "execution_count": 15,
     "metadata": {},
     "output_type": "execute_result"
    }
   ],
   "source": [
    "train_df['user_id'].value_counts()"
   ]
  },
  {
   "cell_type": "markdown",
   "metadata": {},
   "source": [
    "**Посчитаем распределение числа уникальных сайтов в каждой сессии из 10 посещенных подряд сайтов.**"
   ]
  },
  {
   "cell_type": "code",
   "execution_count": 16,
   "metadata": {
    "collapsed": true
   },
   "outputs": [],
   "source": [
    "num_unique_sites = [np.unique(train_df.values[i, :-1]).shape[0] \n",
    "                    for i in range(train_df.shape[0])]"
   ]
  },
  {
   "cell_type": "code",
   "execution_count": 17,
   "metadata": {},
   "outputs": [
    {
     "data": {
      "text/plain": [
       "7     2308\n",
       "6     2197\n",
       "8     2046\n",
       "5     1735\n",
       "9     1394\n",
       "2     1246\n",
       "4     1163\n",
       "3      894\n",
       "10     651\n",
       "1      427\n",
       "dtype: int64"
      ]
     },
     "execution_count": 17,
     "metadata": {},
     "output_type": "execute_result"
    }
   ],
   "source": [
    "pd.Series(num_unique_sites).value_counts()"
   ]
  },
  {
   "cell_type": "code",
   "execution_count": 18,
   "metadata": {},
   "outputs": [
    {
     "data": {
      "image/png": "[encoded data removed]",
      "text/plain": [
       "<matplotlib.figure.Figure at 0x1a10cca278>"
      ]
     },
     "metadata": {},
     "output_type": "display_data"
    }
   ],
   "source": [
    "pd.Series(num_unique_sites).hist();"
   ]
  },
  {
   "cell_type": "markdown",
   "metadata": {},
   "source": [
    "**Проверьте с помощью QQ-плота и критерия Шапиро-Уилка, что эта величина распределена нормально**"
   ]
  },
  {
   "cell_type": "markdown",
   "metadata": {},
   "source": [
    "**<font color='red'> Вопрос 2. </font>Распределено ли нормально число уникальных сайтов в каждой сессии из 10 посещенных подряд сайтов (согласно критерию Шапиро-Уилка)?**"
   ]
  },
  {
   "cell_type": "code",
   "execution_count": 19,
   "metadata": {},
   "outputs": [
    {
     "name": "stdout",
     "output_type": "stream",
     "text": [
      "(0.9546933174133301, 0.0)\n"
     ]
    },
    {
     "data": {
      "text/plain": [
       "((array([-3.89403843, -3.6734386 , -3.55253248, ...,  3.55253248,\n",
       "          3.6734386 ,  3.89403843]), array([ 1,  1,  1, ..., 10, 10, 10])),\n",
       " (2.308739910778148, 5.951923760756702, 0.9770787039552067))"
      ]
     },
     "execution_count": 19,
     "metadata": {},
     "output_type": "execute_result"
    },
    {
     "data": {
      "image/png": "[encoded data removed]",
      "text/plain": [
       "<matplotlib.figure.Figure at 0x1a136a8208>"
      ]
     },
     "metadata": {},
     "output_type": "display_data"
    }
   ],
   "source": [
    "''' ВАШ КОД ЗДЕСЬ '''\n",
    "print(stats.shapiro(num_unique_sites))\n",
    "\n",
    "\n",
    "import seaborn as sns\n",
    "from scipy.stats import norm\n",
    "\n",
    "stats.probplot(num_unique_sites, dist=\"norm\", plot=plt)"
   ]
  },
  {
   "cell_type": "markdown",
   "metadata": {},
   "source": [
    "**Проверьте гипотезу о том, что пользователь хотя бы раз зайдет на сайт, который он уже ранее посетил в сессии из 10 сайтов. Давайте проверим с помощью биномиального критерия для доли, что доля случаев, когда пользователь повторно посетил какой-то сайт (то есть число уникальных сайтов в сессии < 10) велика: больше 95% (обратите внимание, что альтернатива тому, что доля равна 95% –  одностороняя). Ответом на 3 вопрос в тесте будет полученное p-value.**"
   ]
  },
  {
   "cell_type": "markdown",
   "metadata": {},
   "source": [
    "**<font color='red'> Вопрос 3. </font>Каково p-value при проверке описанной гипотезы?**"
   ]
  },
  {
   "cell_type": "code",
   "execution_count": null,
   "metadata": {
    "collapsed": true
   },
   "outputs": [],
   "source": []
  },
  {
   "cell_type": "code",
   "execution_count": 20,
   "metadata": {
    "collapsed": true
   },
   "outputs": [],
   "source": [
    "has_two_similar = (np.array(num_unique_sites) < 10).astype('int')"
   ]
  },
  {
   "cell_type": "code",
   "execution_count": 21,
   "metadata": {},
   "outputs": [
    {
     "name": "stdout",
     "output_type": "stream",
     "text": [
      "13410\n",
      "14061\n",
      "0.022\n"
     ]
    }
   ],
   "source": [
    "print(sum(has_two_similar))\n",
    "print(len(num_unique_sites))\n",
    "pi_val = stats.binom_test(sum(has_two_similar), len(num_unique_sites), 0.95, alternative='greater')  \n",
    "print(\"%.3f\" % pi_val)"
   ]
  },
  {
   "cell_type": "markdown",
   "metadata": {},
   "source": [
    "**<font color='red'> Вопрос 4. </font>Каков 95% доверительный интервал Уилсона для доли случаев, когда пользователь повторно посетил какой-то сайт (из п. 3)?**"
   ]
  },
  {
   "cell_type": "code",
   "execution_count": 25,
   "metadata": {
    "collapsed": true
   },
   "outputs": [],
   "source": [
    "wilson_interval = proportion_confint(sum(has_two_similar), len(has_two_similar), method='wilson')"
   ]
  },
  {
   "cell_type": "code",
   "execution_count": 23,
   "metadata": {
    "collapsed": true
   },
   "outputs": [],
   "source": [
    "wilson_interval = proportion_confint"
   ]
  },
  {
   "cell_type": "code",
   "execution_count": 26,
   "metadata": {},
   "outputs": [
    {
     "name": "stdout",
     "output_type": "stream",
     "text": [
      "0.95 0.957\n"
     ]
    }
   ],
   "source": [
    "print('{} {}'.format(round(wilson_interval[0], 3),\n",
    "                                   round(wilson_interval[1], 3)))"
   ]
  },
  {
   "cell_type": "markdown",
   "metadata": {},
   "source": [
    "**Постройте распределение частоты посещения сайтов (сколько раз тот или иной сайт попадается в выборке) для сайтов, которые были посещены как минимум 1000 раз.**"
   ]
  },
  {
   "cell_type": "code",
   "execution_count": 27,
   "metadata": {
    "collapsed": true
   },
   "outputs": [],
   "source": [
    "site_freqs = pickle.load(open(os.path.join(PATH_TO_DATA, 'site_freq_10users.pkl'), \"rb\"))"
   ]
  },
  {
   "cell_type": "code",
   "execution_count": 28,
   "metadata": {
    "collapsed": true
   },
   "outputs": [],
   "source": [
    "# ''' ВАШ КОД ЗДЕСЬ '''\n",
    "top_sites = {k: v for k, v in site_freqs.items() if v[1] >= 1000}"
   ]
  },
  {
   "cell_type": "code",
   "execution_count": 29,
   "metadata": {},
   "outputs": [
    {
     "data": {
      "text/plain": [
       "{'accounts.google.com': (10, 2089),\n",
       " 'accounts.youtube.com': (21, 1057),\n",
       " 'apis.google.com': (6, 3758),\n",
       " 'clients1.google.com': (15, 1493),\n",
       " 'clients6.google.com': (24, 1039),\n",
       " 'download.jboss.org': (16, 1441),\n",
       " 'fr-mg42.mail.yahoo.com': (12, 1868),\n",
       " 'i1.ytimg.com': (19, 1232),\n",
       " 'mail.google.com': (4, 4158),\n",
       " 'platform.twitter.com': (22, 1041),\n",
       " 'plus.google.com': (9, 2630),\n",
       " 'r1---sn-gxo5uxg-jqbe.googlevideo.com': (8, 3094),\n",
       " 'r2---sn-gxo5uxg-jqbe.googlevideo.com': (11, 1939),\n",
       " 'r3---sn-gxo5uxg-jqbe.googlevideo.com': (7, 3244),\n",
       " 'r4---sn-gxo5uxg-jqbe.googlevideo.com': (14, 1702),\n",
       " 's-static.ak.facebook.com': (17, 1388),\n",
       " 's.youtube.com': (1, 8300),\n",
       " 'safebrowsing-cache.google.com': (23, 1039),\n",
       " 'static.ak.facebook.com': (18, 1265),\n",
       " 'translate.google.fr': (25, 1002),\n",
       " 'twitter.com': (20, 1204),\n",
       " 'www.facebook.com': (5, 4141),\n",
       " 'www.google.com': (3, 5441),\n",
       " 'www.google.fr': (2, 7813),\n",
       " 'www.youtube.com': (13, 1804)}"
      ]
     },
     "execution_count": 29,
     "metadata": {},
     "output_type": "execute_result"
    }
   ],
   "source": [
    "top_sites"
   ]
  },
  {
   "cell_type": "markdown",
   "metadata": {},
   "source": [
    "**Постройте 95% доверительный интервал для средней частоты появления сайта в выборке (во всей, уже не только для тех сайтов, что были посещены как минимум 1000 раз) на основе bootstrap. Используйте столько же bootstrap-подвыборок, сколько сайтов оказалось в исходной выборке по 10 пользователям. Берите подвыборки из посчитанного списка частот посещений сайтов – не надо заново считать эти частоты. Учтите, что частоту появления нуля (сайт с индексом 0 появлялся там, где сессии были короче 10 сайтов) включать не надо. Округлите границы интервала до 3 знаков после запятой и запишите через пробел в файл *answer2_5.txt*. Это будет ответом на 5 вопрос теста.**"
   ]
  },
  {
   "cell_type": "markdown",
   "metadata": {},
   "source": [
    "**<font color='red'> Вопрос 5. </font>Каков 95% доверительный интервал для средней частоты появления сайта в выборке?**"
   ]
  },
  {
   "cell_type": "code",
   "execution_count": 30,
   "metadata": {
    "collapsed": true
   },
   "outputs": [],
   "source": [
    "def get_bootstrap_samples(data, n_samples, random_seed=17):\n",
    "    np.random.seed(random_seed)\n",
    "    indices = np.random.randint(0, len(data), (n_samples, len(data)))\n",
    "    samples = data[indices]\n",
    "    return samples"
   ]
  },
  {
   "cell_type": "code",
   "execution_count": 31,
   "metadata": {
    "collapsed": true
   },
   "outputs": [],
   "source": [
    "def stat_intervals(stat, alpha):\n",
    "    boundaries = np.percentile(stat, \n",
    "                 [100 * alpha / 2., 100 * (1 - alpha / 2.)])\n",
    "    return boundaries"
   ]
  },
  {
   "cell_type": "code",
   "execution_count": 35,
   "metadata": {},
   "outputs": [
    {
     "name": "stdout",
     "output_type": "stream",
     "text": [
      "[22.577529   35.77199267]\n"
     ]
    }
   ],
   "source": [
    "freqs_only = [v[1] for k,v in site_freqs.items()]\n",
    "scores = list(map(np.mean, get_bootstrap_samples(np.asarray(freqs_only), len(freqs_only))))\n",
    "print(stat_intervals(scores, 0.05))"
   ]
  },
  {
   "cell_type": "code",
   "execution_count": 36,
   "metadata": {
    "collapsed": true
   },
   "outputs": [],
   "source": [
    "ft = get_bootstrap_samples(np.asarray(freqs_only), len(freqs_only))\n",
    "# print(pd.Series(ft[0]).value_counts())\n",
    "# print(pd.Series(ft[1]).value_counts())\n",
    "# print(ft[1].value_counts())"
   ]
  },
  {
   "cell_type": "code",
   "execution_count": 37,
   "metadata": {},
   "outputs": [
    {
     "data": {
      "text/plain": [
       "['download.jboss.org',\n",
       " 'www.google.com',\n",
       " 'api.twitter.com',\n",
       " 'www.facebook.com',\n",
       " 'www.google.fr',\n",
       " 'media.melty.fr',\n",
       " 'clients1.google.com',\n",
       " 'fr.openclassrooms.com',\n",
       " 'www.melty.fr',\n",
       " 'safebrowsing-cache.google.com',\n",
       " 'docs.oracle.com',\n",
       " 'plus.google.com',\n",
       " 's-static.ak.facebook.com',\n",
       " 'bay178.mail.live.com',\n",
       " 'static.ak.facebook.com',\n",
       " 'apis.google.com',\n",
       " 'download.oracle.com',\n",
       " 'safebrowsing.clients.google.com',\n",
       " 'platform.twitter.com',\n",
       " 'drive.google.com',\n",
       " 'doug1izaerwt3.cloudfront.net',\n",
       " 'accounts.google.com',\n",
       " 'login.live.com',\n",
       " 'ocsp.digicert.com',\n",
       " 'repo.maven.apache.org',\n",
       " 'skydrive.live.com',\n",
       " 'syndication.twitter.com',\n",
       " 'ajax.googleapis.com',\n",
       " 'translate.google.com',\n",
       " 'ocsp.verisign.com',\n",
       " 'connect.facebook.net',\n",
       " 'twitter.com',\n",
       " 'ad.melty.fr',\n",
       " 'gtssl-ocsp.geotrust.com',\n",
       " 'h.live.com',\n",
       " 'mail.google.com',\n",
       " 'gtglobal-ocsp.geotrust.com',\n",
       " 'full-stream.net',\n",
       " 'www.developpez.net',\n",
       " 'javadl-esd-secure.oracle.com',\n",
       " 'ocsp.thawte.com',\n",
       " 'docs.google.com',\n",
       " 'www.oracle.com',\n",
       " 'careers.accenture.com',\n",
       " 'www.w3schools.com',\n",
       " 'its.tradelab.fr',\n",
       " 'evintl-ocsp.verisign.com',\n",
       " 'evsecure-ocsp.verisign.com',\n",
       " 'marketplace.eclipse.org',\n",
       " 'windowslive.tt.omtrdc.net',\n",
       " 'www.googleapis.com',\n",
       " 'accounts.youtube.com',\n",
       " 'accounts.google.fr',\n",
       " 'p.sfx.ms',\n",
       " 'dnn506yrbagrg.cloudfront.net',\n",
       " 'www.gravatar.com',\n",
       " 'dlc.sun.com.edgesuite.net',\n",
       " 'ocsp.usertrust.com',\n",
       " 'updates.netbeans.org',\n",
       " 'go.trouter.io',\n",
       " 'people.directory.live.com',\n",
       " 'clients2.google.com',\n",
       " 'armmf.adobe.com',\n",
       " 'www.rivesparis.banquepopulaire.fr',\n",
       " 'tracking.melty.fr',\n",
       " 'ocsp.tcs.terena.org',\n",
       " 'www.developpez.com',\n",
       " 'proxy-blu-people.directory.live.com',\n",
       " 'media-1.melty.fr',\n",
       " 'wwwd.caf.fr',\n",
       " 'cid-4b3abd3dcf708cdf.users.storage.live.com',\n",
       " 'chatenabled.mail.google.com',\n",
       " 'word-edit.officeapps.live.com',\n",
       " 'livestats.fr',\n",
       " 'ba.commentcamarche.net',\n",
       " '0.drive.google.com',\n",
       " 'static.ccm2.net',\n",
       " 'gg.google.com',\n",
       " 'kissanime.com',\n",
       " 'www.commentcamarche.net',\n",
       " 'www.letudiant.fr',\n",
       " 'java.sun.com',\n",
       " 'http.tidaltv.com',\n",
       " 'choices.truste.com',\n",
       " 'api.bing.com',\n",
       " 'api.facebook.com',\n",
       " 'www.linkedin.com',\n",
       " 'um.simpli.fi',\n",
       " 'go.microsoft.com',\n",
       " 'discovery.renater.fr',\n",
       " 'rs2.scribd.com',\n",
       " 'secure.shared.live.com',\n",
       " 'omni.accenture.com',\n",
       " 'www.emploi.bouyguestelecom.fr',\n",
       " 'halc.iadvize.com',\n",
       " 'hal9000.redintelligence.net',\n",
       " 'blufiles.storage.live.com',\n",
       " 'www.meltybuzz.fr',\n",
       " 'pixel.alephd.com',\n",
       " 'ocsp.comodoca.com',\n",
       " 'clients6.google.com',\n",
       " 'netbeans.org',\n",
       " 'js.live.net',\n",
       " 'code.jquery.com',\n",
       " 'storage.live.com',\n",
       " 'jobs-stages.letudiant.fr',\n",
       " 'ocsp.entrust.net',\n",
       " 'accenture.tt.omtrdc.net',\n",
       " 'p.typekit.net',\n",
       " 'xslttest.appspot.com',\n",
       " 'stackoverflow.com',\n",
       " 'core.adprotected.com',\n",
       " 'log.caspion.com',\n",
       " 'bits.wikimedia.org',\n",
       " 'word-view.officeapps.live.com',\n",
       " 'skyapi.skydrive.live.com',\n",
       " 'groupes.renater.fr',\n",
       " 'www.caf.fr',\n",
       " 'id.google.fr',\n",
       " 'repository.apache.org',\n",
       " 'windows.microsoft.com',\n",
       " 'g.live.com',\n",
       " 'ieonline.microsoft.com',\n",
       " 'fr.web.img6.acsta.net',\n",
       " 'lc.iadvize.com',\n",
       " 'www.youtube.com',\n",
       " 'www.kfc.fr',\n",
       " 'www.viedemerde.fr',\n",
       " 'res1.windows.microsoft.com',\n",
       " 'dev.twitter.com',\n",
       " 'rp.gwallet.com',\n",
       " 'media.fan2.fr',\n",
       " 'www.melty.de',\n",
       " 'rs4.scribd.com',\n",
       " 'static.siteduzero.com',\n",
       " 'prod.registrar.skype.com',\n",
       " 'js.microsoft.com',\n",
       " 'c.live.com',\n",
       " 'www.fan2.fr',\n",
       " 'images.gx101.com',\n",
       " 'optim.dekalee.fr',\n",
       " 'fr.wikipedia.org',\n",
       " 'blufiles.storage.msn.com',\n",
       " 'www.chine-nouvelle.com',\n",
       " 'static.ccmbg.com',\n",
       " 'uaa.springsource.org',\n",
       " '0.docs.google.com',\n",
       " 'premium.hi-mediaserver.com',\n",
       " 'match.rtbidder.net',\n",
       " 'www.squid-cache.org',\n",
       " 'cdn-careers.sstatic.net',\n",
       " 'hotmail.fr',\n",
       " 'res2.windows.microsoft.com',\n",
       " 'media.meltybuzz.fr',\n",
       " 'w.sharethis.com',\n",
       " 'mail.live.com',\n",
       " 's.ytimg.com',\n",
       " 'www.snapengage.com',\n",
       " 'rapidssl-ocsp.geotrust.com',\n",
       " 'ocsp.godaddy.com',\n",
       " 'www.ultimedia.com',\n",
       " 'www.meltystyle.fr',\n",
       " 'www.bing.com',\n",
       " 'sourceforge.net',\n",
       " 'www.mistra.fr',\n",
       " 'www.airfrance.fr',\n",
       " 'www.cinejaude.fr',\n",
       " 'clients1.google.fr',\n",
       " 'www.accenture.com',\n",
       " 'careers.stackoverflow.com',\n",
       " 'ce.lijit.com',\n",
       " '2.bp.blogspot.com',\n",
       " 'maps.googleapis.com',\n",
       " 'www.listesdemots.fr',\n",
       " 'planet.jboss.org',\n",
       " 'meta.wikimedia.org',\n",
       " 'wd.sharethis.com',\n",
       " 'ad.publicidees.com',\n",
       " 'mangafox.me',\n",
       " 'platform.linkedin.com',\n",
       " 'jdn.monster.com',\n",
       " 'blog.xebia.fr',\n",
       " 'u.jimdo.com',\n",
       " 'www.voyages-sncf.com',\n",
       " 's20.postimg.org',\n",
       " 'www.wat.tv',\n",
       " 'shell.windows.com',\n",
       " 'dtym7iokkjlif.cloudfront.net',\n",
       " 'cs.specificclick.net',\n",
       " 'ajax.microsoft.com',\n",
       " 'www.classcroute.com',\n",
       " 'fr.web.img4.acsta.net',\n",
       " 'bay03.calendar.live.com',\n",
       " 'rubicon-match.dotomi.com',\n",
       " 'wtpn.twenga.fr',\n",
       " 'bay178.afx.ms',\n",
       " 'consent-st.truste.com',\n",
       " 'adprotected.com',\n",
       " 'sites.google.com',\n",
       " 'apnx-match.dotomi.com',\n",
       " 'cip.gagnoo.com',\n",
       " 'www.talend.com',\n",
       " 'pixel2368.everesttech.net',\n",
       " 'static.cotecine.fr',\n",
       " 'www.melty.es',\n",
       " 'www.quizz.biz',\n",
       " 'www.melty.it',\n",
       " 'xmlfr.org',\n",
       " 'a.fsdn.com',\n",
       " 'fr.web.img1.acsta.net',\n",
       " 'maven.apache.org',\n",
       " 'agence.voyages-sncf.com',\n",
       " 'banniere.reussissonsensemble.fr',\n",
       " 'apex.oracle.com',\n",
       " 'login.wikimedia.org',\n",
       " 'pr.ybp.yahoo.com',\n",
       " 'i.imgur.com',\n",
       " 'vaadin.com',\n",
       " 'www.blogger.com',\n",
       " 'gmail.com',\n",
       " 'api-mc.bouyguestelecom.fr',\n",
       " 'fr.web.img2.acsta.net',\n",
       " 'www.codeblocks.org',\n",
       " 'dl.javafx.com',\n",
       " 'i1.ytimg.com',\n",
       " 'rbp.mxptint.net',\n",
       " 'y.one.impact-ad.jp',\n",
       " 'fr.scribd.com',\n",
       " 'dsms0mj1bbhn4.cloudfront.net',\n",
       " 'limelight.cedexis.com',\n",
       " '1.gravatar.com',\n",
       " 'translate.googleapis.com',\n",
       " 'site.availpro.com',\n",
       " 'probe.cedexis.org',\n",
       " 'feeds.delicious.com',\n",
       " '0.gravatar.com',\n",
       " 'www.oracleimg.com',\n",
       " 'rbx-cdn-tpn.c4tw.net',\n",
       " 'java.developpez.com',\n",
       " 'sync.uuidcshmg.com',\n",
       " 'adventori.com',\n",
       " 'melty.fr',\n",
       " 'stackauth.com',\n",
       " 'dev.mysql.com',\n",
       " 'ecx.images-amazon.com',\n",
       " 'pbs.twimg.com',\n",
       " 'fr.web.img5.acsta.net',\n",
       " 'www.cplusplus.com',\n",
       " 'zupimages.net',\n",
       " 'mt1.googleapis.com',\n",
       " 'www.jboss.org',\n",
       " 'r.ccm2.net',\n",
       " 'c1.adform.net',\n",
       " 'design.jboss.org',\n",
       " 'i.stack.imgur.com',\n",
       " 'www.leparisien.fr',\n",
       " 'www.meltyfashion.fr',\n",
       " 'docs.spring.io',\n",
       " 'api.skype.com',\n",
       " 'labs.jboss.com',\n",
       " 'armdl.adobe.com',\n",
       " 'disqus.com',\n",
       " 'camel.apache.org',\n",
       " 'ajax.cloudflare.com',\n",
       " 'media.mcm.fr',\n",
       " 's5.scribdassets.com',\n",
       " 'fr.web.img3.acsta.net',\n",
       " 'www.stats.bouyguestelecom.fr',\n",
       " 'eulerian.canal-plus.com',\n",
       " 'streamiz-vk.com',\n",
       " 'www.enseignement.polytechnique.fr',\n",
       " 'go.availpro.com',\n",
       " 'd.startpagea.com',\n",
       " 'media.meltystyle.fr',\n",
       " 'login.skype.com',\n",
       " 'adzerk-www.s3.amazonaws.com',\n",
       " 'ecn.dev.virtualearth.net',\n",
       " 'www.w3.org',\n",
       " 'www.meltyfood.fr',\n",
       " 'youwatch.org',\n",
       " 'lh6.google.com',\n",
       " 'www.yves-rocher.fr',\n",
       " 'abs.twimg.com',\n",
       " 'anonsvn.jboss.org',\n",
       " 'mt0.googleapis.com',\n",
       " 'sb-ssl.google.com',\n",
       " 'ibeu2.mookie1.com',\n",
       " 'i10.twenga.com',\n",
       " 'sourabhsoni.com',\n",
       " 'snippets-stats.mozilla.org',\n",
       " 'media.june.fr',\n",
       " 'fastly.bench.cedexis.com',\n",
       " 'cpp.mesexemples.com',\n",
       " 'mm.eulerian.net',\n",
       " 'tracking.veoxa.com',\n",
       " 'www.journaldunet.com',\n",
       " 'www.horoscope.fr',\n",
       " 'tatsukida.blogspot.fr',\n",
       " 'ea.numericable.fr',\n",
       " 'kh6qrx0f8h.s.ad6media.fr',\n",
       " 'img1.blogblog.com',\n",
       " 'badger.developpez.com',\n",
       " 'www.astuce2014.com',\n",
       " 'tc.airfrance.com',\n",
       " 'wiki.netbeans.org',\n",
       " 'graph.facebook.com',\n",
       " 'java.mesexemples.com',\n",
       " 'edge.sharethis.com',\n",
       " 'sflogo.sourceforge.net',\n",
       " 'static.seety.pagesjaunes.fr',\n",
       " 'ecvideo.aufeminin.com',\n",
       " 'mg8.biz',\n",
       " 'r.ccmbg.com',\n",
       " 'bitgravity.cedexis.com',\n",
       " 'www.covoiturageauvergne.net',\n",
       " 'assets.delvenetworks.com',\n",
       " 'www.talendforge.org',\n",
       " 'www.mcm.fr',\n",
       " 'jmdoudoux.developpez.com',\n",
       " 'i11.twenga.com',\n",
       " 's24.postimg.org',\n",
       " 'ds.reson8.com',\n",
       " 'roget.biz',\n",
       " 'arxiv.org',\n",
       " 'media.expedia.com',\n",
       " 'lh3.google.com',\n",
       " 'lh5.google.com',\n",
       " 'www.almerys.com',\n",
       " 'cdn2.reverso.net',\n",
       " 'marilleauni.free.fr',\n",
       " 'admaym.com',\n",
       " '4.bp.blogspot.com',\n",
       " 'akvideo.aufeminin.com',\n",
       " 'www.allocine.fr',\n",
       " 'geo.mozilla.org',\n",
       " 'www.cru.fr',\n",
       " 'www.lasergame-evolution.com',\n",
       " 'media.meltyfashion.fr',\n",
       " 'level3.cedexis.com',\n",
       " 'www.croes.org',\n",
       " 'api.pinterest.com',\n",
       " 'smart.allocine.fr',\n",
       " 'twitter4j.org',\n",
       " 'slpubmedias.tf1.fr',\n",
       " 'rcm-fr.amazon.fr',\n",
       " 'player.vimeo.com',\n",
       " 'translate.google.fr',\n",
       " 'search.yves-rocher.fr',\n",
       " 's.kau.li',\n",
       " 'powerpoint.officeapps.live.com',\n",
       " 'images.orangepublicite.fr',\n",
       " '1.bp.blogspot.com',\n",
       " 'forum.hardware.fr',\n",
       " 'bytel.profils.org',\n",
       " 'www.ou-dejeuner.com',\n",
       " 'blog-dev.net',\n",
       " 'www.livestats.fr',\n",
       " 's0.wp.com',\n",
       " 'htmlimg4.scribdassets.com',\n",
       " 'static.commentcamarche.net',\n",
       " 'my.cloudify.cc',\n",
       " 'magazine.developpez.com',\n",
       " 'forum-images.hardware.fr',\n",
       " 'ghbtns.com',\n",
       " '70.docs.google.com',\n",
       " 'search.spring.io',\n",
       " 'www.blogblog.com',\n",
       " 'mbaron.developpez.com',\n",
       " 'forum.forumactif.com',\n",
       " 'www3.cbox.ws',\n",
       " 'www.recrute.bouyguestelecom.fr',\n",
       " 'www.eric-pidoux.com',\n",
       " 'accn.allocine.net',\n",
       " 'caf.fr',\n",
       " 'illiweb.com',\n",
       " 'kotaku.com',\n",
       " 'livepassdl.conviva.com',\n",
       " 'www.javacodegeeks.com',\n",
       " 'l.longtailvideo.com',\n",
       " 'sfr.cedexis.com',\n",
       " '3.bp.blogspot.com',\n",
       " 'www.roseindia.net',\n",
       " 'central.maven.org',\n",
       " 'html1.scribdassets.com',\n",
       " 's1973398186.t.eloqua.com',\n",
       " 'x2.vindicosuite.com',\n",
       " 's0r.c4tw.net',\n",
       " 'ocsp.gandi.net',\n",
       " 'repo1.maven.org',\n",
       " 'www.tutorialspoint.com',\n",
       " 'datayr.yves-rocher.fr',\n",
       " 'docs.jboss.org',\n",
       " 'd36xtkk24g8jdx.cloudfront.net',\n",
       " 'instagram.com',\n",
       " 'www.reddit.com',\n",
       " 'images.sourceforge.net',\n",
       " 'dl.patchbeam.com',\n",
       " 'yui.yahooapis.com',\n",
       " 'maps.google.com',\n",
       " 'ocsp2.globalsign.com',\n",
       " 'www.java.net',\n",
       " 'imgv2-4.scribdassets.com',\n",
       " '0.talkgadget.google.com',\n",
       " 'api.flickr.com',\n",
       " 'hmkcode.com',\n",
       " 'cgi.njoyn.com',\n",
       " 'www.verif.com',\n",
       " 'imgv2-2.scribdassets.com',\n",
       " 'camel.465427.n5.nabble.com',\n",
       " 's23.postimg.org',\n",
       " 'www.banquepopulaire.fr',\n",
       " 'cloudfront.cedexis.com',\n",
       " 'jobs-stages.leparisien.fr',\n",
       " 'github.com',\n",
       " 'a.nonstoppartner.net',\n",
       " 'www.tizag.com',\n",
       " 'ea.virginmobile.fr',\n",
       " 'a69.g.akamai.net',\n",
       " '1.drive.google.com',\n",
       " 'www.paypal.com',\n",
       " 'tracking.fan2.fr',\n",
       " 'www.hebdotop.com',\n",
       " 'logc258.at.pagesjaunes.fr',\n",
       " 'github.global.ssl.fastly.net',\n",
       " 'www.lmde.com',\n",
       " 'fastly.bench.cedexis.com.global.prod.fastly.net',\n",
       " 'av.mediapostcommunication.net',\n",
       " 'fr.wikihow.com',\n",
       " 'issues.apache.org',\n",
       " 'cdn1.horoscope.fr',\n",
       " 's.delvenetworks.com',\n",
       " 'cb.baidu.com',\n",
       " 'chart.googleapis.com',\n",
       " 'img03.en25.com',\n",
       " 'mw2.google.com',\n",
       " 'static.iquesta.com',\n",
       " 'www.parisetudiant.com',\n",
       " 'www.table-ascii.com',\n",
       " 'www.vitrinemagique.com',\n",
       " 'imgv2-3.scribdassets.com',\n",
       " 'lmderm.net',\n",
       " 'go.disqus.com',\n",
       " 'd1447tq2m68ekg.cloudfront.net',\n",
       " 'osdir.com',\n",
       " 'dc1w54.wysistat.com',\n",
       " 'tracking.meltystyle.fr',\n",
       " 'img.gawkerassets.com',\n",
       " 'a248.e.akamai.net',\n",
       " 'app.beampulse.com',\n",
       " 'emailretargeting.com',\n",
       " 'www.sancy.com',\n",
       " 'cdn2-public.ladmedia.fr',\n",
       " 'www.woodbrass.com',\n",
       " 'blog.paumard.org',\n",
       " 'redir.adbutter.net',\n",
       " 'www.supinfo.com',\n",
       " 'chinacache.cedexis.com',\n",
       " 'walid.nabhan.pagesperso-orange.fr',\n",
       " 'nsa34.casimages.com',\n",
       " 'rs.mediapostcommunication.net',\n",
       " 'www.dailymotion.com',\n",
       " 'www.marocimages.net',\n",
       " 'ssl.apple.com',\n",
       " 'spring.io',\n",
       " 'fdata.over-blog.net',\n",
       " 'loadr.exelator.com',\n",
       " 'tracking.meltybuzz.fr',\n",
       " 'code.google.com',\n",
       " 'pub.cotecine.fr',\n",
       " 'cdn1-public.ladmedia.fr',\n",
       " 'nsa33.casimages.com',\n",
       " 'dps.bing.com',\n",
       " 'media-1.fan2.fr',\n",
       " 'tcharles.developpez.com',\n",
       " 'gb2.cedexis.swiftserve.com',\n",
       " 'ec2-eu-west-1a.cedexis.com',\n",
       " 'www.pixgame.fr',\n",
       " 'www.guide-astro.fr',\n",
       " 's9.postimg.org',\n",
       " 'xof2q195ix.s.ad6media.fr',\n",
       " 'pool-eu-ie.creative-serving.com',\n",
       " 'www.reverso.net',\n",
       " 'www.june.fr',\n",
       " 'w3blog.fr',\n",
       " 'www.java-forums.org',\n",
       " 'fpdownload2.macromedia.com',\n",
       " 'www.twoutils.com',\n",
       " 'www.studentjob.fr',\n",
       " 'imgv2-1.scribdassets.com',\n",
       " 'hitskin.com',\n",
       " 'asset-3.netbeans.org',\n",
       " 'network.bemyapp.com',\n",
       " 'images.ak.instagram.com',\n",
       " 'azionusa.cedexis.com',\n",
       " 'www.assistance.bouyguestelecom.fr',\n",
       " 'sql.sh',\n",
       " 'www.springframework.org',\n",
       " 'asset-1.netbeans.org',\n",
       " 's.codeproject.com',\n",
       " 'duoyu.net',\n",
       " 'www.jmdoudoux.fr',\n",
       " 'ea.twimg.com',\n",
       " 'fstatic.iadvize.com',\n",
       " 'www.bouyguestelecom.fr',\n",
       " 'grokbase.com',\n",
       " 'image.paypal-communication.com',\n",
       " 's.mzstatic.com',\n",
       " 'resize2-public.ladmedia.fr',\n",
       " 'learnedstuffs.wordpress.com',\n",
       " 'angularjs.org',\n",
       " 'resize1-public.ladmedia.fr',\n",
       " 'www.codeproject.com',\n",
       " 'javahowto.blogspot.fr',\n",
       " 'www.nafnaf.com',\n",
       " 's.aeriastatic.com',\n",
       " 'broadcast.piximedia.fr',\n",
       " 'mts0.google.com',\n",
       " 'ba.journaldunet.com',\n",
       " 'liris.cnrs.fr',\n",
       " 'www.stumbleupon.com',\n",
       " 'ocsp.netsolssl.com',\n",
       " 'asset-2.netbeans.org',\n",
       " 'www.ethnoinformatique.fr',\n",
       " 'www.teluq.ca',\n",
       " 'pings.conviva.com',\n",
       " 'blogs.oracle.com',\n",
       " 't.newsletters.yves-rocher.fr',\n",
       " 'google.fr',\n",
       " 'blog.developpez.com',\n",
       " 'krxd.nexac.com',\n",
       " 'miniimg.rightinthebox.com',\n",
       " 'www.miniinthebox.com',\n",
       " 'htmlimg1.scribdassets.com',\n",
       " 'www.mathworks.com',\n",
       " 'xml.developpez.com',\n",
       " 'fed.journaldunet.com',\n",
       " 'ydisanto.developpez.com',\n",
       " 'platform.stumbleupon.com',\n",
       " 'tags.master-perf-tools.com',\n",
       " 'codes-sources.commentcamarche.net',\n",
       " 'script.affilizr.com',\n",
       " 's2.wp.com',\n",
       " 'b12.myspace.com',\n",
       " 'static.jboss.org',\n",
       " 'www.grappa.univ-lille3.fr',\n",
       " 'litbimg.rightinthebox.com',\n",
       " 'imss-www.upmf-grenoble.fr',\n",
       " 'www.galerieslafayette.com',\n",
       " 'ivmad.free.fr',\n",
       " 'www.stage.fr',\n",
       " 'ego.developpez.com',\n",
       " 'aspserveur.bench.cedexis.com',\n",
       " 'lh5.ggpht.com',\n",
       " 'google-sync.rutarget.ru',\n",
       " 'badge.stumbleupon.com',\n",
       " 'resize3-public.ladmedia.fr',\n",
       " 'media.meltyfood.fr',\n",
       " 'lh4.google.com',\n",
       " 's1.wp.com',\n",
       " 'www.javamex.com',\n",
       " 'www.paypalobjects.com',\n",
       " 'www.search.bouyguestelecom.fr',\n",
       " 'www.signe-zodiaque.com',\n",
       " 'apr.lijit.com',\n",
       " 'raw.github.com',\n",
       " 'bdimg.share.baidu.com',\n",
       " 'tracker.affility.com',\n",
       " 'widgets.wp.com',\n",
       " 'h.bing.com',\n",
       " 't4ft.de',\n",
       " 'openclassroom.com',\n",
       " 'easystoregeo.widgetvillage.com',\n",
       " 'www.coderanch.com',\n",
       " 's15.postimg.org',\n",
       " 'static.olark.com',\n",
       " 'cbjs.baidu.com',\n",
       " 'www.adbayes.com',\n",
       " 'static.galerieslafayette.com',\n",
       " 'n19.hal9000.redintelligence.net',\n",
       " 'smeric.developpez.com',\n",
       " 'www.powerarchiver.com',\n",
       " 'nayuki.eigenstate.org',\n",
       " 'www.public.fr',\n",
       " 'ea.galerieslafayette.com',\n",
       " 's3-eu-west-1.amazonaws.com',\n",
       " 'smart2.allocine.fr',\n",
       " '731-events.olark.com',\n",
       " 'cdn3-public.ladmedia.fr',\n",
       " 'cdn-files.deezer.com',\n",
       " 'img2.blogblog.com',\n",
       " 'aws-ap-southeast-2a.bench.cedexis.com',\n",
       " 'fr.ad4mat.net',\n",
       " 's8.postimg.org',\n",
       " 'wizpert.com',\n",
       " 's7.scribdassets.com',\n",
       " 'maps.google.fr',\n",
       " 'www.objis.com',\n",
       " 'i48.servimg.com',\n",
       " 'k.keyade.com',\n",
       " 'wildfly.org',\n",
       " 'html4.scribdassets.com',\n",
       " 'www.scribd.com',\n",
       " 'www.ikoula.com',\n",
       " 'pad3.whstatic.com',\n",
       " 'forums.mangafox.me',\n",
       " 's29.postimg.org',\n",
       " 'creativecommons.org',\n",
       " 'da2i.univ-lille1.fr',\n",
       " 'fr.primary.affinitad.com',\n",
       " 'www.sanmarina.fr',\n",
       " 'de.tynt.com',\n",
       " 'mt.google.com',\n",
       " 'garpitmzn.blogspot.fr',\n",
       " 'js-project-eu.s3.amazonaws.com',\n",
       " 'ec2-us-west-1a.cedexis.com',\n",
       " 'logging.windows.microsoft.com',\n",
       " 'ovh-rbx.bench.cedexis.com',\n",
       " 'xslt.alexa.com',\n",
       " 'sita-sin.bench.cedexis.com',\n",
       " 'javadl-esd.sun.com',\n",
       " 'cm.adgrx.com',\n",
       " 'www.17k.com',\n",
       " 'n4.hal9000.redintelligence.net',\n",
       " 'r24.imgfast.net',\n",
       " 'sourabhsoni.disqus.com',\n",
       " 'static.les-horaires.fr',\n",
       " 'e.tlmq.fr',\n",
       " 'static.addtoany.com',\n",
       " 'hm.baidu.com',\n",
       " 'forum.alsacreations.com',\n",
       " 'widgets.pinterest.com',\n",
       " 'widgets.twimg.com',\n",
       " 'admin.brightcove.com',\n",
       " 'spring.developpez.com',\n",
       " 'lp.sparxweb.com',\n",
       " 'isabelle.thieblemont.pagesperso-orange.fr',\n",
       " 'id.impressiondesk.com',\n",
       " 'miniimg3.rightinthebox.com',\n",
       " 's.flite.com',\n",
       " 'htmlimg2.scribdassets.com',\n",
       " 'mastertag.effiliation.com',\n",
       " 'i0.poll.fm',\n",
       " 'op.trpxl.com',\n",
       " 'i42.servimg.com',\n",
       " 'eclipse.developpez.com',\n",
       " 'www.aeriagames.com',\n",
       " 'www.infres.enst.fr',\n",
       " 'd3cxv97fi8q177.cloudfront.net',\n",
       " 'cookieb.mythings.com',\n",
       " 's28.postimg.org',\n",
       " 'algs4.cs.princeton.edu',\n",
       " 'fby.s3.amazonaws.com',\n",
       " 'bdc.journaldunet.com',\n",
       " 'www.netbeans.org',\n",
       " 'tracking.meltyfashion.fr',\n",
       " 'afftrack.optimarkets.com',\n",
       " 'www.melty.com.br',\n",
       " 'p.pagesjaunes.fr',\n",
       " 'c0.histats.12mlbe.com',\n",
       " 'hkg.rackspace.bench.cedexis.com',\n",
       " 's1795.t.eloqua.com',\n",
       " 'media-1.meltyfashion.fr',\n",
       " 'services.lmde.com',\n",
       " 'www.kozayayin.com.tr',\n",
       " 'gist.github.com',\n",
       " 'download.netbeans.org',\n",
       " 'dsp.active-agent.com',\n",
       " 'cbks3.google.com',\n",
       " 'betacie.cachefly.net',\n",
       " 'media.vitrinemagique.com',\n",
       " 'dpm.zebestof.com',\n",
       " 'c.giantrealm.com.edgesuite.net',\n",
       " 'hc.55labs.com',\n",
       " 'miniimg7.rightinthebox.com',\n",
       " 'netcologne.dl.sourceforge.net',\n",
       " 'imagesup.org',\n",
       " 'miniimg8.rightinthebox.com',\n",
       " 'developer.android.com',\n",
       " 'sam.zebestof.com',\n",
       " 's13.postimg.org',\n",
       " 'i.ytimg.com',\n",
       " 'lipn.univ-paris13.fr',\n",
       " 'img1.17k.com',\n",
       " 'pad1.whstatic.com',\n",
       " 's14.postimg.org',\n",
       " 'www.ajoutezvotresite.com',\n",
       " 'forum.rue-montgallet.com',\n",
       " 'feeds2.feedburner.com',\n",
       " 'www.cmi.univ-mrs.fr',\n",
       " 'img706.imageshack.us',\n",
       " 'd0.histats.12mlbe.com',\n",
       " 'plugins.longtailvideo.com',\n",
       " 'linuxfr.org',\n",
       " 'rmdiscala.developpez.com',\n",
       " 's18.postimg.org',\n",
       " 'blog.netapsys.fr',\n",
       " 'www.jeuxvideo.com',\n",
       " 'kissmanaga.com',\n",
       " 'cache.20minutes.fr',\n",
       " 'cid-bf99edd00904da58.users.storage.live.com',\n",
       " 'lewebpedagogique.com',\n",
       " 'lrpush.apxlv.com',\n",
       " 'mavenhub.com',\n",
       " '347-iat-677.mktoresp.com',\n",
       " 'www.alsacreations.com',\n",
       " 'www.xpathtester.com',\n",
       " 'laurent-barbareau.developpez.com',\n",
       " 'www.rackspace.com',\n",
       " 'groups.google.com',\n",
       " 'ffd.journaldunet.com',\n",
       " 'cx.msn.com',\n",
       " 'ec2-ap-northeast-1a.cedexis.com',\n",
       " 'ak-g-ssl.c.ooyala.com',\n",
       " 'traf.romhack.org',\n",
       " 'www.restapitutorial.com',\n",
       " 'forgetcode.com',\n",
       " 'static.hupso.com',\n",
       " 'esp.pagesjaunes.fr',\n",
       " 'i36.servimg.com',\n",
       " 'tatsukida.blogspot.com',\n",
       " 'api.gawker.com',\n",
       " '13.docs.google.com',\n",
       " 'netdna.cedexis.com',\n",
       " 'www.foglyn.com',\n",
       " '625-iuj-009.mktoresp.com',\n",
       " 'mangafox.com',\n",
       " 'img.17k.com',\n",
       " 'www.intechinfo.fr',\n",
       " 'gravatar.com',\n",
       " 'www.tweetadder.com',\n",
       " 'miniimg6.rightinthebox.com',\n",
       " 's16.postimg.org',\n",
       " 'im1.all-up.com',\n",
       " 'stat.17k.com',\n",
       " 'aruba-cz.bench.cedexis.com',\n",
       " 'msmvps.com',\n",
       " 'miniimg2.rightinthebox.com',\n",
       " 'i83.servimg.com',\n",
       " 'an-projet-acsid.com',\n",
       " 'img5a.flixcart.com',\n",
       " 'd3fkowfgyn239o.cloudfront.net',\n",
       " 'office.microsoft.com',\n",
       " 's3s.fr',\n",
       " 'search.springsource.org',\n",
       " 'netbeans.developpez.com',\n",
       " 'sejour.voyages-sncf.com',\n",
       " 'docs.laroueverte.com',\n",
       " 'fra-2.fra-rtb1.rfihub.com',\n",
       " 'htmlimg3.scribdassets.com',\n",
       " 'linkhelp.clients.google.com',\n",
       " 's27.postimg.org',\n",
       " 'axe.mappy.com',\n",
       " 'ec2-us-east-1a.cedexis.com',\n",
       " 'lfov.net',\n",
       " 'i82.servimg.com',\n",
       " 'external.labs.ebuzzing.fr',\n",
       " 'cdn-public.ladmedia.fr',\n",
       " 'clk.voyages-sncf.com',\n",
       " 'www.apache.org',\n",
       " 'fr.wikibooks.org',\n",
       " 'itunes.apple.com',\n",
       " 'www.rgagnon.com',\n",
       " 'asset-0.netbeans.org',\n",
       " 'www.rvty.net',\n",
       " 'ca.ecritel.bench.cedexis.com',\n",
       " 'www.slideshare.net',\n",
       " 'kinja.com',\n",
       " 'www.florat.net',\n",
       " 'tomcat.apache.org',\n",
       " 'i1.wp.com',\n",
       " 'lacl.univ-paris12.fr',\n",
       " 'i.creativecommons.org',\n",
       " 'trk.adbutter.net',\n",
       " 's3.amazonaws.com',\n",
       " 'commondatastorage.googleapis.com',\n",
       " 'api.kinja.com',\n",
       " '48.docs.google.com',\n",
       " 'tracker.the-other-store.net',\n",
       " 'i0.wp.com',\n",
       " 'miniimg5.rightinthebox.com',\n",
       " 'lmde.com',\n",
       " 'www.olivier-guillou.fr',\n",
       " 'miniimg4.rightinthebox.com',\n",
       " 'actudesfinances.info',\n",
       " 'miniimg1.rightinthebox.com',\n",
       " 'soundwave.bnmla.com',\n",
       " 'onapp.cedexis.com',\n",
       " 'minijscss.rightinthebox.com',\n",
       " 'webr.emv2.com',\n",
       " 'javaweb.developpez.com',\n",
       " 'lwh.free.fr',\n",
       " 'www.exashare.com',\n",
       " 'cbox.ws',\n",
       " 'www.expedia.com',\n",
       " 'www.eclipse.org',\n",
       " 'static.cbox.ws',\n",
       " 'talkgadget.google.com',\n",
       " 'www.myeclipseide.com',\n",
       " 'rom.developpez.com',\n",
       " 'gtssl2-ocsp.geotrust.com',\n",
       " 'fr.netbeans.org',\n",
       " 'style2.ad6.fr',\n",
       " 'jtips.info',\n",
       " 'www.redhat.com',\n",
       " 'patatos.over-blog.com',\n",
       " 'external.wikio.fr',\n",
       " 'widget.uservoice.com',\n",
       " 'www.illiweb.com',\n",
       " 'image.jeuxvideo.com',\n",
       " '41.docs.google.com',\n",
       " 'actualite.20minutes.fr',\n",
       " 'd1zdqwv4o6pivl.cloudfront.net',\n",
       " 'www.heberger-image.fr',\n",
       " 'cshoppingbox.partner.leguide.com',\n",
       " 'office14client.microsoft.com',\n",
       " 'n37.hal9000.redintelligence.net',\n",
       " 'gmail.co',\n",
       " 'targeting.unrulymedia.com',\n",
       " 'perso.univ-lyon1.fr',\n",
       " 'www.les-horaires.fr',\n",
       " 'www.lifl.fr',\n",
       " 'www.lehtml.com',\n",
       " 's21.postimg.org',\n",
       " 'foglio.basilic.io',\n",
       " 'd20i4x3ol1vz2n.cloudfront.net',\n",
       " 'ea.smartbox.com',\n",
       " 'fei.pro-market.net',\n",
       " 'i1-js-14-3-01-11074-171131511-i.init.cedexis-radar.net',\n",
       " 'mastertrack.the-other-store.net',\n",
       " 'static.iadvize.com',\n",
       " 'aksb-a.akamaihd.net',\n",
       " 'dimelo-users-production.s3-eu-west-1.amazonaws.com',\n",
       " 'deezer.fr',\n",
       " 'cid-e81b8df88f98b519.users.storage.live.com',\n",
       " 'mts1.googleapis.com',\n",
       " 'darksleep.com',\n",
       " 'n31.hal9000.redintelligence.net',\n",
       " 'lon.rackspace.bench.cedexis.com',\n",
       " 'gce-us-central1-a.bench.cedexis.com',\n",
       " 'banner.nonstoppartner.net',\n",
       " 'visualvm.java.net',\n",
       " 'api.olark.com',\n",
       " 'rm.piximedia.fr',\n",
       " 'customer.misterbell.com',\n",
       " 'media-1.meltystyle.fr',\n",
       " 'lh3.ggpht.com',\n",
       " 'dynamic.cedexis.com',\n",
       " 'www.all-up.com',\n",
       " 'www.nrj12.fr',\n",
       " 'dsaorigin.cedexis.com',\n",
       " '10.docs.google.com',\n",
       " 'tracking.meltyfood.fr',\n",
       " 'pathtools.googlecode.com',\n",
       " 'hidemyass.cachefly.net',\n",
       " 'chine-nouvelle.com',\n",
       " 'cdn2.blogbang.com',\n",
       " '91.docs.google.com',\n",
       " 'ak.c.ooyala.com',\n",
       " 'www.kdukvh.com',\n",
       " 'ubmcmm.baidustatic.com',\n",
       " 'www.blogbang.com',\n",
       " 'open-maker.tuxfamily.org',\n",
       " 'i1-js-14-3-01-11074-152845178-i.init.cedexis-radar.net',\n",
       " 'affiliation.service-voyages.com',\n",
       " 'saxon.sourceforge.net',\n",
       " 'eulerian.netbooster.com',\n",
       " 'realshowto.disqus.com',\n",
       " 't1162.trafiz.net',\n",
       " 'jean-luc.massat.perso.luminy.univ-amu.fr',\n",
       " 'cdn3.doubleverify.com',\n",
       " 'i58.servimg.com',\n",
       " 'play.google.com',\n",
       " 'www.webutation.net',\n",
       " 'olivier-guillou.fr',\n",
       " 's10.postimg.org',\n",
       " 'twitter-badges.s3.amazonaws.com',\n",
       " 'fs31.youwatch.org',\n",
       " 'ocsp.starfieldtech.com',\n",
       " 'a4.mzstatic.com',\n",
       " 'pictures.modz.fr',\n",
       " 'twitpic.com',\n",
       " 'img140.imageshack.us',\n",
       " 'calendar.google.com',\n",
       " 'ver-adt.vindicosuite.com',\n",
       " 's.55labs.com',\n",
       " 'ct.truste.com',\n",
       " 'd.delivery49.com',\n",
       " 'compose.mail.yahoo.com',\n",
       " 'i1-js-14-3-01-10077-822350377-i.init.cedexis-radar.net',\n",
       " 'i811.photobucket.com',\n",
       " 'codeprojecttv.s3.amazonaws.com',\n",
       " 'forum.letudiant.fr',\n",
       " 'wst.s-msn.com',\n",
       " 'api.conduit.com',\n",
       " 'jwpsrv.com',\n",
       " 'feeds.bbci.co.uk',\n",
       " 'geo0.ggpht.com',\n",
       " 'www.rocq.inria.fr',\n",
       " 's20.postimage.org',\n",
       " 'zvon.org',\n",
       " 'use.typekit.com',\n",
       " 'img.youtube.com',\n",
       " 's374.meetrics.net',\n",
       " 't.paypal.com',\n",
       " 'kent.dl.sourceforge.net',\n",
       " 'i1-js-14-3-01-10077-73562604-i.init.cedexis-radar.net',\n",
       " 'i1-js-14-3-01-11033-189782114-i.init.cedexis-radar.net',\n",
       " 'videosfr.s3.amazonaws.com',\n",
       " 'm.ad6media.fr',\n",
       " 'www.gralon.net',\n",
       " 'a2.mzstatic.com',\n",
       " 'csimg.leguide.com',\n",
       " 'ec2-us-west-2a.cedexis.com',\n",
       " 'i2.wp.com',\n",
       " 'n25.hal9000.redintelligence.net',\n",
       " 'assets.pinterest.com',\n",
       " 'accessmodifier.sourceforge.net',\n",
       " 'images.allocine.fr',\n",
       " 'i1-js-14-3-01-11074-875652971-i.init.cedexis-radar.net',\n",
       " 'khms1.google.com',\n",
       " 'fbrainboweu-va-p.mythings.com',\n",
       " 'common.osimatic.eu',\n",
       " 'i1-js-14-3-01-10077-141539250-i.init.cedexis-radar.net',\n",
       " 'abf.journaldunet.com',\n",
       " 'www.tazzaz.com',\n",
       " 'i910.photobucket.com',\n",
       " 'bar-com.fr',\n",
       " 'i1-js-14-3-01-10077-781603177-i.init.cedexis-radar.net',\n",
       " 'public-api.wordpress.com',\n",
       " 'i1-js-14-3-01-10077-234229257-i.init.cedexis-radar.net',\n",
       " 'contextweb-match.dotomi.com',\n",
       " 'img.publicidees.com',\n",
       " 's1.lprs1.fr',\n",
       " 'n40.hal9000.redintelligence.net',\n",
       " 'dtm.express.com',\n",
       " 's.wordpress.com',\n",
       " 'paypal.d1.sc.omtrdc.net',\n",
       " 's3.postimg.org',\n",
       " 'tlmq.fr',\n",
       " 'd2j3q9yua85jt3.cloudfront.net',\n",
       " 'p.ivimedia.net',\n",
       " 'www.wildfly.org',\n",
       " 'www.json.org',\n",
       " 'wallet.google.com',\n",
       " 'i1-js-14-3-01-11033-563983430-i.init.cedexis-radar.net',\n",
       " 'i1-js-14-3-01-10077-133179756-i.init.cedexis-radar.net',\n",
       " 'static1.purebreak.com',\n",
       " 'bright.bncnt.com',\n",
       " 'i1-js-14-3-01-10077-299335826-i.init.cedexis-radar.net',\n",
       " 'i1-js-14-3-01-10077-738937843-i.init.cedexis-radar.net',\n",
       " 'fxfeeds.mozilla.com',\n",
       " 'a3.mzstatic.com',\n",
       " 'static.pagesjaunes.fr',\n",
       " 'a.d3sv.net',\n",
       " 'cdns.gigya.com',\n",
       " 'heanet.dl.sourceforge.net',\n",
       " 'lmde.fr',\n",
       " 'i4mxc0xg5e.s.ad6media.fr',\n",
       " 'www.annuaire-web-france.com',\n",
       " 'i1-js-14-3-01-11074-202283048-i.init.cedexis-radar.net',\n",
       " 'dca.sl.bench.cedexis.com',\n",
       " 'lasergame-evolution.com',\n",
       " 'perso0.free.fr',\n",
       " 'ebb.journaldunet.com',\n",
       " 'news.google.com',\n",
       " 'n15.hal9000.redintelligence.net',\n",
       " 'polldaddy.com',\n",
       " 'i1-js-14-3-01-11074-746777167-i.init.cedexis-radar.net',\n",
       " 'i1-js-14-3-01-11074-610945228-i.init.cedexis-radar.net',\n",
       " 'o.twimg.com',\n",
       " 'cobrowseeast.inq.com',\n",
       " 'i1-js-14-3-01-11074-730367211-i.init.cedexis-radar.net',\n",
       " 'affiliates.rackspacecloud.com',\n",
       " 'www.beead.fr',\n",
       " 'magali.contensin.free.fr',\n",
       " 'mediaeastv3.inq.com',\n",
       " 'i1006.photobucket.com',\n",
       " 'axe3.mappy.com',\n",
       " 'support.google.com',\n",
       " 'i1-js-14-3-01-10077-984452141-i.init.cedexis-radar.net',\n",
       " 'c04a6e.r.axf8.net',\n",
       " 'cdn1.developermedia.com',\n",
       " 'lon1.rackspace.bench.cedexis.com',\n",
       " 'maps-api-ssl.google.com',\n",
       " 'bits.netbeans.org',\n",
       " 'mts0.googleapis.com',\n",
       " 'www-sop.inria.fr',\n",
       " 'i1-js-14-3-01-10077-140875160-i.init.cedexis-radar.net',\n",
       " 'encrypted.google.com',\n",
       " 'extras.expedia.com',\n",
       " 'image.tmdb.org',\n",
       " 'javahowto.blogspot.com',\n",
       " 'slc.viawest.bench.cedexis.com',\n",
       " 'as.blogbang.com',\n",
       " 'widgets.twitpic.com',\n",
       " 'a074c586-a-62cb3a1a-s-sites.googlegroups.com',\n",
       " 'i1-js-14-3-01-10077-152419590-i.init.cedexis-radar.net',\n",
       " 'www.actu-money.com',\n",
       " 'a5.mzstatic.com',\n",
       " 'transact-can.cedexis.com',\n",
       " ...]"
      ]
     },
     "execution_count": 37,
     "metadata": {},
     "output_type": "execute_result"
    }
   ],
   "source": [
    "list(site_freqs)"
   ]
  },
  {
   "cell_type": "markdown",
   "metadata": {},
   "source": [
    "## Пути улучшения\n",
    "Что еще можно добавить по второй части проекта:\n",
    "- можно дополнительно рассматривать сессии с параметром – длиной сессии по времени. И составить выборки, скажем, для 5-, 10-, 15- и 20-минутных сессий (это как раз пригодится в [соревновании](https://inclass.kaggle.com/c/catch-me-if-you-can-intruder-detection-through-webpage-session-tracking2) Kaggle Inclass)\n",
    "- можно провести больше первичного анализа и проверять прочие интересные гипотезы (а больше их появится после создания признаков на следующей неделе)\n",
    "\n",
    "На 3 неделе мы займемся визуальным анализом данных и построением признаков."
   ]
  }
 ],
 "metadata": {
  "anaconda-cloud": {},
  "kernelspec": {
   "display_name": "Python 3",
   "language": "python",
   "name": "python3"
  },
  "language_info": {
   "codemirror_mode": {
    "name": "ipython",
    "version": 3
   },
   "file_extension": ".py",
   "mimetype": "text/x-python",
   "name": "python",
   "nbconvert_exporter": "python",
   "pygments_lexer": "ipython3",
   "version": "3.6.1"
  }
 },
 "nbformat": 4,
 "nbformat_minor": 1
}
