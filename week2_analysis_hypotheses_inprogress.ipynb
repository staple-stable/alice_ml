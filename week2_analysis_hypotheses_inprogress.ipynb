{
 "cells": [
  {
   "cell_type": "markdown",
   "metadata": {},
   "source": [
    "<center>\n",
    "<img src=\"https://habrastorage.org/web/677/8e1/337/6778e1337c3d4b159d7e99df94227cb2.jpg\"/>\n",
    "## Специализация \"Машинное обучение и анализ данных\"\n",
    "<center>Автор материала: программист-исследователь Mail.Ru Group, старший преподаватель Факультета Компьютерных Наук ВШЭ [Юрий Кашницкий](https://yorko.github.io/)"
   ]
  },
  {
   "cell_type": "markdown",
   "metadata": {},
   "source": [
    "# <center> Capstone проект №1 <br>Идентификация пользователей по посещенным веб-страницам\n",
    "<img src='http://i.istockimg.com/file_thumbview_approve/21546327/5/stock-illustration-21546327-identification-de-l-utilisateur.jpg'>\n",
    "\n",
    "# <center>Неделя 2. Подготовка и первичный анализ данных\n",
    "\n",
    "На второй неделе мы продолжим подготавливать данные для дальнейшего анализа и построения прогнозных моделей. Конкретно, раньше мы определили что сессия – это последовательность из 10 посещенных пользователем сайтов, теперь сделаем длину сессии параметром, и потом при обучении прогнозных моделей выберем лучшую длину сессии.\n",
    "Также мы познакомимся с предобработанными данными и статистически проверим первые гипотезы, связанные с нашими наблюдениями. \n",
    "\n",
    "**План 2 недели:**\n",
    " - Часть 1. Подготовка нескольких обучающих выборок для сравнения\n",
    " - Часть 2. Первичный анализ данных, проверка гипотез\n",
    "\n",
    "**В этой части проекта Вам могут быть полезны  следующие видеозаписи лекций курса \"Построение выводов по данным\":**\n",
    "\n",
    "   - [Доверительные интервалы для доли](https://www.coursera.org/learn/stats-for-data-analysis/lecture/3oi53/dovieritiel-nyie-intiervaly-dlia-doli)\n",
    "   - [Биномиальный критерий для доли](https://www.coursera.org/learn/stats-for-data-analysis/lecture/JwmBw/binomial-nyi-kritierii-dlia-doli)\n",
    "   - [Доверительные интервалы на основе бутстрепа](https://www.coursera.org/learn/stats-for-data-analysis/lecture/GZjW7/dovieritiel-nyie-intiervaly-na-osnovie-butstriepa)\n",
    "   \n",
    "**Кроме того, в задании будут использоваться библиотеки Python [glob](https://docs.python.org/3/library/glob.html), [pickle](https://docs.python.org/2/library/pickle.html), [itertools](https://docs.python.org/3/library/itertools.html) и класс [csr_matrix](https://docs.scipy.org/doc/scipy-0.14.0/reference/generated/scipy.sparse.csr_matrix.html) из scipy.sparse.**"
   ]
  },
  {
   "cell_type": "markdown",
   "metadata": {},
   "source": [
    "### Задание\n",
    "1. Заполните код в этой тетрадке \n",
    "2. Если вы проходите специализацию Яндеса и МФТИ, пошлите файл с ответами в соответствующем Programming Assignment. <br> Если вы проходите курс ODS, выберите ответы в [веб-форме](https://docs.google.com/forms/d/13ZnT7w7foHD0uw0ynTtj7atdiCGvlltF8ThhbJCvLsc).  \n"
   ]
  },
  {
   "cell_type": "markdown",
   "metadata": {},
   "source": [
    "## Часть 1. Подготовка нескольких обучающих выборок для сравнения\n",
    "\n",
    "Пока мы брали последовательности из 10 сайтов, и это было наобум. Давайте сделаем число сайтов в сессии параметром, чтоб в дальнейшем сравнить модели классификации, обученные на разных выборках – с 5, 7, 10 и 15 сайтами в сессии. Более того, пока мы брали по 10 сайтов подряд, без пересечения. Теперь давайте применим идею скользящего окна – сессии будут перекрываться. \n",
    "\n",
    "**Пример**: для длины сессии 10 и ширины окна 7 файл из 30 записей породит не 3 сессии, как раньше (1-10, 11-20, 21-30), а 5 (1-10, 8-17, 15-24, 22-30, 29-30). При этом в предпоследней сессии будет один ноль, а в последней – 8 нолей.\n",
    "\n",
    "Создадим несколько выборок для разных сочетаний параметров длины сессии и ширины окна. Все они представлены в табличке ниже:\n",
    "\n",
    "<style type=\"text/css\">\n",
    ".tg  {border-collapse:collapse;border-spacing:0;}\n",
    ".tg td{font-family:Arial, sans-serif;font-size:14px;padding:10px 5px;border-style:solid;border-width:1px;overflow:hidden;word-break:normal;}\n",
    ".tg th{font-family:Arial, sans-serif;font-size:14px;font-weight:normal;padding:10px 5px;border-style:solid;border-width:1px;overflow:hidden;word-break:normal;}\n",
    "</style>\n",
    "<table class=\"tg\">\n",
    "  <tr>\n",
    "    <th class=\"tg-031e\">session_length -&gt;<br>window_size <br></th>\n",
    "    <th class=\"tg-031e\">5</th>\n",
    "    <th class=\"tg-031e\">7</th>\n",
    "    <th class=\"tg-031e\">10</th>\n",
    "    <th class=\"tg-031e\">15</th>\n",
    "  </tr>\n",
    "  <tr>\n",
    "    <td class=\"tg-031e\">5</td>\n",
    "    <td class=\"tg-031e\">v</td>\n",
    "    <td class=\"tg-031e\">v</td>\n",
    "    <td class=\"tg-031e\">v</td>\n",
    "    <td class=\"tg-031e\">v</td>\n",
    "  </tr>\n",
    "  <tr>\n",
    "    <td class=\"tg-031e\">7</td>\n",
    "    <td class=\"tg-031e\"></td>\n",
    "    <td class=\"tg-031e\">v</td>\n",
    "    <td class=\"tg-031e\">v</td>\n",
    "    <td class=\"tg-031e\">v</td>\n",
    "  </tr>\n",
    "  <tr>\n",
    "    <td class=\"tg-031e\">10</td>\n",
    "    <td class=\"tg-031e\"></td>\n",
    "    <td class=\"tg-031e\"></td>\n",
    "    <td class=\"tg-031e\"><font color='green'>v</font></td>\n",
    "    <td class=\"tg-031e\">v</td>\n",
    "  </tr>\n",
    "</table>\n",
    "\n",
    "Итого должно получиться 18 разреженных матриц – указанные в таблице 9 сочетаний параметров формирования сессий для выборок из 10 и 150 пользователей. При этом 2 выборки мы уже сделали в прошлой части, они соответствуют сочетанию параметров: session_length=10, window_size=10, которые помечены в таблице выше галочкой зеленого цвета (done)."
   ]
  },
  {
   "cell_type": "markdown",
   "metadata": {},
   "source": [
    "Реализуйте функцию *prepare_sparse_train_set_window*.\n",
    "\n",
    "Аргументы:\n",
    "- *path_to_csv_files* – путь к каталогу с csv-файлами\n",
    "- *site_freq_path* – путь к pickle-файлу с частотным словарем, полученным в 1 части проекта\n",
    "- *session_length* – длина сессии (параметр)\n",
    "- *window_size* – ширина окна (параметр) \n",
    "\n",
    "Функция должна возвращать 2 объекта:\n",
    "- разреженную матрицу *X_sparse* (двухмерная Scipy.sparse.csr_matrix), в которой строки соответствуют сессиям из *session_length* сайтов, а *max(site_id)* столбцов – количеству посещений *site_id* в сессии. \n",
    "- вектор *y* (Numpy array) \"ответов\" в виде ID пользователей, которым принадлежат сессии из *X_sparse*\n",
    "\n",
    "Детали:\n",
    "- Модифицируйте созданную в 1 части функцию *prepare_train_set*\n",
    "- Некоторые сессии могут повторяться – оставьте как есть, не удаляйте дубликаты\n",
    "- Замеряйте время выполнения итераций цикла с помощью *time* из *time*, *tqdm* из *tqdm* или с помощью виджета [log_progress](https://github.com/alexanderkuk/log-progress) ([статья](https://habrahabr.ru/post/276725/) о нем на Хабрахабре)\n",
    "- 150 файлов из *capstone_websites_data/150users/* должны обрабатываться за несколько секунд (в зависимости от входных параметров). Если дольше – не страшно, но знайте, что функцию можно ускорить. "
   ]
  },
  {
   "cell_type": "code",
   "execution_count": 1,
   "metadata": {
    "collapsed": true
   },
   "outputs": [],
   "source": [
    "from __future__ import division, print_function\n",
    "# отключим всякие предупреждения Anaconda\n",
    "import warnings\n",
    "warnings.filterwarnings('ignore')\n",
    "from glob import glob\n",
    "import os\n",
    "import pickle\n",
    "from tqdm import tqdm_notebook as tqdm\n",
    "import numpy as np\n",
    "import pandas as pd\n",
    "from scipy.sparse import csr_matrix\n",
    "from scipy import stats\n",
    "from statsmodels.stats.proportion import proportion_confint\n",
    "%matplotlib inline\n",
    "from matplotlib import pyplot as plt\n",
    "from collections import defaultdict"
   ]
  },
  {
   "cell_type": "code",
   "execution_count": 2,
   "metadata": {
    "collapsed": true
   },
   "outputs": [],
   "source": [
    "# Поменяйте на свой путь к данным\n",
    "PATH_TO_DATA = './data/'"
   ]
  },
  {
   "cell_type": "code",
   "execution_count": 3,
   "metadata": {
    "collapsed": true
   },
   "outputs": [],
   "source": [
    "def to_csr(X):\n",
    "    indptr = [0]\n",
    "    indices = []\n",
    "    data = []\n",
    "    vocabulary = {}\n",
    "    for d in X:\n",
    "        for term in d:\n",
    "            index = term\n",
    "            indices.append(index)\n",
    "            data.append(1)\n",
    "        indptr.append(len(indices))\n",
    "    return csr_matrix((data, indices, indptr), dtype=int)[:, 1:]"
   ]
  },
  {
   "cell_type": "code",
   "execution_count": 10,
   "metadata": {
    "collapsed": true
   },
   "outputs": [],
   "source": [
    "def prepare_sparse_train_set_window(path_to_csv_files, site_freq_path, \n",
    "                                    session_length=10, window_size=10):\n",
    "    \n",
    "    freqs = pickle.load(open(site_freq_path, \"rb\"))\n",
    "            \n",
    "    allFiles = glob(path_to_csv_files + \"/*.csv\")\n",
    "    df_list = []\n",
    "    userId = 1\n",
    "    \n",
    "    for file in allFiles:\n",
    "        basename = os.path.basename(file)\n",
    "        user = int(basename[4:-4])\n",
    "        df = pd.read_csv(file)\n",
    "        df_list.append((user, df))\n",
    "    \n",
    "    columns = [\"site\" + str(x) for x in range(1, session_length + 1)]\n",
    "    columns.append(\"user_id\")\n",
    "    resultDF = pd.DataFrame(columns=columns)\n",
    "    \n",
    "    tmpArray = []\n",
    "    \n",
    "    userId = 0\n",
    "    \n",
    "    def queue_to_dict(queue, user_id):\n",
    "        result = defaultdict(int)\n",
    "        result[\"user_id\"] = user_id\n",
    "        for i, site in enumerate(queue, start=1):\n",
    "            result[\"site\"+str(i)] = site\n",
    "        return result\n",
    "        \n",
    "    \n",
    "    for userId, df in tqdm(df_list):\n",
    "        newRow = defaultdict(int)\n",
    "        newRow[\"user_id\"] = userId\n",
    "        queue = []\n",
    "        for row in df.itertuples():\n",
    "            queue.append(freqs[row.site][0])\n",
    "            if (len(queue) == session_length):\n",
    "                tmpArray.append(queue_to_dict(queue, userId))\n",
    "                queue = queue[window_size:]\n",
    "        if (len(queue)> 0):\n",
    "            while len(queue) > 0:\n",
    "                tmpArray.append(queue_to_dict(queue, userId))\n",
    "                queue = queue[window_size:]\n",
    "            \n",
    "    resultDF = resultDF.append(tmpArray)\n",
    "    resultDF = resultDF.fillna(0)\n",
    "    resultDF[resultDF.columns] = resultDF[resultDF.columns].astype(int)\n",
    "    \n",
    "    y = resultDF[\"user_id\"]\n",
    "    resultDF.drop(\"user_id\", axis=1, inplace=True)\n",
    "    return (to_csr(resultDF.values), y.values)"
   ]
  },
  {
   "cell_type": "markdown",
   "metadata": {},
   "source": [
    "**Примените полученную функцию с параметрами *session_length=5* и *window_size=3* к игрушечному примеру. Убедитесь, что все работает как надо.**"
   ]
  },
  {
   "cell_type": "code",
   "execution_count": 5,
   "metadata": {},
   "outputs": [
    {
     "data": {
      "application/vnd.jupyter.widget-view+json": {
       "model_id": "b4715185513d4da2bf2401e160fbd5a4"
      }
     },
     "metadata": {},
     "output_type": "display_data"
    },
    {
     "name": "stdout",
     "output_type": "stream",
     "text": [
      "\n"
     ]
    },
    {
     "data": {
      "application/vnd.jupyter.widget-view+json": {
       "model_id": "060dd4d8f1604c98935527f73825ea88"
      }
     },
     "metadata": {},
     "output_type": "display_data"
    },
    {
     "name": "stdout",
     "output_type": "stream",
     "text": [
      "parsing user 1\n",
      "parsing user 2\n",
      "parsing user 3\n",
      "\n"
     ]
    }
   ],
   "source": [
    "X_toy_s5_w3, y_s5_w3 = prepare_sparse_train_set_window(os.path.join(PATH_TO_DATA,'3users'), \n",
    "                                                       os.path.join(PATH_TO_DATA,'site_freq_3users.pkl'),\n",
    "                                       session_length=5, window_size=3)"
   ]
  },
  {
   "cell_type": "code",
   "execution_count": 6,
   "metadata": {
    "scrolled": true
   },
   "outputs": [
    {
     "data": {
      "text/plain": [
       "matrix([[0, 3, 1, 0, 0, 0, 0, 1, 0, 0, 0],\n",
       "        [1, 1, 0, 0, 1, 0, 0, 1, 0, 1, 0],\n",
       "        [0, 0, 1, 0, 1, 0, 1, 0, 1, 1, 0],\n",
       "        [3, 0, 1, 0, 0, 0, 0, 0, 1, 0, 0],\n",
       "        [2, 0, 0, 0, 0, 0, 0, 0, 0, 0, 0],\n",
       "        [0, 2, 1, 0, 0, 2, 0, 0, 0, 0, 0],\n",
       "        [0, 1, 0, 0, 0, 1, 0, 0, 0, 0, 0],\n",
       "        [2, 2, 0, 1, 0, 0, 0, 0, 0, 0, 0],\n",
       "        [3, 1, 0, 0, 1, 0, 0, 0, 0, 0, 0],\n",
       "        [1, 0, 0, 2, 1, 0, 0, 0, 0, 0, 1],\n",
       "        [1, 1, 0, 2, 0, 0, 0, 0, 0, 0, 0],\n",
       "        [0, 1, 0, 0, 0, 0, 0, 0, 0, 0, 0]], dtype=int32)"
      ]
     },
     "execution_count": 6,
     "metadata": {},
     "output_type": "execute_result"
    }
   ],
   "source": [
    "X_toy_s5_w3.todense()"
   ]
  },
  {
   "cell_type": "code",
   "execution_count": 13,
   "metadata": {},
   "outputs": [
    {
     "data": {
      "text/plain": [
       "12"
      ]
     },
     "execution_count": 13,
     "metadata": {},
     "output_type": "execute_result"
    }
   ],
   "source": []
  },
  {
   "cell_type": "code",
   "execution_count": 8,
   "metadata": {},
   "outputs": [
    {
     "data": {
      "text/plain": [
       "matrix([[0, 3, 1, 0, 0, 0, 1, 0, 0, 0, 0],\n",
       "        [1, 1, 0, 0, 1, 0, 1, 1, 0, 0, 0],\n",
       "        [0, 0, 1, 0, 1, 0, 0, 1, 1, 1, 0],\n",
       "        [3, 0, 1, 0, 0, 0, 0, 0, 0, 1, 0],\n",
       "        [2, 0, 0, 0, 0, 0, 0, 0, 0, 0, 0],\n",
       "        [0, 2, 1, 0, 0, 2, 0, 0, 0, 0, 0],\n",
       "        [0, 1, 0, 0, 0, 1, 0, 0, 0, 0, 0],\n",
       "        [2, 2, 0, 1, 0, 0, 0, 0, 0, 0, 0],\n",
       "        [3, 1, 0, 0, 1, 0, 0, 0, 0, 0, 0],\n",
       "        [1, 0, 0, 2, 1, 0, 0, 0, 0, 0, 1],\n",
       "        [1, 1, 0, 2, 0, 0, 0, 0, 0, 0, 0],\n",
       "        [0, 1, 0, 0, 0, 0, 0, 0, 0, 0, 0]])"
      ]
     },
     "execution_count": 8,
     "metadata": {},
     "output_type": "execute_result"
    }
   ],
   "source": [
    "X_toy_s5_w3.todense()"
   ]
  },
  {
   "cell_type": "code",
   "execution_count": 7,
   "metadata": {},
   "outputs": [
    {
     "data": {
      "text/plain": [
       "array([1, 1, 1, 1, 1, 2, 2, 3, 3, 3, 3, 3])"
      ]
     },
     "execution_count": 7,
     "metadata": {},
     "output_type": "execute_result"
    }
   ],
   "source": [
    "y_s5_w3"
   ]
  },
  {
   "cell_type": "code",
   "execution_count": 9,
   "metadata": {},
   "outputs": [
    {
     "data": {
      "text/plain": [
       "array([1, 1, 1, 1, 1, 2, 2, 3, 3, 3, 3, 3])"
      ]
     },
     "execution_count": 9,
     "metadata": {},
     "output_type": "execute_result"
    }
   ],
   "source": [
    "y_s5_w3"
   ]
  },
  {
   "cell_type": "markdown",
   "metadata": {},
   "source": [
    "**Запустите созданную функцию 16 раз с помощью циклов по числу пользователей num_users (10 или 150), значениям параметра *session_length* (15, 10, 7 или 5) и значениям параметра *window_size* (10, 7 или 5). Сериализуйте все 16 разреженных матриц (обучающие выборки) и векторов (метки целевого класса – ID пользователя) в файлы `X_sparse_{num_users}users_s{session_length}_w{window_size}.pkl` и `y_{num_users}users_s{session_length}_w{window_size}.pkl`.**\n",
    "\n",
    "**Чтоб убедиться, что мы все далее будем работать с идентичными объектами, запишите в список *data_lengths* число строк во всех полученных рареженных матрицах (16 значений). Если какие-то будут совпадать, это нормально (можно сообразить, почему).**\n",
    "\n",
    "**На моем ноутбуке этот участок кода отработал за 26 секунд, хотя понятно, что все зависит от эффективности реализации функции *prepare_sparse_train_set_window* и мощности используемого железа. И честно говоря, моя первая реализация была намного менее эффективной (34 минуты), так что тут у Вас есть возможность оптимизировать свой код.**"
   ]
  },
  {
   "cell_type": "code",
   "execution_count": 14,
   "metadata": {},
   "outputs": [
    {
     "data": {
      "application/vnd.jupyter.widget-view+json": {
       "model_id": "29a5f2f55d0140d9a44c13216dc45f39"
      }
     },
     "metadata": {},
     "output_type": "display_data"
    },
    {
     "name": "stdout",
     "output_type": "stream",
     "text": [
      "\n"
     ]
    },
    {
     "data": {
      "application/vnd.jupyter.widget-view+json": {
       "model_id": "86c760bc34e64b70976efcbaab1e1528"
      }
     },
     "metadata": {},
     "output_type": "display_data"
    },
    {
     "name": "stdout",
     "output_type": "stream",
     "text": [
      "\n"
     ]
    },
    {
     "data": {
      "application/vnd.jupyter.widget-view+json": {
       "model_id": "964e7ec08e334ca192de40c7693c1d18"
      }
     },
     "metadata": {},
     "output_type": "display_data"
    },
    {
     "name": "stdout",
     "output_type": "stream",
     "text": [
      "\n"
     ]
    },
    {
     "data": {
      "application/vnd.jupyter.widget-view+json": {
       "model_id": "6297d45298454625950efa9ed237fcd6"
      }
     },
     "metadata": {},
     "output_type": "display_data"
    },
    {
     "name": "stdout",
     "output_type": "stream",
     "text": [
      "\n"
     ]
    },
    {
     "data": {
      "application/vnd.jupyter.widget-view+json": {
       "model_id": "ed86d12f2b84430a96d74dff7fed6daf"
      }
     },
     "metadata": {},
     "output_type": "display_data"
    },
    {
     "name": "stdout",
     "output_type": "stream",
     "text": [
      "\n"
     ]
    },
    {
     "data": {
      "application/vnd.jupyter.widget-view+json": {
       "model_id": "6a03298dfc8f4e2c935084ab578753f5"
      }
     },
     "metadata": {},
     "output_type": "display_data"
    },
    {
     "name": "stdout",
     "output_type": "stream",
     "text": [
      "\n"
     ]
    },
    {
     "data": {
      "application/vnd.jupyter.widget-view+json": {
       "model_id": "227c626fdffb49cf98e0f7fcbaf6b390"
      }
     },
     "metadata": {},
     "output_type": "display_data"
    },
    {
     "name": "stdout",
     "output_type": "stream",
     "text": [
      "\n"
     ]
    },
    {
     "data": {
      "application/vnd.jupyter.widget-view+json": {
       "model_id": "187cda0b72ad43b785bb1d54d97066ef"
      }
     },
     "metadata": {},
     "output_type": "display_data"
    },
    {
     "name": "stdout",
     "output_type": "stream",
     "text": [
      "\n"
     ]
    },
    {
     "data": {
      "application/vnd.jupyter.widget-view+json": {
       "model_id": "8c062d3c363a49908a13cd6465fda41e"
      }
     },
     "metadata": {},
     "output_type": "display_data"
    },
    {
     "name": "stdout",
     "output_type": "stream",
     "text": [
      "\n"
     ]
    },
    {
     "data": {
      "application/vnd.jupyter.widget-view+json": {
       "model_id": "0d39c559a5794ef8be46b68c262397d8"
      }
     },
     "metadata": {},
     "output_type": "display_data"
    },
    {
     "name": "stdout",
     "output_type": "stream",
     "text": [
      "\n"
     ]
    },
    {
     "data": {
      "application/vnd.jupyter.widget-view+json": {
       "model_id": "076df15c3d664ef2b476db5c9fa9c4b8"
      }
     },
     "metadata": {},
     "output_type": "display_data"
    },
    {
     "name": "stdout",
     "output_type": "stream",
     "text": [
      "\n"
     ]
    },
    {
     "data": {
      "application/vnd.jupyter.widget-view+json": {
       "model_id": "2110185c282b4cca9f576f16a666e11c"
      }
     },
     "metadata": {},
     "output_type": "display_data"
    },
    {
     "name": "stdout",
     "output_type": "stream",
     "text": [
      "\n"
     ]
    },
    {
     "data": {
      "application/vnd.jupyter.widget-view+json": {
       "model_id": "950385e4bd7740839c56def05c4c0a21"
      }
     },
     "metadata": {},
     "output_type": "display_data"
    },
    {
     "name": "stdout",
     "output_type": "stream",
     "text": [
      "\n"
     ]
    },
    {
     "data": {
      "application/vnd.jupyter.widget-view+json": {
       "model_id": "7b6267bc5cd5487abb5183e0ba335804"
      }
     },
     "metadata": {},
     "output_type": "display_data"
    },
    {
     "name": "stdout",
     "output_type": "stream",
     "text": [
      "\n"
     ]
    },
    {
     "data": {
      "application/vnd.jupyter.widget-view+json": {
       "model_id": "b5e57373f85a4491a2e34a0a99e52015"
      }
     },
     "metadata": {},
     "output_type": "display_data"
    },
    {
     "name": "stdout",
     "output_type": "stream",
     "text": [
      "\n"
     ]
    },
    {
     "data": {
      "application/vnd.jupyter.widget-view+json": {
       "model_id": "d14f444749b7452c805f09fc255a9581"
      }
     },
     "metadata": {},
     "output_type": "display_data"
    },
    {
     "name": "stdout",
     "output_type": "stream",
     "text": [
      "\n",
      "Wall time: 1min 43s\n"
     ]
    }
   ],
   "source": [
    "%%time\n",
    "import itertools\n",
    "\n",
    "data_lengths = []\n",
    "\n",
    "for num_users in [10, 150]:\n",
    "    for window_size, session_length in itertools.product([10, 7, 5], [15, 10, 7, 5]):\n",
    "        if window_size <= session_length and (window_size, session_length) != (10, 10):\n",
    "            X_sparse, y = prepare_sparse_train_set_window(os.path.join(PATH_TO_DATA,'{}users'.format(str(num_users))), \n",
    "                                                       os.path.join(PATH_TO_DATA,'site_freq_{}users.pkl'.format(str(num_users))),\n",
    "                                       session_length=session_length, window_size=window_size)\n",
    "            data_lengths.append(X_sparse.shape[0])\n",
    "            with open(os.path.join(PATH_TO_DATA, 'X_sparse_{}users_s{}_w{}.pkl'.format(num_users,session_length,window_size)), 'wb') as X_pkl:\n",
    "                pickle.dump(X_sparse, X_pkl, protocol=2)\n",
    "            with open(os.path.join(PATH_TO_DATA, 'y_{}users_s{}_w{}.pkl'.format(num_users,session_length,window_size)), 'wb') as y_pkl:\n",
    "                pickle.dump(y, y_pkl, protocol=2)\n",
    "            "
   ]
  },
  {
   "cell_type": "markdown",
   "metadata": {},
   "source": [
    "**<font color='red'> Вопрос 1. </font>Сколько всего уникальных значений в списке `data_lengths`?**"
   ]
  },
  {
   "cell_type": "code",
   "execution_count": 17,
   "metadata": {},
   "outputs": [
    {
     "name": "stdout",
     "output_type": "stream",
     "text": [
      "[14061, 20087, 20087, 20087, 28118, 28118, 28118, 28118, 137019, 195712, 195712, 195712, 273957, 273957, 273957, 273957]\n"
     ]
    }
   ],
   "source": [
    "''' ВАШ КОД ЗДЕСЬ '''\n",
    "s = set(data_lengths)\n",
    "len(s)\n",
    "print(data_lengths)"
   ]
  },
  {
   "cell_type": "markdown",
   "metadata": {},
   "source": [
    "## Часть 2. Первичный анализ данных, проверка гипотез"
   ]
  },
  {
   "cell_type": "markdown",
   "metadata": {},
   "source": [
    "**Считаем в DataFrame подготовленный на 1 неделе файл `train_data_10users.csv`. Далее будем работать с ним.**"
   ]
  },
  {
   "cell_type": "code",
   "execution_count": 18,
   "metadata": {
    "collapsed": true
   },
   "outputs": [],
   "source": [
    "train_df = pd.read_csv(os.path.join(PATH_TO_DATA, 'train_data_10users.csv'), \n",
    "                       index_col='session_id')"
   ]
  },
  {
   "cell_type": "code",
   "execution_count": 19,
   "metadata": {},
   "outputs": [
    {
     "data": {
      "text/html": [
       "<div>\n",
       "<style>\n",
       "    .dataframe thead tr:only-child th {\n",
       "        text-align: right;\n",
       "    }\n",
       "\n",
       "    .dataframe thead th {\n",
       "        text-align: left;\n",
       "    }\n",
       "\n",
       "    .dataframe tbody tr th {\n",
       "        vertical-align: top;\n",
       "    }\n",
       "</style>\n",
       "<table border=\"1\" class=\"dataframe\">\n",
       "  <thead>\n",
       "    <tr style=\"text-align: right;\">\n",
       "      <th></th>\n",
       "      <th>site1</th>\n",
       "      <th>site2</th>\n",
       "      <th>site3</th>\n",
       "      <th>site4</th>\n",
       "      <th>site5</th>\n",
       "      <th>site6</th>\n",
       "      <th>site7</th>\n",
       "      <th>site8</th>\n",
       "      <th>site9</th>\n",
       "      <th>site10</th>\n",
       "      <th>user_id</th>\n",
       "    </tr>\n",
       "    <tr>\n",
       "      <th>session_id</th>\n",
       "      <th></th>\n",
       "      <th></th>\n",
       "      <th></th>\n",
       "      <th></th>\n",
       "      <th></th>\n",
       "      <th></th>\n",
       "      <th></th>\n",
       "      <th></th>\n",
       "      <th></th>\n",
       "      <th></th>\n",
       "      <th></th>\n",
       "    </tr>\n",
       "  </thead>\n",
       "  <tbody>\n",
       "    <tr>\n",
       "      <th>0</th>\n",
       "      <td>193</td>\n",
       "      <td>575</td>\n",
       "      <td>133</td>\n",
       "      <td>3</td>\n",
       "      <td>133</td>\n",
       "      <td>133</td>\n",
       "      <td>3</td>\n",
       "      <td>133</td>\n",
       "      <td>203</td>\n",
       "      <td>133</td>\n",
       "      <td>31</td>\n",
       "    </tr>\n",
       "    <tr>\n",
       "      <th>1</th>\n",
       "      <td>415</td>\n",
       "      <td>192</td>\n",
       "      <td>675</td>\n",
       "      <td>255</td>\n",
       "      <td>133</td>\n",
       "      <td>31</td>\n",
       "      <td>393</td>\n",
       "      <td>3543</td>\n",
       "      <td>217</td>\n",
       "      <td>55</td>\n",
       "      <td>31</td>\n",
       "    </tr>\n",
       "    <tr>\n",
       "      <th>2</th>\n",
       "      <td>55</td>\n",
       "      <td>3</td>\n",
       "      <td>55</td>\n",
       "      <td>55</td>\n",
       "      <td>5</td>\n",
       "      <td>293</td>\n",
       "      <td>415</td>\n",
       "      <td>333</td>\n",
       "      <td>900</td>\n",
       "      <td>55</td>\n",
       "      <td>31</td>\n",
       "    </tr>\n",
       "    <tr>\n",
       "      <th>3</th>\n",
       "      <td>473</td>\n",
       "      <td>3358</td>\n",
       "      <td>473</td>\n",
       "      <td>55</td>\n",
       "      <td>55</td>\n",
       "      <td>55</td>\n",
       "      <td>55</td>\n",
       "      <td>944</td>\n",
       "      <td>199</td>\n",
       "      <td>123</td>\n",
       "      <td>31</td>\n",
       "    </tr>\n",
       "    <tr>\n",
       "      <th>4</th>\n",
       "      <td>342</td>\n",
       "      <td>55</td>\n",
       "      <td>5</td>\n",
       "      <td>3307</td>\n",
       "      <td>258</td>\n",
       "      <td>211</td>\n",
       "      <td>3375</td>\n",
       "      <td>2088</td>\n",
       "      <td>674</td>\n",
       "      <td>2088</td>\n",
       "      <td>31</td>\n",
       "    </tr>\n",
       "  </tbody>\n",
       "</table>\n",
       "</div>"
      ],
      "text/plain": [
       "            site1  site2  site3  site4  site5  site6  site7  site8  site9  \\\n",
       "session_id                                                                  \n",
       "0             193    575    133      3    133    133      3    133    203   \n",
       "1             415    192    675    255    133     31    393   3543    217   \n",
       "2              55      3     55     55      5    293    415    333    900   \n",
       "3             473   3358    473     55     55     55     55    944    199   \n",
       "4             342     55      5   3307    258    211   3375   2088    674   \n",
       "\n",
       "            site10  user_id  \n",
       "session_id                   \n",
       "0              133       31  \n",
       "1               55       31  \n",
       "2               55       31  \n",
       "3              123       31  \n",
       "4             2088       31  "
      ]
     },
     "execution_count": 19,
     "metadata": {},
     "output_type": "execute_result"
    }
   ],
   "source": [
    "train_df.head()"
   ]
  },
  {
   "cell_type": "code",
   "execution_count": 20,
   "metadata": {},
   "outputs": [
    {
     "name": "stdout",
     "output_type": "stream",
     "text": [
      "<class 'pandas.core.frame.DataFrame'>\n",
      "Int64Index: 14061 entries, 0 to 14060\n",
      "Data columns (total 11 columns):\n",
      "site1      14061 non-null int64\n",
      "site2      14061 non-null int64\n",
      "site3      14061 non-null int64\n",
      "site4      14061 non-null int64\n",
      "site5      14061 non-null int64\n",
      "site6      14061 non-null int64\n",
      "site7      14061 non-null int64\n",
      "site8      14061 non-null int64\n",
      "site9      14061 non-null int64\n",
      "site10     14061 non-null int64\n",
      "user_id    14061 non-null int64\n",
      "dtypes: int64(11)\n",
      "memory usage: 1.3 MB\n"
     ]
    }
   ],
   "source": [
    "train_df.info()"
   ]
  },
  {
   "cell_type": "markdown",
   "metadata": {},
   "source": [
    "**Распределение целевого класса:**"
   ]
  },
  {
   "cell_type": "code",
   "execution_count": 21,
   "metadata": {},
   "outputs": [
    {
     "data": {
      "text/plain": [
       "128    2796\n",
       "39     2204\n",
       "207    1868\n",
       "127    1712\n",
       "237    1643\n",
       "33     1022\n",
       "50      802\n",
       "31      760\n",
       "100     720\n",
       "241     534\n",
       "Name: user_id, dtype: int64"
      ]
     },
     "execution_count": 21,
     "metadata": {},
     "output_type": "execute_result"
    }
   ],
   "source": [
    "train_df['user_id'].value_counts()"
   ]
  },
  {
   "cell_type": "markdown",
   "metadata": {},
   "source": [
    "**Посчитаем распределение числа уникальных сайтов в каждой сессии из 10 посещенных подряд сайтов.**"
   ]
  },
  {
   "cell_type": "code",
   "execution_count": 25,
   "metadata": {
    "collapsed": true
   },
   "outputs": [],
   "source": [
    "num_unique_sites = [np.unique(train_df.values[i, :-1]).shape[0] \n",
    "                    for i in range(train_df.shape[0])]"
   ]
  },
  {
   "cell_type": "code",
   "execution_count": 26,
   "metadata": {},
   "outputs": [
    {
     "data": {
      "text/plain": [
       "7     2308\n",
       "6     2197\n",
       "8     2046\n",
       "5     1735\n",
       "9     1394\n",
       "2     1246\n",
       "4     1163\n",
       "3      894\n",
       "10     651\n",
       "1      427\n",
       "dtype: int64"
      ]
     },
     "execution_count": 26,
     "metadata": {},
     "output_type": "execute_result"
    }
   ],
   "source": [
    "pd.Series(num_unique_sites).value_counts()"
   ]
  },
  {
   "cell_type": "code",
   "execution_count": 27,
   "metadata": {},
   "outputs": [
    {
     "data": {
      "image/png": "[encoded data removed]",
      "text/plain": [
       "<matplotlib.figure.Figure at 0xba59c18>"
      ]
     },
     "metadata": {},
     "output_type": "display_data"
    }
   ],
   "source": [
    "pd.Series(num_unique_sites).hist();"
   ]
  },
  {
   "cell_type": "markdown",
   "metadata": {},
   "source": [
    "**Проверьте с помощью QQ-плота и критерия Шапиро-Уилка, что эта величина распределена нормально**"
   ]
  },
  {
   "cell_type": "markdown",
   "metadata": {},
   "source": [
    "**<font color='red'> Вопрос 2. </font>Распределено ли нормально число уникальных сайтов в каждой сессии из 10 посещенных подряд сайтов (согласно критерию Шапиро-Уилка)?**"
   ]
  },
  {
   "cell_type": "code",
   "execution_count": 43,
   "metadata": {},
   "outputs": [
    {
     "name": "stdout",
     "output_type": "stream",
     "text": [
      "(0.9546933174133301, 0.0)\n"
     ]
    },
    {
     "data": {
      "text/plain": [
       "((array([-3.89403843, -3.6734386 , -3.55253248, ...,  3.55253248,\n",
       "          3.6734386 ,  3.89403843]), array([ 1,  1,  1, ..., 10, 10, 10])),\n",
       " (2.3087399107781494, 5.9519237607567019, 0.97707870395520724))"
      ]
     },
     "execution_count": 43,
     "metadata": {},
     "output_type": "execute_result"
    },
    {
     "data": {
      "image/png": "[encoded data removed]",
      "text/plain": [
       "<matplotlib.figure.Figure at 0x14cfe668>"
      ]
     },
     "metadata": {},
     "output_type": "display_data"
    }
   ],
   "source": [
    "''' ВАШ КОД ЗДЕСЬ '''\n",
    "print(stats.shapiro(num_unique_sites))\n",
    "\n",
    "\n",
    "import seaborn as sns\n",
    "from scipy.stats import norm\n",
    "\n",
    "stats.probplot(num_unique_sites, dist=\"norm\", plot=plt)"
   ]
  },
  {
   "cell_type": "markdown",
   "metadata": {},
   "source": [
    "**Проверьте гипотезу о том, что пользователь хотя бы раз зайдет на сайт, который он уже ранее посетил в сессии из 10 сайтов. Давайте проверим с помощью биномиального критерия для доли, что доля случаев, когда пользователь повторно посетил какой-то сайт (то есть число уникальных сайтов в сессии < 10) велика: больше 95% (обратите внимание, что альтернатива тому, что доля равна 95% –  одностороняя). Ответом на 3 вопрос в тесте будет полученное p-value.**"
   ]
  },
  {
   "cell_type": "markdown",
   "metadata": {},
   "source": [
    "**<font color='red'> Вопрос 3. </font>Каково p-value при проверке описанной гипотезы?**"
   ]
  },
  {
   "cell_type": "code",
   "execution_count": null,
   "metadata": {},
   "outputs": [],
   "source": []
  },
  {
   "cell_type": "code",
   "execution_count": 56,
   "metadata": {
    "collapsed": true
   },
   "outputs": [],
   "source": [
    "has_two_similar = (np.array(num_unique_sites) < 10).astype('int')"
   ]
  },
  {
   "cell_type": "code",
   "execution_count": 65,
   "metadata": {},
   "outputs": [
    {
     "name": "stdout",
     "output_type": "stream",
     "text": [
      "13410\n",
      "14061\n",
      "0.022\n"
     ]
    }
   ],
   "source": [
    "print(sum(has_two_similar))\n",
    "print(len(num_unique_sites))\n",
    "pi_val = stats.binom_test(sum(has_two_similar), len(num_unique_sites), 0.95, alternative='greater')  \n",
    "print(\"%.3f\" % pi_val)"
   ]
  },
  {
   "cell_type": "markdown",
   "metadata": {},
   "source": [
    "**<font color='red'> Вопрос 4. </font>Каков 95% доверительный интервал Уилсона для доли случаев, когда пользователь повторно посетил какой-то сайт (из п. 3)?**"
   ]
  },
  {
   "cell_type": "code",
   "execution_count": 69,
   "metadata": {},
   "outputs": [],
   "source": [
    "wilson_interval = proportion_confint(sum(has_two_similar), len(has_two_similar), method='wilson')"
   ]
  },
  {
   "cell_type": "code",
   "execution_count": null,
   "metadata": {
    "collapsed": true
   },
   "outputs": [],
   "source": [
    "wilson_interval = proportion_confint"
   ]
  },
  {
   "cell_type": "code",
   "execution_count": 70,
   "metadata": {},
   "outputs": [
    {
     "name": "stdout",
     "output_type": "stream",
     "text": [
      "0.95 0.957\n"
     ]
    }
   ],
   "source": [
    "print('{} {}'.format(round(wilson_interval[0], 3),\n",
    "                                   round(wilson_interval[1], 3)))"
   ]
  },
  {
   "cell_type": "markdown",
   "metadata": {},
   "source": [
    "**Постройте распределение частоты посещения сайтов (сколько раз тот или иной сайт попадается в выборке) для сайтов, которые были посещены как минимум 1000 раз.**"
   ]
  },
  {
   "cell_type": "code",
   "execution_count": 73,
   "metadata": {},
   "outputs": [],
   "source": [
    "site_freqs = pickle.load(open(os.path.join(PATH_TO_DATA, 'site_freq_10users.pkl'), \"rb\"))"
   ]
  },
  {
   "cell_type": "code",
   "execution_count": 84,
   "metadata": {},
   "outputs": [],
   "source": [
    "# ''' ВАШ КОД ЗДЕСЬ '''\n",
    "top_sites = {k: v for k, v in site_freqs.items() if v[1] >= 1000}"
   ]
  },
  {
   "cell_type": "code",
   "execution_count": 85,
   "metadata": {},
   "outputs": [
    {
     "data": {
      "text/plain": [
       "{'accounts.google.com': (10, 2089),\n",
       " 'accounts.youtube.com': (21, 1057),\n",
       " 'apis.google.com': (6, 3758),\n",
       " 'clients1.google.com': (15, 1493),\n",
       " 'clients6.google.com': (24, 1039),\n",
       " 'download.jboss.org': (16, 1441),\n",
       " 'fr-mg42.mail.yahoo.com': (12, 1868),\n",
       " 'i1.ytimg.com': (19, 1232),\n",
       " 'mail.google.com': (4, 4158),\n",
       " 'platform.twitter.com': (22, 1041),\n",
       " 'plus.google.com': (9, 2630),\n",
       " 'r1---sn-gxo5uxg-jqbe.googlevideo.com': (8, 3094),\n",
       " 'r2---sn-gxo5uxg-jqbe.googlevideo.com': (11, 1939),\n",
       " 'r3---sn-gxo5uxg-jqbe.googlevideo.com': (7, 3244),\n",
       " 'r4---sn-gxo5uxg-jqbe.googlevideo.com': (14, 1702),\n",
       " 's-static.ak.facebook.com': (17, 1388),\n",
       " 's.youtube.com': (1, 8300),\n",
       " 'safebrowsing-cache.google.com': (23, 1039),\n",
       " 'static.ak.facebook.com': (18, 1265),\n",
       " 'translate.google.fr': (25, 1002),\n",
       " 'twitter.com': (20, 1204),\n",
       " 'www.facebook.com': (5, 4141),\n",
       " 'www.google.com': (3, 5441),\n",
       " 'www.google.fr': (2, 7813),\n",
       " 'www.youtube.com': (13, 1804)}"
      ]
     },
     "execution_count": 85,
     "metadata": {},
     "output_type": "execute_result"
    }
   ],
   "source": [
    "top_sites"
   ]
  },
  {
   "cell_type": "markdown",
   "metadata": {},
   "source": [
    "**Постройте 95% доверительный интервал для средней частоты появления сайта в выборке (во всей, уже не только для тех сайтов, что были посещены как минимум 1000 раз) на основе bootstrap. Используйте столько же bootstrap-подвыборок, сколько сайтов оказалось в исходной выборке по 10 пользователям. Берите подвыборки из посчитанного списка частот посещений сайтов – не надо заново считать эти частоты. Учтите, что частоту появления нуля (сайт с индексом 0 появлялся там, где сессии были короче 10 сайтов) включать не надо. Округлите границы интервала до 3 знаков после запятой и запишите через пробел в файл *answer2_5.txt*. Это будет ответом на 5 вопрос теста.**"
   ]
  },
  {
   "cell_type": "markdown",
   "metadata": {},
   "source": [
    "**<font color='red'> Вопрос 5. </font>Каков 95% доверительный интервал для средней частоты появления сайта в выборке?**"
   ]
  },
  {
   "cell_type": "code",
   "execution_count": 104,
   "metadata": {
    "collapsed": true
   },
   "outputs": [],
   "source": [
    "def get_bootstrap_samples(data, n_samples, random_seed=17):\n",
    "    np.random.seed(random_seed)\n",
    "    indices = np.random.randint(0, len(data), (n_samples, len(data)))\n",
    "    samples = data[indices]\n",
    "    return samples"
   ]
  },
  {
   "cell_type": "code",
   "execution_count": 105,
   "metadata": {
    "collapsed": true
   },
   "outputs": [],
   "source": [
    "def stat_intervals(stat, alpha):\n",
    "    boundaries = np.percentile(stat, \n",
    "                 [100 * alpha / 2., 100 * (1 - alpha / 2.)])\n",
    "    return boundaries"
   ]
  },
  {
   "cell_type": "code",
   "execution_count": 139,
   "metadata": {},
   "outputs": [
    {
     "name": "stdout",
     "output_type": "stream",
     "text": [
      "[ 22.36116426  35.83403216]\n"
     ]
    }
   ],
   "source": [
    "freqs_only = [v[1] for k,v in site_freqs.items()]\n",
    "scores = list(map(np.mean, get_bootstrap_samples(np.asarray(freqs_only), len(freqs_only))))\n",
    "print(stat_intervals(scores, 0.05))"
   ]
  },
  {
   "cell_type": "code",
   "execution_count": 140,
   "metadata": {},
   "outputs": [],
   "source": [
    "ft = get_bootstrap_samples(np.asarray(freqs_only), len(freqs_only))\n",
    "# print(pd.Series(ft[0]).value_counts())\n",
    "# print(pd.Series(ft[1]).value_counts())\n",
    "# print(ft[1].value_counts())"
   ]
  },
  {
   "cell_type": "code",
   "execution_count": 123,
   "metadata": {},
   "outputs": [
    {
     "data": {
      "text/plain": [
       "['webmail.laposte.net',\n",
       " 'plus.google.com',\n",
       " 'live.lemde.fr',\n",
       " 'www.google.com',\n",
       " 'www.google.fr',\n",
       " 'apis.google.com',\n",
       " 'mail.google.com',\n",
       " 'www.facebook.com',\n",
       " 'av.mediapostcommunication.net',\n",
       " 'www.laposte.net',\n",
       " 'fr.massivetriviaquiz.com',\n",
       " 'clients1.google.com',\n",
       " '160.92.123.193',\n",
       " 'www.lequipe.fr',\n",
       " 'safebrowsing-cache.google.com',\n",
       " 'ws.mediapostcommunication.net',\n",
       " 'accounts.google.com',\n",
       " 'rs.mediapostcommunication.net',\n",
       " 's-static.ak.facebook.com',\n",
       " 'news.google.fr',\n",
       " 'twitter.com',\n",
       " 'static.ak.facebook.com',\n",
       " 'www.youtube.com',\n",
       " 'cloudfront.cedexis.com',\n",
       " 'ajax.googleapis.com',\n",
       " 'static.s-sfr.fr',\n",
       " 'www.journaldesfemmes.com',\n",
       " 'hal9000.redintelligence.net',\n",
       " 'safebrowsing.clients.google.com',\n",
       " 'probe.cedexis.org',\n",
       " 'platform.twitter.com',\n",
       " 'level3.cedexis.com',\n",
       " 'limelight.cedexis.com',\n",
       " 'pixel.alephd.com',\n",
       " 'banniere.reussissonsensemble.fr',\n",
       " 'bits.wikimedia.org',\n",
       " 'www.sfr.fr',\n",
       " 'medias.lequipe.fr',\n",
       " 'static.lequipe.fr',\n",
       " 'api.dailymotion.com',\n",
       " 'i1.ytimg.com',\n",
       " 'armmf.adobe.com',\n",
       " 'clients1.google.fr',\n",
       " 'clients2.google.com',\n",
       " 'chatenabled.mail.google.com',\n",
       " 's.ytimg.com',\n",
       " 's1.lemde.fr',\n",
       " 'clients6.google.com',\n",
       " 'www.linkedin.com',\n",
       " 'messagerie-11.sfr.fr',\n",
       " 'netdna.cedexis.com',\n",
       " 'fr.wikipedia.org',\n",
       " 'www.dailymotion.com',\n",
       " 'bitgravity.cedexis.com',\n",
       " 's.videostep.com',\n",
       " 'www.lerugbynistere.fr',\n",
       " 'its.tradelab.fr',\n",
       " 'pixel2368.everesttech.net',\n",
       " 'fastly.bench.cedexis.com',\n",
       " 'ocsp.digicert.com',\n",
       " 'javadl-esd-secure.oracle.com',\n",
       " 'widget.achetezfacile.com',\n",
       " 'r4---sn-gxo5uxg-jqbe.googlevideo.com',\n",
       " 'rp.gwallet.com',\n",
       " 'msc2.s-sfr.fr',\n",
       " 'meta.wikimedia.org',\n",
       " 'x2.vindicosuite.com',\n",
       " 'laposte.net',\n",
       " 'accounts.youtube.com',\n",
       " 'ocsp.thawte.com',\n",
       " 'ieonline.microsoft.com',\n",
       " 's.youtube.com',\n",
       " 'ocsp.usertrust.com',\n",
       " 'drive.google.com',\n",
       " 'gtssl-ocsp.geotrust.com',\n",
       " 'netstorage.lequipe.fr',\n",
       " 'connect.facebook.net',\n",
       " 'www.annuaire.com',\n",
       " 'sa.kewego.com',\n",
       " 'match.rtbidder.net',\n",
       " 'accounts.google.fr',\n",
       " 'um.simpli.fi',\n",
       " 'www.geneanet.org',\n",
       " 'evt.adrcntr.com',\n",
       " 'rubicon-match.dotomi.com',\n",
       " 'www.lemonde.fr',\n",
       " 'gtglobal-ocsp.geotrust.com',\n",
       " 'fastly.bench.cedexis.com.global.prod.fastly.net',\n",
       " 'chinacache.cedexis.com',\n",
       " 'onapp.cedexis.com',\n",
       " 'ec2-us-west-2a.cedexis.com',\n",
       " 'ocsp.verisign.com',\n",
       " 'www.europe1.fr',\n",
       " 'i.htfacile.fr',\n",
       " 'static.geneanet.org',\n",
       " 'www.t2c.fr',\n",
       " 'ta.kewego.com',\n",
       " 'pr.ybp.yahoo.com',\n",
       " 'eu-ams1.joyent.bench.cedexis.com',\n",
       " 'messagerie-13.sfr.fr',\n",
       " 'rbp.mxptint.net',\n",
       " 'fpdownload2.macromedia.com',\n",
       " 'www.developpez.net',\n",
       " 'ec2-ap-northeast-1a.cedexis.com',\n",
       " 'fastlydsa.bench.cedexis.com',\n",
       " 'msc1.s-sfr.fr',\n",
       " 'b12.myspace.com',\n",
       " 'www.wat.tv',\n",
       " 'cedexis.cachefly.net',\n",
       " 'cedexis-test01.insnw.net',\n",
       " 'ak.c.ooyala.com',\n",
       " 'login.wikimedia.org',\n",
       " 'aws-ap-southeast-2a.bench.cedexis.com',\n",
       " 'messagerie-12.sfr.fr',\n",
       " 'yt3.ggpht.com',\n",
       " 'www.bing.com',\n",
       " 'sfr.cedexis.com',\n",
       " 'widgets.pinterest.com',\n",
       " 'api.adyoulike.com',\n",
       " 'ec2-eu-west-1a.cedexis.com',\n",
       " 'cache.20minutes.fr',\n",
       " 'static.videostep.com',\n",
       " 'eulerian.sarenza.com',\n",
       " 'ce.lijit.com',\n",
       " 'llnwop.cedexis.com',\n",
       " 's1.libe.com',\n",
       " 'www.ultimedia.com',\n",
       " 'c1.adform.net',\n",
       " 'static.ccmbg.com',\n",
       " 'perpetuo-onl.basilic.io',\n",
       " 'ad.publicidees.com',\n",
       " 'us-west1.joyent.bench.cedexis.com',\n",
       " 'pool-eu-ie.creative-serving.com',\n",
       " 'player.mediabong.com',\n",
       " 'plus.googleapis.com',\n",
       " 'foglio.basilic.io',\n",
       " 'evsecure-ocsp.verisign.com',\n",
       " 'images.yves-rocher.fr',\n",
       " 'datayr.yves-rocher.fr',\n",
       " 'www.lesechos.fr',\n",
       " 'metrics.sfr.fr',\n",
       " 'choices.truste.com',\n",
       " 'ocsp.tcs.terena.org',\n",
       " 'pub.geneanet.org',\n",
       " 'cdn-ovh1.lequipe.fr',\n",
       " 'ec2-us-east-1a.cedexis.com',\n",
       " 'static.ccm2.net',\n",
       " 'platdupied.com',\n",
       " 'static.mediabong.com',\n",
       " 'maps.googleapis.com',\n",
       " 'platform.linkedin.com',\n",
       " 'gce-us-central1-a.bench.cedexis.com',\n",
       " 'fr.ad4mat.net',\n",
       " 'login.live.com',\n",
       " 'ocsp.entrust.net',\n",
       " 'www.play3-live.com',\n",
       " 's1.s-sfr.fr',\n",
       " 'api.bing.com',\n",
       " 'iad.rackspace.bench.cedexis.com',\n",
       " 'apnx-match.dotomi.com',\n",
       " 'boutique-online.orange.fr',\n",
       " 'www.goodsites.fr',\n",
       " 'ox-d.adventuremediaglobal.com',\n",
       " 'js.microsoft.com',\n",
       " 'us-sw1.joyent.bench.cedexis.com',\n",
       " 'akamai.cedexis.com',\n",
       " 'eultech.fnac.com',\n",
       " 'od2.visiblemeasures.com',\n",
       " 'www.magicdrafting.com',\n",
       " 'ba.linternaute.com',\n",
       " 'google.fr',\n",
       " 'res2.windows.microsoft.com',\n",
       " 'aspserveur.bench.cedexis.com',\n",
       " 'ocsp.gandi.net',\n",
       " 'www.france24.com',\n",
       " 'ocsp.comodoca.com',\n",
       " 'gatherer.wizards.com',\n",
       " 'www.oracle.com',\n",
       " 'copainsdavant.linternaute.com',\n",
       " 'kweb.videostep.com',\n",
       " 'windows.microsoft.com',\n",
       " 's2.s-sfr.fr',\n",
       " 'ec2-sa-east-1a.cedexis.com',\n",
       " 'us-east1.joyent.bench.cedexis.com',\n",
       " 'cdn2.lequipe.fr',\n",
       " 'mm.eulerian.net',\n",
       " 'lon.rackspace.bench.cedexis.com',\n",
       " 'eulerian.canal-plus.com',\n",
       " 'zor.fyre.co',\n",
       " 'limos.raksmey.fr',\n",
       " 'videosfr.s3.amazonaws.com',\n",
       " 'gg.google.com',\n",
       " 'cimg.leguide.com',\n",
       " 'com-sfr.netmng.com',\n",
       " 'res1.windows.microsoft.com',\n",
       " 'rapidssl-ocsp.geotrust.com',\n",
       " 'www.critique-film.fr',\n",
       " 'media.wizards.com',\n",
       " 'pics.2012.lesechos.com',\n",
       " 'ea.numericable.fr',\n",
       " 'cshoppingbox.partner.leguide.com',\n",
       " 'ec2-us-west-1a.cedexis.com',\n",
       " 'transact-can.cedexis.com',\n",
       " 'cdnjs.cloudflare.com',\n",
       " 'javadl-esd.sun.com',\n",
       " 'adventori.com',\n",
       " 'w.sharethis.com',\n",
       " 'edgecast-adn.cedexis.com',\n",
       " 'photo.europe1.fr',\n",
       " 'fr-mg42.mail.yahoo.com',\n",
       " 'www.gamehdwall.com',\n",
       " 'u.videostep.com',\n",
       " 'cloudfront-dsa.cedexis.com',\n",
       " 'www.zdnet.fr',\n",
       " '0.gravatar.com',\n",
       " 'jserror.newrelic.com',\n",
       " 'static.gamergen.com',\n",
       " 'goodsites.kazeo.com',\n",
       " 'dsaorigin.cedexis.com',\n",
       " 'gb2.cedexis.swiftserve.com',\n",
       " 'ak-w3.c.ooyala.com',\n",
       " 'ba.commentcamarche.net',\n",
       " 'd6qn74q940.s.ad6media.fr',\n",
       " 'publi.lemonde.fr',\n",
       " 'trp.numergy.bench.cedexis.com',\n",
       " 'dtm.ccs.com',\n",
       " 'code.jquery.com',\n",
       " 'deliv.leboncoin.fr',\n",
       " 'www.commentcamarche.net',\n",
       " 'audience.visiblemeasures.com',\n",
       " 'endor.mediabong.com',\n",
       " 'login.yahoo.com',\n",
       " 'www.priceminister.com',\n",
       " 'cntr.adrcntr.com',\n",
       " 'paris.veepee.bench.cedexis.com',\n",
       " 'sin.savvis.bench.cedexis.com',\n",
       " 'i.ytimg.com',\n",
       " 'sjc.sl.bench.cedexis.com',\n",
       " 'logger-02.vty.dailymotion.com',\n",
       " 'a.nonstoppartner.net',\n",
       " 'illiweb.com',\n",
       " 'www.gamergen.com',\n",
       " 'mfr.meteofrance.com',\n",
       " 'semantiweb.appspot.com',\n",
       " 'www.linternaute.com',\n",
       " 'www.ibm.com',\n",
       " 'dynamic2.cedexis.com',\n",
       " 'img1.blogblog.com',\n",
       " 'tc.airfrance.com',\n",
       " 'dub130.mail.live.com',\n",
       " 'www.mathworks.fr',\n",
       " 'r3---sn-gxo5uxg-jqbe.googlevideo.com',\n",
       " 'www.capeutservir.com',\n",
       " 'info.sfr.fr',\n",
       " 's.tf1.fr',\n",
       " 'ovkcetdsmk.s.ad6media.fr',\n",
       " 'messagerie.sfr.fr',\n",
       " 'h.live.com',\n",
       " 'radar.cedexis.swiftserve.com',\n",
       " 'en.wikibooks.org',\n",
       " 'www.mots-croises.ch',\n",
       " 'dl.javafx.com',\n",
       " 's5.scribdassets.com',\n",
       " 'dbe.linternaute.com',\n",
       " 'images.orangepublicite.fr',\n",
       " 'korriban.mediabong.com',\n",
       " 'playout.3qsdn.com',\n",
       " 'www.math.univ-paris13.fr',\n",
       " 'www.ladepeche.fr',\n",
       " 'redir.adbutter.net',\n",
       " 'ea.smartbox.com',\n",
       " 'transp-or.epfl.ch',\n",
       " 'sin.sl.bench.cedexis.com',\n",
       " 'ucs.query.yahoo.com',\n",
       " 's2.wp.com',\n",
       " 'm.sfr.fr',\n",
       " 'static.groupon.fr',\n",
       " 'r.ccmbg.com',\n",
       " 'limelightperf.cedexis.com',\n",
       " 'images.eveiletjeux.net',\n",
       " 'www.kazeo.com',\n",
       " 'lh4.ggpht.com',\n",
       " 'cpm1.affiz.net',\n",
       " 'docs.google.com',\n",
       " 's.srvntrk.com',\n",
       " 'tempsreel.nouvelobs.com',\n",
       " 'd1m6l9dfulcyw7.cloudfront.net',\n",
       " 'go.microsoft.com',\n",
       " 'www.vbalink.info',\n",
       " 'apex.oracle.com',\n",
       " 'image.jeuxvideo.com',\n",
       " 's2.lemde.fr',\n",
       " 'd2xgf76oeu9pbh.cloudfront.net',\n",
       " 'www.yahoo.com',\n",
       " 'style2.ad6.fr',\n",
       " 'cdx.selectel.ru',\n",
       " 's.kewego.com',\n",
       " 'ebc.linternaute.com',\n",
       " 'dc13.s233.meetrics.net',\n",
       " 'ocsp.godaddy.com',\n",
       " 'gmail.com',\n",
       " 'static-tv.s-sfr.fr',\n",
       " 'denver.viawest.bench.cedexis.com',\n",
       " 'lci.tf1.fr',\n",
       " 'dc1w54.wysistat.com',\n",
       " 'csm2waycm-atl.netmng.com',\n",
       " 'ams.sl.bench.cedexis.com',\n",
       " 'flux.liberation.fr',\n",
       " 'fr.openclassrooms.com',\n",
       " 'eea.linternaute.com',\n",
       " 'aruba-it.bench.cedexis.com',\n",
       " 'dc14.s233.meetrics.net',\n",
       " 'espace-client.sfr.fr',\n",
       " 'fac.linternaute.com',\n",
       " 'dl.patchbeam.com',\n",
       " 'clicks.beap.bc.yahoo.com',\n",
       " 'cdx1.ecritel.bench.cedexis.com',\n",
       " 'video.mediabong.com',\n",
       " 'slpubmedias.tf1.fr',\n",
       " 'dtm.gap.com',\n",
       " 'www.poker-actu.fr',\n",
       " 'listener.ezakus.net',\n",
       " 'dce.linternaute.com',\n",
       " 'azionusa.cedexis.com',\n",
       " 'sita-sin.bench.cedexis.com',\n",
       " 'syndication.twitter.com',\n",
       " 'www.tf1.fr',\n",
       " 'cca.linternaute.com',\n",
       " 'zoonek2.free.fr',\n",
       " 'referentiel.nouvelobs.com',\n",
       " 'efa.linternaute.com',\n",
       " 'u25ginzswq.s.ad6media.fr',\n",
       " 'www.scribd.com',\n",
       " 'image-uniservice.copainsdavant.com',\n",
       " 'edc.linternaute.com',\n",
       " 'eff.linternaute.com',\n",
       " 'b.mail.google.com',\n",
       " 'sita-fra.bench.cedexis.com',\n",
       " 'us-request.foxitservice.com',\n",
       " 'www.jeuxvideo.com',\n",
       " 'sfr-messagerie.services.sfr.fr',\n",
       " 'media.cyrillus.fr',\n",
       " 'premium.hi-mediaserver.com',\n",
       " 'pics.lesechos.com',\n",
       " 'www.hatingmyjob.com',\n",
       " 'ajax.microsoft.com',\n",
       " 's6.scribdassets.com',\n",
       " 'vap2iad1.lijit.com',\n",
       " 'thumbp5-ir2.mail.yahoo.com',\n",
       " 'slc.viawest.bench.cedexis.com',\n",
       " 'club-video.sfr.fr',\n",
       " 'sb-ssl.google.com',\n",
       " 'kwebstat.videostep.com',\n",
       " 'geo.mozilla.org',\n",
       " 'armdl.adobe.com',\n",
       " 'emailretargeting.com',\n",
       " 'www.finaland.com',\n",
       " 'betas0.libe.com',\n",
       " 'www.prizee.com',\n",
       " 'trk.adbutter.net',\n",
       " 'dtm.pacsun.com',\n",
       " 'tag.webcompteur.com',\n",
       " 'casale-match.dotomi.com',\n",
       " 'vnx.numergy.bench.cedexis.com',\n",
       " 'audience.netavenir.com',\n",
       " 'us-mg42.mail.yahoo.com',\n",
       " 'ba.journaldesfemmes.com',\n",
       " 'maps.google.com',\n",
       " 'cm.adgrx.com',\n",
       " 'pascalafourcade.free.fr',\n",
       " 'banner.nonstoppartner.net',\n",
       " 'bourse.lesechos.fr',\n",
       " 's0.wp.com',\n",
       " 'cbl.linternaute.com',\n",
       " 'www.mathworks.com',\n",
       " 'avatars.fyre.co',\n",
       " 'r2---sn-gxo5uxg-jqbe.googlevideo.com',\n",
       " 'ea.pixmania.fr',\n",
       " 'js.live.net',\n",
       " 'fr.yahoo.com',\n",
       " 'video.jeuxvideo.com',\n",
       " 'www.eficiens-serving.com',\n",
       " 'cbv.sfr.bench.cedexis.com',\n",
       " 'htmlimg2.scribdassets.com',\n",
       " 'iad1.rackspace.bench.cedexis.com',\n",
       " 'lequipe.fr',\n",
       " 'gdata.youtube.com',\n",
       " 'pings.conviva.com',\n",
       " 'img.s-sfr.fr',\n",
       " 'i3.msdn.microsoft.com',\n",
       " 'media.kpsule.me',\n",
       " 'windowslive.tt.omtrdc.net',\n",
       " 'statistiques.forumpro.fr',\n",
       " 'r.ccm2.net',\n",
       " 'val.cloudwatt.bench.cedexis.com',\n",
       " 'www.mozilla.org',\n",
       " 'level3-vip.cedexis.com',\n",
       " 'eu.square-enix.com',\n",
       " 'www.conforama.fr',\n",
       " 'assistance.sfr.fr',\n",
       " 'afc.linternaute.com',\n",
       " 'livepassdl.conviva.com',\n",
       " 'video.premiere.fr',\n",
       " 'global-loc.mediagen.fr',\n",
       " 'hkg.rackspace.bench.cedexis.com',\n",
       " 'img2.blogblog.com',\n",
       " 'zor.livefyre.com',\n",
       " 'team.newsweb.fr',\n",
       " 'hitcount.liberation.fr',\n",
       " 'dtm.footlocker.com',\n",
       " 'bae.linternaute.com',\n",
       " 'pbs.twimg.com',\n",
       " 'mono.vizu.com',\n",
       " 'boutique.linternaute.com',\n",
       " 'jeux-tv.sfr.fr',\n",
       " 'i4.ytimg.com',\n",
       " 'adgallery.zenfs.com',\n",
       " 'static1.shopoon.fr',\n",
       " '4wa5x9fgbp.b.ad6media.fr',\n",
       " 'evintl-ocsp.verisign.com',\n",
       " 'md0.libe.com',\n",
       " 'www.googleapis.com',\n",
       " 'cms.abmr.net',\n",
       " 'telecharger.musique.sfr.fr',\n",
       " 'de.aruba.bench.cedexis.com',\n",
       " 'kh6qrx0f8h.s.ad6media.fr',\n",
       " 'www.blogger.com',\n",
       " 'creative.stayfriends.de',\n",
       " 'ovh-canada.bench.cedexis.com',\n",
       " 'scd.france24.com',\n",
       " 'google.ezakus.net',\n",
       " 'oracle.padiact.com',\n",
       " 'v2.m.sfr.fr',\n",
       " 'dff.linternaute.com',\n",
       " 'pmu.eficiens-serving.com',\n",
       " 'media.conforama.fr',\n",
       " 'romgbafr.blogspot.fr',\n",
       " 'edge.sharethis.com',\n",
       " 'cdn2.tagcommander.com',\n",
       " 'www.liberation.fr',\n",
       " 'futpsw.sfr.fr',\n",
       " 'www.eficiens-serving2.com',\n",
       " 'image-parcours.copainsdavant.com',\n",
       " 'ak-g-ssl.c.ooyala.com',\n",
       " 'md1.libe.com',\n",
       " 'www.20minutes.fr',\n",
       " 'static2.canalplus.fr',\n",
       " 'eed.linternaute.com',\n",
       " 'mpp2.vindicosuite.com',\n",
       " 'romgbafr.blogspot.com',\n",
       " 'apr.lijit.com',\n",
       " 'aruba-cz.bench.cedexis.com',\n",
       " '1.www.s81c.com',\n",
       " 'id.google.fr',\n",
       " 'socialprofiles.zenfs.com',\n",
       " 'addons.foxitsoftware.com',\n",
       " 'aff.sportsevents365.com',\n",
       " 'dtm.thingsremembered.com',\n",
       " 'www.lamsade.dauphine.fr',\n",
       " 'www.dlcompare.fr',\n",
       " 'aff.linternaute.com',\n",
       " '3g.sfr.fr',\n",
       " 'test-int-billing.funinfo.sfr.fr',\n",
       " 'i1-js-14-3-01-11074-25651477-i.init.cedexis-radar.net',\n",
       " 'i1-js-14-3-01-11074-306404983-i.init.cedexis-radar.net',\n",
       " 's3.amazonaws.com',\n",
       " 'i1-js-14-3-01-11074-6523513-i.init.cedexis-radar.net',\n",
       " 'www.pagerank.fr',\n",
       " 'evsecure-ocsp.thawte.com',\n",
       " 'media5.cadeaux.com',\n",
       " 'static.publi.fr',\n",
       " 'msdn.microsoft.com',\n",
       " 'www.hotmail.fr',\n",
       " 'i1-js-14-3-01-11074-695866183-i.init.cedexis-radar.net',\n",
       " 'i1-js-14-3-01-11074-772422558-i.init.cedexis-radar.net',\n",
       " 'fr.youtube.com',\n",
       " 'cdn01.smartling.com',\n",
       " 'r15.imgfast.net',\n",
       " 'i1-js-14-3-01-11074-549991259-i.init.cedexis-radar.net',\n",
       " 'i1-js-14-3-01-11074-959107750-i.init.cedexis-radar.net',\n",
       " 'sharetv.com',\n",
       " 'i1-js-14-3-01-11074-632784594-i.init.cedexis-radar.net',\n",
       " 'iml.univ-mrs.fr',\n",
       " 'badge.facebook.com',\n",
       " 'i1-js-14-3-01-11074-883988031-i.init.cedexis-radar.net',\n",
       " 'pt200204.unica.com',\n",
       " 'i1-js-14-3-01-11074-22618078-i.init.cedexis-radar.net',\n",
       " 'i1-js-14-3-01-11074-788009018-i.init.cedexis-radar.net',\n",
       " 's.wat.tv',\n",
       " 'i2.msdn.microsoft.com',\n",
       " 'www.youtube-nocookie.com',\n",
       " 'et.eulerian.net',\n",
       " 'i1-js-14-3-01-11074-257628557-i.init.cedexis-radar.net',\n",
       " 'i1-js-14-3-01-11074-657065464-i.init.cedexis-radar.net',\n",
       " 'api.tf1.fr',\n",
       " 'repondeur-plus.sfr.fr',\n",
       " 'i1-js-14-3-01-11074-30180342-i.init.cedexis-radar.net',\n",
       " 'i1-js-14-3-01-11074-398387422-i.init.cedexis-radar.net',\n",
       " 'i1-js-14-3-01-11074-927849796-i.init.cedexis-radar.net',\n",
       " 'adcontrol.cherchons.com',\n",
       " 'n32.hal9000.redintelligence.net',\n",
       " 'i1-js-14-3-01-11074-284935980-i.init.cedexis-radar.net',\n",
       " 'i1-js-14-3-01-11074-612430157-i.init.cedexis-radar.net',\n",
       " 'i1-js-14-3-01-11074-316992126-i.init.cedexis-radar.net',\n",
       " 'chart.apis.google.com',\n",
       " 'i1-js-14-3-01-11074-904400563-i.init.cedexis-radar.net',\n",
       " 'i1-js-14-3-01-11074-575348538-i.init.cedexis-radar.net',\n",
       " 'usercare.sfrbusinessteam.fr',\n",
       " 'i1-js-14-3-01-10013-251412791-i.init.cedexis-radar.net',\n",
       " 'i-cms.journaldesfemmes.com',\n",
       " 'builder.extensionfactory.com',\n",
       " 'i1-js-14-3-01-11074-353276956-i.init.cedexis-radar.net',\n",
       " 'mes-contacts.prodcache.services.sfr.fr',\n",
       " 'i1-js-14-3-01-11074-395780720-i.init.cedexis-radar.net',\n",
       " 'i1-js-14-3-01-11074-841442117-i.init.cedexis-radar.net',\n",
       " 'i1-js-14-3-01-11074-549019253-i.init.cedexis-radar.net',\n",
       " 'static.actusports.fr',\n",
       " 'i1-js-14-3-01-11074-112249999-i.init.cedexis-radar.net',\n",
       " 'player.kpsule.me',\n",
       " 'i1-js-14-3-01-10013-463160605-i.init.cedexis-radar.net',\n",
       " 'n11.hal9000.redintelligence.net',\n",
       " 'i1-js-14-3-01-10077-64220993-i.init.cedexis-radar.net',\n",
       " 'i1-js-14-3-01-11074-327372521-i.init.cedexis-radar.net',\n",
       " 'i1-js-14-3-01-11074-503806994-i.init.cedexis-radar.net',\n",
       " 'log.wat.tv',\n",
       " 'i1-js-14-3-01-11074-634663604-i.init.cedexis-radar.net',\n",
       " 'i1-js-14-3-01-11074-858120344-i.init.cedexis-radar.net',\n",
       " 'i1-js-14-3-01-11074-951901829-i.init.cedexis-radar.net',\n",
       " 'dtm.neimanmarcus.com',\n",
       " 'i1-js-14-3-01-11074-845302217-i.init.cedexis-radar.net',\n",
       " 'i1-js-14-3-01-11074-628679255-i.init.cedexis-radar.net',\n",
       " 'i1-js-14-3-01-11074-495276254-i.init.cedexis-radar.net',\n",
       " 'i1-js-14-3-01-11074-559166605-i.init.cedexis-radar.net',\n",
       " 'i1-js-14-3-01-11074-282633360-i.init.cedexis-radar.net',\n",
       " 'i1-js-14-3-01-11074-351655098-i.init.cedexis-radar.net',\n",
       " 'html1.scribdassets.com',\n",
       " 'i1.wp.com',\n",
       " 'i1-js-14-3-01-11074-333081586-i.init.cedexis-radar.net',\n",
       " 'i1-js-14-3-01-11074-911386428-i.init.cedexis-radar.net',\n",
       " 'n18.hal9000.redintelligence.net',\n",
       " 'tile.openstreetmap.org',\n",
       " 'i1-js-14-3-01-11074-142065188-i.init.cedexis-radar.net',\n",
       " 'gravatar.com',\n",
       " 'static.buzzerie.com',\n",
       " 'i1-js-14-3-01-11074-271007771-i.init.cedexis-radar.net',\n",
       " 'www.grouponitalia.com',\n",
       " 'i1-js-14-3-01-11074-915486961-i.init.cedexis-radar.net',\n",
       " 'n31.hal9000.redintelligence.net',\n",
       " 'i1-js-14-3-01-11074-731604999-i.init.cedexis-radar.net',\n",
       " 'i1-js-14-3-01-11074-615488373-i.init.cedexis-radar.net',\n",
       " 'i1-js-14-3-01-11074-381971529-i.init.cedexis-radar.net',\n",
       " 'cid-314a98b7df2708d0.users.storage.live.com',\n",
       " 'style.ad6.fr',\n",
       " 'i1-js-14-3-01-11074-587171993-i.init.cedexis-radar.net',\n",
       " 'www.livredelire.com',\n",
       " 'i2.ytimg.com',\n",
       " 'i1-js-14-3-01-11074-589340895-i.init.cedexis-radar.net',\n",
       " 'i1-js-14-3-01-11074-413066057-i.init.cedexis-radar.net',\n",
       " 'i1-js-14-3-01-11074-751877141-i.init.cedexis-radar.net',\n",
       " 'i1-js-14-3-01-11074-221367235-i.init.cedexis-radar.net',\n",
       " 'cpm.bazoto.com',\n",
       " 'i1-js-14-3-01-10005-701909503-i.init.cedexis-radar.net',\n",
       " 'i1-js-14-3-01-10044-887478618-i.init.cedexis-radar.net',\n",
       " 'i1-js-14-3-01-11074-854114396-i.init.cedexis-radar.net',\n",
       " 'affiliation.service-voyages.com',\n",
       " 'www2.lequipe.fr',\n",
       " 'n39.hal9000.redintelligence.net',\n",
       " 'i1-js-14-3-01-11074-300071794-i.init.cedexis-radar.net',\n",
       " 'fastly.cedexis.com',\n",
       " 'ffc.linternaute.com',\n",
       " 'i1-js-14-3-01-11074-314724871-i.init.cedexis-radar.net',\n",
       " 'internet3gplus.sfr.fr',\n",
       " 'integ.securitemobile.sfr.fr',\n",
       " 'feeds.delicious.com',\n",
       " 'i1-js-14-3-01-11074-392057817-i.init.cedexis-radar.net',\n",
       " 'i1-js-14-3-01-11074-879752372-i.init.cedexis-radar.net',\n",
       " 'i1-js-14-3-01-11074-417404392-i.init.cedexis-radar.net',\n",
       " 'www.actusports.fr',\n",
       " 'g.msn.com',\n",
       " 'espace-client.m.sfr.fr',\n",
       " 'i1-js-14-3-01-11074-512226758-i.init.cedexis-radar.net',\n",
       " 'i1-js-14-3-01-11074-61911798-i.init.cedexis-radar.net',\n",
       " 'i1-js-14-3-01-11074-505365890-i.init.cedexis-radar.net',\n",
       " 'sharetv.org',\n",
       " 'dqbgy0ozmibf8.cloudfront.net',\n",
       " 'media.cadeaux.com',\n",
       " 'dtm.officemax.com',\n",
       " 'i22.servimg.com',\n",
       " 'emploi.nouvelobs.com',\n",
       " 'i1-js-14-3-01-11074-92524777-i.init.cedexis-radar.net',\n",
       " 'atelier.sfr.fr',\n",
       " 'i1-js-14-3-01-11074-60155507-i.init.cedexis-radar.net',\n",
       " 'mb.regionsjob.com',\n",
       " 'i1-js-14-3-01-10013-870091476-i.init.cedexis-radar.net',\n",
       " 'i1-js-14-3-01-11074-678213018-i.init.cedexis-radar.net',\n",
       " 'i1-js-14-3-01-11074-20615786-i.init.cedexis-radar.net',\n",
       " 'i1-js-14-3-01-11074-51513411-i.init.cedexis-radar.net',\n",
       " 'i1-js-14-3-01-11074-74407723-i.init.cedexis-radar.net',\n",
       " 'tf1.fr',\n",
       " 'player.vimeo.com',\n",
       " 'controle-acces.sfr.fr.staging.sfrpims.fr',\n",
       " 'i1-js-14-3-01-11074-568585863-i.init.cedexis-radar.net',\n",
       " 'i1-js-14-3-01-11074-87293069-i.init.cedexis-radar.net',\n",
       " 'mail.yahoo.com',\n",
       " 'thesasreference.wordpress.com',\n",
       " 'i1-js-14-3-01-11074-40954658-i.init.cedexis-radar.net',\n",
       " 'i1-js-14-3-01-11074-974661503-i.init.cedexis-radar.net',\n",
       " 'dnn506yrbagrg.cloudfront.net',\n",
       " 'i1-js-14-3-01-11074-739215093-i.init.cedexis-radar.net',\n",
       " 'i1-js-14-3-01-11074-871132696-i.init.cedexis-radar.net',\n",
       " 'i1-js-14-3-01-11074-886191759-i.init.cedexis-radar.net',\n",
       " 'cip.gagnoo.com',\n",
       " 'i1-js-14-3-01-11074-981670202-i.init.cedexis-radar.net',\n",
       " 'neufbox.sfr.fr',\n",
       " 'i1-js-14-3-01-11074-674582507-i.init.cedexis-radar.net',\n",
       " 'i1-js-14-3-01-11074-826550791-i.init.cedexis-radar.net',\n",
       " 'player.mediabong.net',\n",
       " 'go.trouter.io',\n",
       " 'ocsp.csctrustedsecure.com',\n",
       " 'www.chainedespuys-failledelimagne.com',\n",
       " 'i.neoseeker.com',\n",
       " 'fr-fr.facebook.com',\n",
       " 'i1-js-14-3-01-11074-900485661-i.init.cedexis-radar.net',\n",
       " 'ohlone.vizu.com',\n",
       " 'i1-js-14-3-01-11074-603451701-i.init.cedexis-radar.net',\n",
       " 'i1-js-14-3-01-11074-470364725-i.init.cedexis-radar.net',\n",
       " 'cloud.ger.leaseweb.bench.cedexis.com',\n",
       " 'i1-js-14-3-01-11074-889446074-i.init.cedexis-radar.net',\n",
       " 'n12.hal9000.redintelligence.net',\n",
       " 'i1-js-14-3-01-11074-119249028-i.init.cedexis-radar.net',\n",
       " 'pp-presse.sfr.fr',\n",
       " 'i1-js-14-3-01-11074-190330828-i.init.cedexis-radar.net',\n",
       " 'i1-js-14-3-01-11074-540323040-i.init.cedexis-radar.net',\n",
       " 'i1-js-14-3-01-11074-704473455-i.init.cedexis-radar.net',\n",
       " 'i1-js-14-3-01-11074-699921704-i.init.cedexis-radar.net',\n",
       " 'i1-js-14-3-01-11074-207212615-i.init.cedexis-radar.net',\n",
       " 'i1-js-14-3-01-11074-995540064-i.init.cedexis-radar.net',\n",
       " 'i1-js-14-3-01-11074-231405084-i.init.cedexis-radar.net',\n",
       " 'alertesmobiles.services.sfr.fr',\n",
       " 'metrics.mathworks.com',\n",
       " 'i1-js-14-3-01-11074-228243362-i.init.cedexis-radar.net',\n",
       " 'i1-js-14-3-01-10044-698893547-i.init.cedexis-radar.net',\n",
       " 'dfw.rackspace.bench.cedexis.com',\n",
       " 'i1-js-14-3-01-11074-405370079-i.init.cedexis-radar.net',\n",
       " 'priceminister.pfxlive.com',\n",
       " 'balsamik.commander1.com',\n",
       " 'i1-js-14-3-01-10013-419876254-i.init.cedexis-radar.net',\n",
       " 'p.typekit.net',\n",
       " 'i1-js-14-3-01-11074-44102482-i.init.cedexis-radar.net',\n",
       " 'retargeting.veoxa.com',\n",
       " 'people.directory.live.com',\n",
       " 'dw1.s81c.com',\n",
       " 'test-billing.funinfo.sfr.fr',\n",
       " 'mail.live.com',\n",
       " 'i1-js-14-3-01-11074-606903505-i.init.cedexis-radar.net',\n",
       " 'i1-js-14-3-01-11074-132211233-i.init.cedexis-radar.net',\n",
       " 'i1-js-14-3-01-11074-383417193-i.init.cedexis-radar.net',\n",
       " 'i1-js-14-3-01-11074-305185178-i.init.cedexis-radar.net',\n",
       " 'nsa34.casimages.com',\n",
       " 'i1-js-14-3-01-11074-232497260-i.init.cedexis-radar.net',\n",
       " 'homescope.sfr.fr',\n",
       " 'i1-js-14-3-01-11074-30589317-i.init.cedexis-radar.net',\n",
       " 'i1-js-14-3-01-11074-955340548-i.init.cedexis-radar.net',\n",
       " 'i1-js-14-3-01-11074-387306612-i.init.cedexis-radar.net',\n",
       " 'i1-js-14-3-01-11074-124640180-i.init.cedexis-radar.net',\n",
       " 'mt0.googleapis.com',\n",
       " 'nb-commons.storage.googleapis.com',\n",
       " 'www.beead.fr',\n",
       " 'controle-acces.m.sfr.fr',\n",
       " 'a01.gestionpub.com',\n",
       " 'contact-mobile.sfr.fr',\n",
       " 'mes-contacts.services.sfr.fr',\n",
       " 'i1-js-14-3-01-10292-382057998-i.init.cedexis-radar.net',\n",
       " 'leplus.nouvelobs.com',\n",
       " 'i1-js-14-3-01-11074-447703800-i.init.cedexis-radar.net',\n",
       " 'api-leplus.nouvelobs.com',\n",
       " 'i1-js-14-3-01-11074-645613144-i.init.cedexis-radar.net',\n",
       " 'i1-js-14-3-01-11074-81920436-i.init.cedexis-radar.net',\n",
       " 'i1-js-14-3-01-11074-967807185-i.init.cedexis-radar.net',\n",
       " 'www.2012.lesechos.fr',\n",
       " 'dae.linternaute.com',\n",
       " 'i1-js-14-3-01-11074-323680647-i.init.cedexis-radar.net',\n",
       " 'i1-js-14-3-01-11074-29182819-i.init.cedexis-radar.net',\n",
       " 'dynamic.cedexis.com',\n",
       " 'i1-js-14-3-01-11074-442983076-i.init.cedexis-radar.net',\n",
       " 'i2.services.social.microsoft.com',\n",
       " 'widgets.sportsevents365.com',\n",
       " 'i1-js-14-3-01-10292-772857118-i.init.cedexis-radar.net',\n",
       " 'i1-js-14-3-01-11074-780736393-i.init.cedexis-radar.net',\n",
       " 'www.gravatar.com',\n",
       " 'i1-js-14-3-01-11074-676016927-i.init.cedexis-radar.net',\n",
       " 'i1-js-14-3-01-11074-865615324-i.init.cedexis-radar.net',\n",
       " 's7.scribdassets.com',\n",
       " 'www.pagesjaunes.fr',\n",
       " 'i1-js-14-3-01-11074-250733537-i.init.cedexis-radar.net',\n",
       " 'i1-js-14-3-01-11074-22107957-i.init.cedexis-radar.net',\n",
       " 'box.sfr.fr',\n",
       " 'eulerian.telechargement.fr',\n",
       " 'i1-js-14-3-01-11074-468534328-i.init.cedexis-radar.net',\n",
       " 'controle-acces.m.sfr.fr.staging.sfrpims.fr',\n",
       " 'billing.funinfo.sfr.fr',\n",
       " 'i1-js-14-3-01-11074-518884641-i.init.cedexis-radar.net',\n",
       " 'i1-js-14-3-01-11074-708345336-i.init.cedexis-radar.net',\n",
       " 'i1-js-14-3-01-11074-493308000-i.init.cedexis-radar.net',\n",
       " 'i1-js-14-3-01-11074-239188531-i.init.cedexis-radar.net',\n",
       " 'i1-js-14-3-01-11074-77211831-i.init.cedexis-radar.net',\n",
       " 'i1-js-14-3-01-11074-609792024-i.init.cedexis-radar.net',\n",
       " 'i1-js-14-3-01-11074-547852630-i.init.cedexis-radar.net',\n",
       " 'r.linter.fr',\n",
       " 'i1-js-14-3-01-11074-587473332-i.init.cedexis-radar.net',\n",
       " 'promoslive-sfr.services.sfr.fr',\n",
       " 'webe.emv3.com',\n",
       " 'static.ladepeche.fr',\n",
       " 'i1-js-14-3-01-11074-302260604-i.init.cedexis-radar.net',\n",
       " 'i1-js-14-3-01-11074-555218475-i.init.cedexis-radar.net',\n",
       " 'rr.office.microsoft.com',\n",
       " 'n14.hal9000.redintelligence.net',\n",
       " 'i1-js-14-3-01-11074-600624417-i.init.cedexis-radar.net',\n",
       " 'media3.cadeaux.com',\n",
       " 'i1-js-14-3-01-11074-150862638-i.init.cedexis-radar.net',\n",
       " 'image.noelshack.com',\n",
       " 'i1-js-14-3-01-11074-112627276-i.init.cedexis-radar.net',\n",
       " 'measure.20mn.fr',\n",
       " 'i1-js-14-3-01-11074-228326134-i.init.cedexis-radar.net',\n",
       " 'i1-js-14-3-01-11074-99731863-i.init.cedexis-radar.net',\n",
       " 'video.ccmbg.com',\n",
       " 'i1-js-14-3-01-11074-496659573-i.init.cedexis-radar.net',\n",
       " 'i1-js-14-3-01-11074-972407826-i.init.cedexis-radar.net',\n",
       " 'i1-js-14-3-01-11074-706995299-i.init.cedexis-radar.net',\n",
       " 'n10.hal9000.redintelligence.net',\n",
       " 'i1-js-14-3-01-11074-975529973-i.init.cedexis-radar.net',\n",
       " 'i1-js-14-3-01-11074-621190726-i.init.cedexis-radar.net',\n",
       " 'i1-js-14-3-01-11074-45174914-i.init.cedexis-radar.net',\n",
       " 'hubster.sfr.fr',\n",
       " 'i1-js-14-3-01-11074-747792250-i.init.cedexis-radar.net',\n",
       " 'controle-acces.sfr.fr',\n",
       " 'parrainage-red.sfr.fr',\n",
       " 'media4.cadeaux.com',\n",
       " 'i1-js-14-3-01-11074-22364575-i.init.cedexis-radar.net',\n",
       " 'm.ad6media.fr',\n",
       " 'i1-js-14-3-01-11074-472837329-i.init.cedexis-radar.net',\n",
       " 'sfr.fr',\n",
       " 'media.notrefamille.com',\n",
       " 'dtm.weddingpaperdivas.com',\n",
       " 'en.wikipedia.org',\n",
       " 'locdrop.query.yahoo.com',\n",
       " 'www.iro.umontreal.ca',\n",
       " 'contacteznous.sfr.fr',\n",
       " 'i1-js-14-3-01-11074-148253993-i.init.cedexis-radar.net',\n",
       " 'i1-js-14-3-01-11074-571028958-i.init.cedexis-radar.net',\n",
       " 'presse.sfr.fr',\n",
       " 'i1-js-14-3-01-10013-34461336-i.init.cedexis-radar.net',\n",
       " 'i1-js-14-3-01-11074-449271687-i.init.cedexis-radar.net',\n",
       " 'i1-js-14-3-01-11074-862051783-i.init.cedexis-radar.net',\n",
       " 'thesasreference.files.wordpress.com',\n",
       " 'n16.hal9000.redintelligence.net',\n",
       " 'i1-js-14-3-01-11074-949427632-i.init.cedexis-radar.net',\n",
       " 'i1-js-14-3-01-11074-330733747-i.init.cedexis-radar.net',\n",
       " 'i1-js-14-3-01-11074-701444982-i.init.cedexis-radar.net',\n",
       " 'cms.sfr.fr',\n",
       " 'images.buzzerie.com',\n",
       " 'ca.sfr.im',\n",
       " 'r1---sn-gxo5uxg-jqbe.googlevideo.com',\n",
       " 'i1-js-14-3-01-11074-965602517-i.init.cedexis-radar.net',\n",
       " 'i1-js-14-3-01-11074-667743548-i.init.cedexis-radar.net',\n",
       " 'i1-js-14-3-01-11074-944500475-i.init.cedexis-radar.net',\n",
       " 'i1-js-14-3-01-11074-628913321-i.init.cedexis-radar.net',\n",
       " 'n27.hal9000.redintelligence.net',\n",
       " 'secure.shared.live.com',\n",
       " 'i1-js-14-3-01-11074-266576264-i.init.cedexis-radar.net',\n",
       " 'i1-js-14-3-01-11074-556355125-i.init.cedexis-radar.net',\n",
       " 'i1-js-14-3-01-11074-766779839-i.init.cedexis-radar.net',\n",
       " 'i1-js-14-3-01-11074-677152511-i.init.cedexis-radar.net',\n",
       " 'dtm.kidsfootlocker.com',\n",
       " 'i1-js-14-3-01-11074-410195132-i.init.cedexis-radar.net',\n",
       " 'media.wow-europe.com',\n",
       " 'espace.netavenir.com',\n",
       " 'www.slideshare.net',\n",
       " 'i1-js-14-3-01-10044-587606237-i.init.cedexis-radar.net',\n",
       " 'i1-js-14-3-01-11074-390166798-i.init.cedexis-radar.net',\n",
       " 'livepass.sfr.fr',\n",
       " 'i2.wp.com',\n",
       " 'i1-js-14-3-01-11074-313497179-i.init.cedexis-radar.net',\n",
       " 'jeux-netbook.sfr.fr',\n",
       " 'i1-js-14-3-01-11074-743479063-i.init.cedexis-radar.net',\n",
       " 'n21.hal9000.redintelligence.net',\n",
       " 'i1-js-14-3-01-11074-420491346-i.init.cedexis-radar.net',\n",
       " 'services.kpsule.me',\n",
       " 'i1-js-14-3-01-11074-758263039-i.init.cedexis-radar.net',\n",
       " 'i1-js-14-3-01-11074-885375756-i.init.cedexis-radar.net',\n",
       " 'i1-js-14-3-01-11074-621898-i.init.cedexis-radar.net',\n",
       " 'i1-js-14-3-01-11074-618139647-i.init.cedexis-radar.net',\n",
       " 'i1-js-14-3-01-11074-59237734-i.init.cedexis-radar.net',\n",
       " 'i1-js-14-3-01-11074-844105972-i.init.cedexis-radar.net',\n",
       " 'media2.cadeaux.com',\n",
       " 'wwwimages.adobe.com',\n",
       " 'i1-js-14-3-01-11074-520838911-i.init.cedexis-radar.net',\n",
       " 'tngs0vuzab.s.ad6media.fr',\n",
       " 'i1-js-14-3-01-11074-212110788-i.init.cedexis-radar.net',\n",
       " 'i1-js-14-3-01-11074-444343838-i.init.cedexis-radar.net',\n",
       " 'i1-js-14-3-01-11074-39513741-i.init.cedexis-radar.net',\n",
       " 'i1-js-14-3-01-11074-511974263-i.init.cedexis-radar.net',\n",
       " 'n0ql04rx2i.s.ad6media.fr',\n",
       " 'cfa.priceminister.com',\n",
       " 'i1-js-14-3-01-11074-883182789-i.init.cedexis-radar.net',\n",
       " 'i1-js-14-3-01-10077-437348255-i.init.cedexis-radar.net',\n",
       " 'import-contacts.sfr.fr',\n",
       " 'i1-js-14-3-01-11074-412844909-i.init.cedexis-radar.net',\n",
       " 'i1-js-14-3-01-10044-124735482-i.init.cedexis-radar.net',\n",
       " 'i1-js-14-3-01-11074-472308438-i.init.cedexis-radar.net',\n",
       " 'www.blogblog.com',\n",
       " 'i1-js-14-3-01-11074-921886614-i.init.cedexis-radar.net',\n",
       " 'i1-js-14-3-01-11074-273588437-i.init.cedexis-radar.net',\n",
       " 'tv.sfr.fr',\n",
       " 'i1-js-14-3-01-11074-481238323-i.init.cedexis-radar.net',\n",
       " 'static.ad4mat.net',\n",
       " 'i1-js-14-3-01-11074-599474236-i.init.cedexis-radar.net',\n",
       " 'i1-js-14-3-01-10044-931404436-i.init.cedexis-radar.net',\n",
       " 'ps3-loc.mediagen.fr',\n",
       " 'i1-js-14-3-01-11074-651025060-i.init.cedexis-radar.net',\n",
       " 'i1-js-14-3-01-10013-450222090-i.init.cedexis-radar.net',\n",
       " 'i1-js-14-3-01-11074-439518065-i.init.cedexis-radar.net',\n",
       " 'presse-sfr-fr-dev.sfrpims.fr',\n",
       " 'cyrillus.commander1.com',\n",
       " 'i1-js-14-3-01-11074-118052159-i.init.cedexis-radar.net',\n",
       " 'i1-js-14-3-01-11074-306060024-i.init.cedexis-radar.net',\n",
       " 'ca.m.sfr.im',\n",
       " 'i1-js-14-3-01-11074-557796513-i.init.cedexis-radar.net',\n",
       " 'i1-js-14-3-01-11074-803125830-i.init.cedexis-radar.net',\n",
       " 'i1-js-14-3-01-11074-979797392-i.init.cedexis-radar.net',\n",
       " 'dumas.ccsd.cnrs.fr',\n",
       " 'i1-js-14-3-01-11074-16748872-i.init.cedexis-radar.net',\n",
       " 'i1-js-14-3-01-11074-863883961-i.init.cedexis-radar.net',\n",
       " 'i1-js-14-3-01-11074-639646207-i.init.cedexis-radar.net',\n",
       " 'i1-js-14-3-01-10013-489174752-i.init.cedexis-radar.net',\n",
       " 'i1-js-14-3-01-11074-146531781-i.init.cedexis-radar.net',\n",
       " 'i1-js-14-3-01-11074-676250759-i.init.cedexis-radar.net',\n",
       " 'i1-js-14-3-01-11074-415607820-i.init.cedexis-radar.net',\n",
       " 'n9.hal9000.redintelligence.net',\n",
       " 'viafoura.s3.amazonaws.com',\n",
       " 'ssobs.nouvelobs.com',\n",
       " 'n40.hal9000.redintelligence.net',\n",
       " 'i1-js-14-3-01-11074-384795426-i.init.cedexis-radar.net',\n",
       " 'i1-js-14-3-01-11074-444250899-i.init.cedexis-radar.net',\n",
       " 'msc3.s-sfr.fr',\n",
       " 'sita-atl.bench.cedexis.com',\n",
       " 'i1-js-14-3-01-11074-73116105-i.init.cedexis-radar.net',\n",
       " 'membership.square-enix.com',\n",
       " 'forum.sfr.fr',\n",
       " 'i1-js-14-3-01-11074-487792566-i.init.cedexis-radar.net',\n",
       " 'office14client.microsoft.com',\n",
       " 'i1-js-14-3-01-11074-888592306-i.init.cedexis-radar.net',\n",
       " 'i1-js-14-3-01-11074-417527730-i.init.cedexis-radar.net',\n",
       " 'i1-js-14-3-01-11074-373108888-i.init.cedexis-radar.net',\n",
       " 'i1-js-14-3-01-11074-776028480-i.init.cedexis-radar.net',\n",
       " 'pics.bourse.lesechos.com',\n",
       " 'i1-js-14-3-01-11074-265180716-i.init.cedexis-radar.net',\n",
       " 'static.ebz.io',\n",
       " 'sa.tf1.fr',\n",
       " 'i1-js-14-3-01-11074-192851304-i.init.cedexis-radar.net',\n",
       " 'fae.linternaute.com',\n",
       " 'contextweb-match.dotomi.com',\n",
       " 'r.kelkoo.com',\n",
       " 'www.webcompteur.com',\n",
       " 'i1-js-14-3-01-11074-449881507-i.init.cedexis-radar.net',\n",
       " 'priceminister.ezakus.net',\n",
       " 'codeorigin.jquery.com',\n",
       " 'www.math.univ-montp2.fr',\n",
       " 'www.dissidia-france.com',\n",
       " 'i1-js-14-3-01-11074-625661358-i.init.cedexis-radar.net',\n",
       " 'n22.hal9000.redintelligence.net',\n",
       " 'i1-js-14-3-01-11074-681131925-i.init.cedexis-radar.net',\n",
       " '7fa6l6mbu9.b.ad6media.fr',\n",
       " 'logc258.at.pagesjaunes.fr',\n",
       " 'i1-js-14-3-01-11074-396307207-i.init.cedexis-radar.net',\n",
       " 'www.powerarchiver.com',\n",
       " 'i1-js-14-3-01-11074-297407461-i.init.cedexis-radar.net',\n",
       " 'fr-himedia.videoplaza.tv',\n",
       " 'i1-js-14-3-01-11074-477479267-i.init.cedexis-radar.net',\n",
       " 'stat.ethz.ch',\n",
       " 'ad.foxitsoftware.com',\n",
       " 'i1-js-14-3-01-11074-492333904-i.init.cedexis-radar.net',\n",
       " 'i1-js-14-3-01-11074-260579437-i.init.cedexis-radar.net',\n",
       " 'www.adobe.com',\n",
       " 'i1-js-14-3-01-11074-943717313-i.init.cedexis-radar.net',\n",
       " 'i1-js-14-3-01-11074-543564190-i.init.cedexis-radar.net',\n",
       " 'cdn3.host.nouvelobs.com',\n",
       " 'i1-js-14-3-01-11074-73003760-i.init.cedexis-radar.net',\n",
       " 'lelab.europe1.fr',\n",
       " 'i1-js-14-3-01-11074-833293475-i.init.cedexis-radar.net',\n",
       " 'i1-js-14-3-01-11074-616681726-i.init.cedexis-radar.net',\n",
       " 'i1-js-14-3-01-11074-810602108-i.init.cedexis-radar.net',\n",
       " 'i1-js-14-3-01-10013-138814785-i.init.cedexis-radar.net',\n",
       " 'i1-js-14-3-01-11074-657632222-i.init.cedexis-radar.net',\n",
       " 'dev-presse.sfr.fr',\n",
       " 'i1-js-14-3-01-11074-237956322-i.init.cedexis-radar.net',\n",
       " 'zurich.cloudsigma.cedexis.com',\n",
       " 'i1-js-14-3-01-11074-560722072-i.init.cedexis-radar.net',\n",
       " 'i1-js-14-3-01-11074-845452184-i.init.cedexis-radar.net',\n",
       " 'i1-js-14-3-01-11074-296624272-i.init.cedexis-radar.net',\n",
       " 'www.gmail.com',\n",
       " 'vm.ger.leaseweb.bench.cedexis.com',\n",
       " 'xml.betclick.com',\n",
       " 'ecn.api.tiles.virtualearth.net',\n",
       " 's233.meetrics.net',\n",
       " 'i1-js-14-3-01-11074-38730156-i.init.cedexis-radar.net',\n",
       " 'media1.cadeaux.com',\n",
       " 'raksmey.fr',\n",
       " 'i1-js-14-3-01-11074-469259206-i.init.cedexis-radar.net',\n",
       " 'i1-js-14-3-01-11074-991572872-i.init.cedexis-radar.net',\n",
       " 'f995d2.r.axf8.net',\n",
       " 'i1-js-14-3-01-10083-735992672-i.init.cedexis-radar.net',\n",
       " 'n7.hal9000.redintelligence.net',\n",
       " 'i1-js-14-3-01-11074-793832121-i.init.cedexis-radar.net',\n",
       " 'www.mediapeo2.com',\n",
       " 'i1-js-14-3-01-11074-618659898-i.init.cedexis-radar.net',\n",
       " 'ftn.fortuneo.fr',\n",
       " 'i1-js-14-3-01-11074-554567228-i.init.cedexis-radar.net',\n",
       " 'fon.sfr.fr',\n",
       " 'doug1izaerwt3.cloudfront.net',\n",
       " 'i1-js-14-3-01-11074-198879476-i.init.cedexis-radar.net',\n",
       " 'i1-js-14-3-01-11074-469300881-i.init.cedexis-radar.net',\n",
       " 'i1-js-14-3-01-11074-989642833-i.init.cedexis-radar.net',\n",
       " 'i1-js-14-3-01-11074-638645016-i.init.cedexis-radar.net',\n",
       " 'dm.c.ooyala.com',\n",
       " 'i1-js-14-3-01-11074-481415685-i.init.cedexis-radar.net',\n",
       " 'fpdownload.adobe.com',\n",
       " 'i1-js-14-3-01-11074-547899239-i.init.cedexis-radar.net',\n",
       " 'uk.savvis.bench.cedexis.com',\n",
       " 'securitemobile.sfr.fr',\n",
       " 'i1-js-14-3-01-11074-158466354-i.init.cedexis-radar.net',\n",
       " 'i1-js-14-3-01-11074-670185273-i.init.cedexis-radar.net',\n",
       " 'www.outiror.com',\n",
       " 'sauvegarde-sim.sfr.fr',\n",
       " 'i1-js-14-3-01-10044-817413878-i.init.cedexis-radar.net',\n",
       " 'i1-js-14-3-01-11074-598768507-i.init.cedexis-radar.net',\n",
       " 'i1-js-14-3-01-11074-397027401-i.init.cedexis-radar.net',\n",
       " 'i1-js-14-3-01-11074-830962188-i.init.cedexis-radar.net',\n",
       " 'services.highbeam.com',\n",
       " 'i1-js-14-3-01-11074-905782560-i.init.cedexis-radar.net',\n",
       " 'i1-js-14-3-01-11074-964965423-i.init.cedexis-radar.net',\n",
       " 'i1-js-14-3-01-11074-751033750-i.init.cedexis-radar.net',\n",
       " 'math.agrocampus-ouest.fr',\n",
       " 'monprofil.sfr.fr',\n",
       " 'i1-js-14-3-01-11074-143583793-i.init.cedexis-radar.net',\n",
       " 'i1-js-14-3-01-11074-148063127-i.init.cedexis-radar.net',\n",
       " 'www.uaredesign.com',\n",
       " 'i1-js-14-3-01-11074-560491595-i.init.cedexis-radar.net',\n",
       " 'share.static.skyrock.net',\n",
       " 'dtm.potterybarn.com',\n",
       " 'files.player.mediabong.com',\n",
       " 'ocsp2.globalsign.com',\n",
       " 'h2.msn.com',\n",
       " 'storage.live.com',\n",
       " 'i1-js-14-3-01-11074-284363696-i.init.cedexis-radar.net',\n",
       " 'i1-js-14-3-01-11074-618719384-i.init.cedexis-radar.net',\n",
       " 'integrate.factiva.com',\n",
       " 'i1-js-14-3-01-11074-66765346-i.init.cedexis-radar.net',\n",
       " 'i1-js-14-3-01-11074-582192363-i.init.cedexis-radar.net',\n",
       " 'i1-js-14-3-01-11074-288962180-i.init.cedexis-radar.net',\n",
       " 'i1-js-14-3-01-11074-870880951-i.init.cedexis-radar.net',\n",
       " 'i1-js-14-3-01-11074-130745744-i.init.cedexis-radar.net',\n",
       " 'mts0.google.com',\n",
       " 'mts1.google.com',\n",
       " 'khms1.google.fr',\n",
       " 'khms0.google.fr',\n",
       " 'osm.geobretagne.fr',\n",
       " 'maps.google.fr',\n",
       " 'dub116.mail.live.com',\n",
       " 'www.google.com.pe',\n",
       " 'www.games-workshop.com',\n",
       " 'mts3.google.com',\n",
       " 'mts2.google.com',\n",
       " 'fr.msn.com',\n",
       " 'www.coutellerie-tourangelle.com',\n",
       " 'proxy-bay-people.directory.live.com',\n",
       " 'fansubresistance.in',\n",
       " 'img.babylon.com',\n",
       " 'vp-eu.scene7.com',\n",
       " 'www.lordoftheringswords.com',\n",
       " 'www.mindat.org',\n",
       " 'dub128.mail.live.com',\n",
       " 'fr.vente-privee.com',\n",
       " 'ia.nspmotion.com',\n",
       " 'translate.google.fr',\n",
       " 'apikeys.civiccomputing.com',\n",
       " 'hub.video.msn.com',\n",
       " 'www.ngwinfo.com',\n",
       " 'eros.usgs.gov',\n",
       " 'c.fr.msn.com',\n",
       " 'img1.video.s-msn.com',\n",
       " 'www.rhul.ac.uk',\n",
       " 'www.caisse-epargne.fr',\n",
       " 'picda.ilius.net',\n",
       " 'cid-0f9a1ff31470c0bc.users.storage.live.com',\n",
       " '85.17.77.13',\n",
       " 'ac.babsrv.com',\n",
       " 'www.lightinthebox.com',\n",
       " 'sci.sciences.univ-bpclermont.fr',\n",
       " 'www.lagardedenuit.com',\n",
       " ...]"
      ]
     },
     "execution_count": 123,
     "metadata": {},
     "output_type": "execute_result"
    }
   ],
   "source": [
    "list(site_freqs)"
   ]
  },
  {
   "cell_type": "markdown",
   "metadata": {},
   "source": [
    "## Пути улучшения\n",
    "Что еще можно добавить по второй части проекта:\n",
    "- можно дополнительно рассматривать сессии с параметром – длиной сессии по времени. И составить выборки, скажем, для 5-, 10-, 15- и 20-минутных сессий (это как раз пригодится в [соревновании](https://inclass.kaggle.com/c/catch-me-if-you-can-intruder-detection-through-webpage-session-tracking2) Kaggle Inclass)\n",
    "- можно провести больше первичного анализа и проверять прочие интересные гипотезы (а больше их появится после создания признаков на следующей неделе)\n",
    "\n",
    "На 3 неделе мы займемся визуальным анализом данных и построением признаков."
   ]
  }
 ],
 "metadata": {
  "anaconda-cloud": {},
  "kernelspec": {
   "display_name": "Python 3",
   "language": "python",
   "name": "python3"
  },
  "language_info": {
   "codemirror_mode": {
    "name": "ipython",
    "version": 3
   },
   "file_extension": ".py",
   "mimetype": "text/x-python",
   "name": "python",
   "nbconvert_exporter": "python",
   "pygments_lexer": "ipython3",
   "version": "3.6.1"
  }
 },
 "nbformat": 4,
 "nbformat_minor": 1
}
